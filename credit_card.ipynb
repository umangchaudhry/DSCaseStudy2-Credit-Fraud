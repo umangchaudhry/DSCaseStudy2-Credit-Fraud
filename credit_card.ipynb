{
  "nbformat": 4,
  "nbformat_minor": 0,
  "metadata": {
    "colab": {
      "name": "credit card.ipynb",
      "provenance": [],
      "collapsed_sections": []
    },
    "kernelspec": {
      "name": "python3",
      "display_name": "Python 3"
    },
    "widgets": {
      "application/vnd.jupyter.widget-state+json": {
        "ae21e6583db94bfb9f89e63f78cd4a31": {
          "model_module": "@jupyter-widgets/controls",
          "model_name": "HBoxModel",
          "state": {
            "_view_name": "HBoxView",
            "_dom_classes": [],
            "_model_name": "HBoxModel",
            "_view_module": "@jupyter-widgets/controls",
            "_model_module_version": "1.5.0",
            "_view_count": null,
            "_view_module_version": "1.5.0",
            "box_style": "",
            "layout": "IPY_MODEL_ade3f564f5bc42acb3e38a041a508808",
            "_model_module": "@jupyter-widgets/controls",
            "children": [
              "IPY_MODEL_a6f8ee1331d14f33bb371bc6351b238f",
              "IPY_MODEL_9143449cceb046ac894cd4b4bcf099f4",
              "IPY_MODEL_b3e143117d634a2c9e231273909445db"
            ]
          }
        },
        "ade3f564f5bc42acb3e38a041a508808": {
          "model_module": "@jupyter-widgets/base",
          "model_name": "LayoutModel",
          "state": {
            "_view_name": "LayoutView",
            "grid_template_rows": null,
            "right": null,
            "justify_content": null,
            "_view_module": "@jupyter-widgets/base",
            "overflow": null,
            "_model_module_version": "1.2.0",
            "_view_count": null,
            "flex_flow": null,
            "width": null,
            "min_width": null,
            "border": null,
            "align_items": null,
            "bottom": null,
            "_model_module": "@jupyter-widgets/base",
            "top": null,
            "grid_column": null,
            "overflow_y": null,
            "overflow_x": null,
            "grid_auto_flow": null,
            "grid_area": null,
            "grid_template_columns": null,
            "flex": null,
            "_model_name": "LayoutModel",
            "justify_items": null,
            "grid_row": null,
            "max_height": null,
            "align_content": null,
            "visibility": null,
            "align_self": null,
            "height": null,
            "min_height": null,
            "padding": null,
            "grid_auto_rows": null,
            "grid_gap": null,
            "max_width": null,
            "order": null,
            "_view_module_version": "1.2.0",
            "grid_template_areas": null,
            "object_position": null,
            "object_fit": null,
            "grid_auto_columns": null,
            "margin": null,
            "display": null,
            "left": null
          }
        },
        "a6f8ee1331d14f33bb371bc6351b238f": {
          "model_module": "@jupyter-widgets/controls",
          "model_name": "HTMLModel",
          "state": {
            "_view_name": "HTMLView",
            "style": "IPY_MODEL_4a8cef5632b442e58ed87fd3f3e5a689",
            "_dom_classes": [],
            "description": "",
            "_model_name": "HTMLModel",
            "placeholder": "​",
            "_view_module": "@jupyter-widgets/controls",
            "_model_module_version": "1.5.0",
            "value": "Summarize dataset: 100%",
            "_view_count": null,
            "_view_module_version": "1.5.0",
            "description_tooltip": null,
            "_model_module": "@jupyter-widgets/controls",
            "layout": "IPY_MODEL_c686ee745370444cbd23f30174a3a188"
          }
        },
        "9143449cceb046ac894cd4b4bcf099f4": {
          "model_module": "@jupyter-widgets/controls",
          "model_name": "FloatProgressModel",
          "state": {
            "_view_name": "ProgressView",
            "style": "IPY_MODEL_6168287003814ad0976551d97ce7a62e",
            "_dom_classes": [],
            "description": "",
            "_model_name": "FloatProgressModel",
            "bar_style": "success",
            "max": 40,
            "_view_module": "@jupyter-widgets/controls",
            "_model_module_version": "1.5.0",
            "value": 40,
            "_view_count": null,
            "_view_module_version": "1.5.0",
            "orientation": "horizontal",
            "min": 0,
            "description_tooltip": null,
            "_model_module": "@jupyter-widgets/controls",
            "layout": "IPY_MODEL_8ca104628c864b3dbe104b6f6f3e1ca4"
          }
        },
        "b3e143117d634a2c9e231273909445db": {
          "model_module": "@jupyter-widgets/controls",
          "model_name": "HTMLModel",
          "state": {
            "_view_name": "HTMLView",
            "style": "IPY_MODEL_4b36a09359244d658352e57558783b1a",
            "_dom_classes": [],
            "description": "",
            "_model_name": "HTMLModel",
            "placeholder": "​",
            "_view_module": "@jupyter-widgets/controls",
            "_model_module_version": "1.5.0",
            "value": " 40/40 [00:07&lt;00:00,  5.36it/s, Completed]",
            "_view_count": null,
            "_view_module_version": "1.5.0",
            "description_tooltip": null,
            "_model_module": "@jupyter-widgets/controls",
            "layout": "IPY_MODEL_cc13f77f76324163b64a409307aca077"
          }
        },
        "4a8cef5632b442e58ed87fd3f3e5a689": {
          "model_module": "@jupyter-widgets/controls",
          "model_name": "DescriptionStyleModel",
          "state": {
            "_view_name": "StyleView",
            "_model_name": "DescriptionStyleModel",
            "description_width": "",
            "_view_module": "@jupyter-widgets/base",
            "_model_module_version": "1.5.0",
            "_view_count": null,
            "_view_module_version": "1.2.0",
            "_model_module": "@jupyter-widgets/controls"
          }
        },
        "c686ee745370444cbd23f30174a3a188": {
          "model_module": "@jupyter-widgets/base",
          "model_name": "LayoutModel",
          "state": {
            "_view_name": "LayoutView",
            "grid_template_rows": null,
            "right": null,
            "justify_content": null,
            "_view_module": "@jupyter-widgets/base",
            "overflow": null,
            "_model_module_version": "1.2.0",
            "_view_count": null,
            "flex_flow": null,
            "width": null,
            "min_width": null,
            "border": null,
            "align_items": null,
            "bottom": null,
            "_model_module": "@jupyter-widgets/base",
            "top": null,
            "grid_column": null,
            "overflow_y": null,
            "overflow_x": null,
            "grid_auto_flow": null,
            "grid_area": null,
            "grid_template_columns": null,
            "flex": null,
            "_model_name": "LayoutModel",
            "justify_items": null,
            "grid_row": null,
            "max_height": null,
            "align_content": null,
            "visibility": null,
            "align_self": null,
            "height": null,
            "min_height": null,
            "padding": null,
            "grid_auto_rows": null,
            "grid_gap": null,
            "max_width": null,
            "order": null,
            "_view_module_version": "1.2.0",
            "grid_template_areas": null,
            "object_position": null,
            "object_fit": null,
            "grid_auto_columns": null,
            "margin": null,
            "display": null,
            "left": null
          }
        },
        "6168287003814ad0976551d97ce7a62e": {
          "model_module": "@jupyter-widgets/controls",
          "model_name": "ProgressStyleModel",
          "state": {
            "_view_name": "StyleView",
            "_model_name": "ProgressStyleModel",
            "description_width": "",
            "_view_module": "@jupyter-widgets/base",
            "_model_module_version": "1.5.0",
            "_view_count": null,
            "_view_module_version": "1.2.0",
            "bar_color": null,
            "_model_module": "@jupyter-widgets/controls"
          }
        },
        "8ca104628c864b3dbe104b6f6f3e1ca4": {
          "model_module": "@jupyter-widgets/base",
          "model_name": "LayoutModel",
          "state": {
            "_view_name": "LayoutView",
            "grid_template_rows": null,
            "right": null,
            "justify_content": null,
            "_view_module": "@jupyter-widgets/base",
            "overflow": null,
            "_model_module_version": "1.2.0",
            "_view_count": null,
            "flex_flow": null,
            "width": null,
            "min_width": null,
            "border": null,
            "align_items": null,
            "bottom": null,
            "_model_module": "@jupyter-widgets/base",
            "top": null,
            "grid_column": null,
            "overflow_y": null,
            "overflow_x": null,
            "grid_auto_flow": null,
            "grid_area": null,
            "grid_template_columns": null,
            "flex": null,
            "_model_name": "LayoutModel",
            "justify_items": null,
            "grid_row": null,
            "max_height": null,
            "align_content": null,
            "visibility": null,
            "align_self": null,
            "height": null,
            "min_height": null,
            "padding": null,
            "grid_auto_rows": null,
            "grid_gap": null,
            "max_width": null,
            "order": null,
            "_view_module_version": "1.2.0",
            "grid_template_areas": null,
            "object_position": null,
            "object_fit": null,
            "grid_auto_columns": null,
            "margin": null,
            "display": null,
            "left": null
          }
        },
        "4b36a09359244d658352e57558783b1a": {
          "model_module": "@jupyter-widgets/controls",
          "model_name": "DescriptionStyleModel",
          "state": {
            "_view_name": "StyleView",
            "_model_name": "DescriptionStyleModel",
            "description_width": "",
            "_view_module": "@jupyter-widgets/base",
            "_model_module_version": "1.5.0",
            "_view_count": null,
            "_view_module_version": "1.2.0",
            "_model_module": "@jupyter-widgets/controls"
          }
        },
        "cc13f77f76324163b64a409307aca077": {
          "model_module": "@jupyter-widgets/base",
          "model_name": "LayoutModel",
          "state": {
            "_view_name": "LayoutView",
            "grid_template_rows": null,
            "right": null,
            "justify_content": null,
            "_view_module": "@jupyter-widgets/base",
            "overflow": null,
            "_model_module_version": "1.2.0",
            "_view_count": null,
            "flex_flow": null,
            "width": null,
            "min_width": null,
            "border": null,
            "align_items": null,
            "bottom": null,
            "_model_module": "@jupyter-widgets/base",
            "top": null,
            "grid_column": null,
            "overflow_y": null,
            "overflow_x": null,
            "grid_auto_flow": null,
            "grid_area": null,
            "grid_template_columns": null,
            "flex": null,
            "_model_name": "LayoutModel",
            "justify_items": null,
            "grid_row": null,
            "max_height": null,
            "align_content": null,
            "visibility": null,
            "align_self": null,
            "height": null,
            "min_height": null,
            "padding": null,
            "grid_auto_rows": null,
            "grid_gap": null,
            "max_width": null,
            "order": null,
            "_view_module_version": "1.2.0",
            "grid_template_areas": null,
            "object_position": null,
            "object_fit": null,
            "grid_auto_columns": null,
            "margin": null,
            "display": null,
            "left": null
          }
        },
        "1878a62295e440babf5259ed1aa06fe4": {
          "model_module": "@jupyter-widgets/controls",
          "model_name": "HBoxModel",
          "state": {
            "_view_name": "HBoxView",
            "_dom_classes": [],
            "_model_name": "HBoxModel",
            "_view_module": "@jupyter-widgets/controls",
            "_model_module_version": "1.5.0",
            "_view_count": null,
            "_view_module_version": "1.5.0",
            "box_style": "",
            "layout": "IPY_MODEL_a840aca3b48244529027a94e4fd0dd87",
            "_model_module": "@jupyter-widgets/controls",
            "children": [
              "IPY_MODEL_94a0f57275f74688a22836e57f9efe32",
              "IPY_MODEL_7cc942d9988e4951a89f403e04de303a",
              "IPY_MODEL_8297d8b3eb254c0c9020a10e1148bbd2"
            ]
          }
        },
        "a840aca3b48244529027a94e4fd0dd87": {
          "model_module": "@jupyter-widgets/base",
          "model_name": "LayoutModel",
          "state": {
            "_view_name": "LayoutView",
            "grid_template_rows": null,
            "right": null,
            "justify_content": null,
            "_view_module": "@jupyter-widgets/base",
            "overflow": null,
            "_model_module_version": "1.2.0",
            "_view_count": null,
            "flex_flow": null,
            "width": null,
            "min_width": null,
            "border": null,
            "align_items": null,
            "bottom": null,
            "_model_module": "@jupyter-widgets/base",
            "top": null,
            "grid_column": null,
            "overflow_y": null,
            "overflow_x": null,
            "grid_auto_flow": null,
            "grid_area": null,
            "grid_template_columns": null,
            "flex": null,
            "_model_name": "LayoutModel",
            "justify_items": null,
            "grid_row": null,
            "max_height": null,
            "align_content": null,
            "visibility": null,
            "align_self": null,
            "height": null,
            "min_height": null,
            "padding": null,
            "grid_auto_rows": null,
            "grid_gap": null,
            "max_width": null,
            "order": null,
            "_view_module_version": "1.2.0",
            "grid_template_areas": null,
            "object_position": null,
            "object_fit": null,
            "grid_auto_columns": null,
            "margin": null,
            "display": null,
            "left": null
          }
        },
        "94a0f57275f74688a22836e57f9efe32": {
          "model_module": "@jupyter-widgets/controls",
          "model_name": "HTMLModel",
          "state": {
            "_view_name": "HTMLView",
            "style": "IPY_MODEL_8688b693af9542d6b1f3c954200d6f94",
            "_dom_classes": [],
            "description": "",
            "_model_name": "HTMLModel",
            "placeholder": "​",
            "_view_module": "@jupyter-widgets/controls",
            "_model_module_version": "1.5.0",
            "value": "Generate report structure: 100%",
            "_view_count": null,
            "_view_module_version": "1.5.0",
            "description_tooltip": null,
            "_model_module": "@jupyter-widgets/controls",
            "layout": "IPY_MODEL_7429a50dfbdc44abaa75ff8bb6d9600f"
          }
        },
        "7cc942d9988e4951a89f403e04de303a": {
          "model_module": "@jupyter-widgets/controls",
          "model_name": "FloatProgressModel",
          "state": {
            "_view_name": "ProgressView",
            "style": "IPY_MODEL_5562d0f031c845769964f888b9c3d234",
            "_dom_classes": [],
            "description": "",
            "_model_name": "FloatProgressModel",
            "bar_style": "success",
            "max": 1,
            "_view_module": "@jupyter-widgets/controls",
            "_model_module_version": "1.5.0",
            "value": 1,
            "_view_count": null,
            "_view_module_version": "1.5.0",
            "orientation": "horizontal",
            "min": 0,
            "description_tooltip": null,
            "_model_module": "@jupyter-widgets/controls",
            "layout": "IPY_MODEL_c056871e35c34fc1963130117c377407"
          }
        },
        "8297d8b3eb254c0c9020a10e1148bbd2": {
          "model_module": "@jupyter-widgets/controls",
          "model_name": "HTMLModel",
          "state": {
            "_view_name": "HTMLView",
            "style": "IPY_MODEL_73c82565536940f68980511d48edd235",
            "_dom_classes": [],
            "description": "",
            "_model_name": "HTMLModel",
            "placeholder": "​",
            "_view_module": "@jupyter-widgets/controls",
            "_model_module_version": "1.5.0",
            "value": " 1/1 [00:19&lt;00:00, 19.15s/it]",
            "_view_count": null,
            "_view_module_version": "1.5.0",
            "description_tooltip": null,
            "_model_module": "@jupyter-widgets/controls",
            "layout": "IPY_MODEL_ba8139a47b124208a48130b8586aca2c"
          }
        },
        "8688b693af9542d6b1f3c954200d6f94": {
          "model_module": "@jupyter-widgets/controls",
          "model_name": "DescriptionStyleModel",
          "state": {
            "_view_name": "StyleView",
            "_model_name": "DescriptionStyleModel",
            "description_width": "",
            "_view_module": "@jupyter-widgets/base",
            "_model_module_version": "1.5.0",
            "_view_count": null,
            "_view_module_version": "1.2.0",
            "_model_module": "@jupyter-widgets/controls"
          }
        },
        "7429a50dfbdc44abaa75ff8bb6d9600f": {
          "model_module": "@jupyter-widgets/base",
          "model_name": "LayoutModel",
          "state": {
            "_view_name": "LayoutView",
            "grid_template_rows": null,
            "right": null,
            "justify_content": null,
            "_view_module": "@jupyter-widgets/base",
            "overflow": null,
            "_model_module_version": "1.2.0",
            "_view_count": null,
            "flex_flow": null,
            "width": null,
            "min_width": null,
            "border": null,
            "align_items": null,
            "bottom": null,
            "_model_module": "@jupyter-widgets/base",
            "top": null,
            "grid_column": null,
            "overflow_y": null,
            "overflow_x": null,
            "grid_auto_flow": null,
            "grid_area": null,
            "grid_template_columns": null,
            "flex": null,
            "_model_name": "LayoutModel",
            "justify_items": null,
            "grid_row": null,
            "max_height": null,
            "align_content": null,
            "visibility": null,
            "align_self": null,
            "height": null,
            "min_height": null,
            "padding": null,
            "grid_auto_rows": null,
            "grid_gap": null,
            "max_width": null,
            "order": null,
            "_view_module_version": "1.2.0",
            "grid_template_areas": null,
            "object_position": null,
            "object_fit": null,
            "grid_auto_columns": null,
            "margin": null,
            "display": null,
            "left": null
          }
        },
        "5562d0f031c845769964f888b9c3d234": {
          "model_module": "@jupyter-widgets/controls",
          "model_name": "ProgressStyleModel",
          "state": {
            "_view_name": "StyleView",
            "_model_name": "ProgressStyleModel",
            "description_width": "",
            "_view_module": "@jupyter-widgets/base",
            "_model_module_version": "1.5.0",
            "_view_count": null,
            "_view_module_version": "1.2.0",
            "bar_color": null,
            "_model_module": "@jupyter-widgets/controls"
          }
        },
        "c056871e35c34fc1963130117c377407": {
          "model_module": "@jupyter-widgets/base",
          "model_name": "LayoutModel",
          "state": {
            "_view_name": "LayoutView",
            "grid_template_rows": null,
            "right": null,
            "justify_content": null,
            "_view_module": "@jupyter-widgets/base",
            "overflow": null,
            "_model_module_version": "1.2.0",
            "_view_count": null,
            "flex_flow": null,
            "width": null,
            "min_width": null,
            "border": null,
            "align_items": null,
            "bottom": null,
            "_model_module": "@jupyter-widgets/base",
            "top": null,
            "grid_column": null,
            "overflow_y": null,
            "overflow_x": null,
            "grid_auto_flow": null,
            "grid_area": null,
            "grid_template_columns": null,
            "flex": null,
            "_model_name": "LayoutModel",
            "justify_items": null,
            "grid_row": null,
            "max_height": null,
            "align_content": null,
            "visibility": null,
            "align_self": null,
            "height": null,
            "min_height": null,
            "padding": null,
            "grid_auto_rows": null,
            "grid_gap": null,
            "max_width": null,
            "order": null,
            "_view_module_version": "1.2.0",
            "grid_template_areas": null,
            "object_position": null,
            "object_fit": null,
            "grid_auto_columns": null,
            "margin": null,
            "display": null,
            "left": null
          }
        },
        "73c82565536940f68980511d48edd235": {
          "model_module": "@jupyter-widgets/controls",
          "model_name": "DescriptionStyleModel",
          "state": {
            "_view_name": "StyleView",
            "_model_name": "DescriptionStyleModel",
            "description_width": "",
            "_view_module": "@jupyter-widgets/base",
            "_model_module_version": "1.5.0",
            "_view_count": null,
            "_view_module_version": "1.2.0",
            "_model_module": "@jupyter-widgets/controls"
          }
        },
        "ba8139a47b124208a48130b8586aca2c": {
          "model_module": "@jupyter-widgets/base",
          "model_name": "LayoutModel",
          "state": {
            "_view_name": "LayoutView",
            "grid_template_rows": null,
            "right": null,
            "justify_content": null,
            "_view_module": "@jupyter-widgets/base",
            "overflow": null,
            "_model_module_version": "1.2.0",
            "_view_count": null,
            "flex_flow": null,
            "width": null,
            "min_width": null,
            "border": null,
            "align_items": null,
            "bottom": null,
            "_model_module": "@jupyter-widgets/base",
            "top": null,
            "grid_column": null,
            "overflow_y": null,
            "overflow_x": null,
            "grid_auto_flow": null,
            "grid_area": null,
            "grid_template_columns": null,
            "flex": null,
            "_model_name": "LayoutModel",
            "justify_items": null,
            "grid_row": null,
            "max_height": null,
            "align_content": null,
            "visibility": null,
            "align_self": null,
            "height": null,
            "min_height": null,
            "padding": null,
            "grid_auto_rows": null,
            "grid_gap": null,
            "max_width": null,
            "order": null,
            "_view_module_version": "1.2.0",
            "grid_template_areas": null,
            "object_position": null,
            "object_fit": null,
            "grid_auto_columns": null,
            "margin": null,
            "display": null,
            "left": null
          }
        },
        "ad6d96c4c178458aa6dc78703c6bdcee": {
          "model_module": "@jupyter-widgets/controls",
          "model_name": "HBoxModel",
          "state": {
            "_view_name": "HBoxView",
            "_dom_classes": [],
            "_model_name": "HBoxModel",
            "_view_module": "@jupyter-widgets/controls",
            "_model_module_version": "1.5.0",
            "_view_count": null,
            "_view_module_version": "1.5.0",
            "box_style": "",
            "layout": "IPY_MODEL_663082d8c8a14ed8afc6bfcdd6db5296",
            "_model_module": "@jupyter-widgets/controls",
            "children": [
              "IPY_MODEL_48d9eb454cc040adadaa05144098ec2f",
              "IPY_MODEL_a64ec49b1924490f889cf0880fd01663",
              "IPY_MODEL_79cda17966ad446e98391a544e41b9aa"
            ]
          }
        },
        "663082d8c8a14ed8afc6bfcdd6db5296": {
          "model_module": "@jupyter-widgets/base",
          "model_name": "LayoutModel",
          "state": {
            "_view_name": "LayoutView",
            "grid_template_rows": null,
            "right": null,
            "justify_content": null,
            "_view_module": "@jupyter-widgets/base",
            "overflow": null,
            "_model_module_version": "1.2.0",
            "_view_count": null,
            "flex_flow": null,
            "width": null,
            "min_width": null,
            "border": null,
            "align_items": null,
            "bottom": null,
            "_model_module": "@jupyter-widgets/base",
            "top": null,
            "grid_column": null,
            "overflow_y": null,
            "overflow_x": null,
            "grid_auto_flow": null,
            "grid_area": null,
            "grid_template_columns": null,
            "flex": null,
            "_model_name": "LayoutModel",
            "justify_items": null,
            "grid_row": null,
            "max_height": null,
            "align_content": null,
            "visibility": null,
            "align_self": null,
            "height": null,
            "min_height": null,
            "padding": null,
            "grid_auto_rows": null,
            "grid_gap": null,
            "max_width": null,
            "order": null,
            "_view_module_version": "1.2.0",
            "grid_template_areas": null,
            "object_position": null,
            "object_fit": null,
            "grid_auto_columns": null,
            "margin": null,
            "display": null,
            "left": null
          }
        },
        "48d9eb454cc040adadaa05144098ec2f": {
          "model_module": "@jupyter-widgets/controls",
          "model_name": "HTMLModel",
          "state": {
            "_view_name": "HTMLView",
            "style": "IPY_MODEL_edbbfb98e850441698f98e9b4a582c08",
            "_dom_classes": [],
            "description": "",
            "_model_name": "HTMLModel",
            "placeholder": "​",
            "_view_module": "@jupyter-widgets/controls",
            "_model_module_version": "1.5.0",
            "value": "Render HTML: 100%",
            "_view_count": null,
            "_view_module_version": "1.5.0",
            "description_tooltip": null,
            "_model_module": "@jupyter-widgets/controls",
            "layout": "IPY_MODEL_5e43906e8dc4448fbda4003955789a5b"
          }
        },
        "a64ec49b1924490f889cf0880fd01663": {
          "model_module": "@jupyter-widgets/controls",
          "model_name": "FloatProgressModel",
          "state": {
            "_view_name": "ProgressView",
            "style": "IPY_MODEL_236c3bf7fc7e46149390bd2471248e12",
            "_dom_classes": [],
            "description": "",
            "_model_name": "FloatProgressModel",
            "bar_style": "success",
            "max": 1,
            "_view_module": "@jupyter-widgets/controls",
            "_model_module_version": "1.5.0",
            "value": 1,
            "_view_count": null,
            "_view_module_version": "1.5.0",
            "orientation": "horizontal",
            "min": 0,
            "description_tooltip": null,
            "_model_module": "@jupyter-widgets/controls",
            "layout": "IPY_MODEL_47034d3ecd994680834b165ebf430e20"
          }
        },
        "79cda17966ad446e98391a544e41b9aa": {
          "model_module": "@jupyter-widgets/controls",
          "model_name": "HTMLModel",
          "state": {
            "_view_name": "HTMLView",
            "style": "IPY_MODEL_d44a95210d154f86be853c4f5444b4c2",
            "_dom_classes": [],
            "description": "",
            "_model_name": "HTMLModel",
            "placeholder": "​",
            "_view_module": "@jupyter-widgets/controls",
            "_model_module_version": "1.5.0",
            "value": " 1/1 [16:17&lt;00:00, 977.27s/it]",
            "_view_count": null,
            "_view_module_version": "1.5.0",
            "description_tooltip": null,
            "_model_module": "@jupyter-widgets/controls",
            "layout": "IPY_MODEL_77b7b5807f1746b2bc52a59c58a222ce"
          }
        },
        "edbbfb98e850441698f98e9b4a582c08": {
          "model_module": "@jupyter-widgets/controls",
          "model_name": "DescriptionStyleModel",
          "state": {
            "_view_name": "StyleView",
            "_model_name": "DescriptionStyleModel",
            "description_width": "",
            "_view_module": "@jupyter-widgets/base",
            "_model_module_version": "1.5.0",
            "_view_count": null,
            "_view_module_version": "1.2.0",
            "_model_module": "@jupyter-widgets/controls"
          }
        },
        "5e43906e8dc4448fbda4003955789a5b": {
          "model_module": "@jupyter-widgets/base",
          "model_name": "LayoutModel",
          "state": {
            "_view_name": "LayoutView",
            "grid_template_rows": null,
            "right": null,
            "justify_content": null,
            "_view_module": "@jupyter-widgets/base",
            "overflow": null,
            "_model_module_version": "1.2.0",
            "_view_count": null,
            "flex_flow": null,
            "width": null,
            "min_width": null,
            "border": null,
            "align_items": null,
            "bottom": null,
            "_model_module": "@jupyter-widgets/base",
            "top": null,
            "grid_column": null,
            "overflow_y": null,
            "overflow_x": null,
            "grid_auto_flow": null,
            "grid_area": null,
            "grid_template_columns": null,
            "flex": null,
            "_model_name": "LayoutModel",
            "justify_items": null,
            "grid_row": null,
            "max_height": null,
            "align_content": null,
            "visibility": null,
            "align_self": null,
            "height": null,
            "min_height": null,
            "padding": null,
            "grid_auto_rows": null,
            "grid_gap": null,
            "max_width": null,
            "order": null,
            "_view_module_version": "1.2.0",
            "grid_template_areas": null,
            "object_position": null,
            "object_fit": null,
            "grid_auto_columns": null,
            "margin": null,
            "display": null,
            "left": null
          }
        },
        "236c3bf7fc7e46149390bd2471248e12": {
          "model_module": "@jupyter-widgets/controls",
          "model_name": "ProgressStyleModel",
          "state": {
            "_view_name": "StyleView",
            "_model_name": "ProgressStyleModel",
            "description_width": "",
            "_view_module": "@jupyter-widgets/base",
            "_model_module_version": "1.5.0",
            "_view_count": null,
            "_view_module_version": "1.2.0",
            "bar_color": null,
            "_model_module": "@jupyter-widgets/controls"
          }
        },
        "47034d3ecd994680834b165ebf430e20": {
          "model_module": "@jupyter-widgets/base",
          "model_name": "LayoutModel",
          "state": {
            "_view_name": "LayoutView",
            "grid_template_rows": null,
            "right": null,
            "justify_content": null,
            "_view_module": "@jupyter-widgets/base",
            "overflow": null,
            "_model_module_version": "1.2.0",
            "_view_count": null,
            "flex_flow": null,
            "width": null,
            "min_width": null,
            "border": null,
            "align_items": null,
            "bottom": null,
            "_model_module": "@jupyter-widgets/base",
            "top": null,
            "grid_column": null,
            "overflow_y": null,
            "overflow_x": null,
            "grid_auto_flow": null,
            "grid_area": null,
            "grid_template_columns": null,
            "flex": null,
            "_model_name": "LayoutModel",
            "justify_items": null,
            "grid_row": null,
            "max_height": null,
            "align_content": null,
            "visibility": null,
            "align_self": null,
            "height": null,
            "min_height": null,
            "padding": null,
            "grid_auto_rows": null,
            "grid_gap": null,
            "max_width": null,
            "order": null,
            "_view_module_version": "1.2.0",
            "grid_template_areas": null,
            "object_position": null,
            "object_fit": null,
            "grid_auto_columns": null,
            "margin": null,
            "display": null,
            "left": null
          }
        },
        "d44a95210d154f86be853c4f5444b4c2": {
          "model_module": "@jupyter-widgets/controls",
          "model_name": "DescriptionStyleModel",
          "state": {
            "_view_name": "StyleView",
            "_model_name": "DescriptionStyleModel",
            "description_width": "",
            "_view_module": "@jupyter-widgets/base",
            "_model_module_version": "1.5.0",
            "_view_count": null,
            "_view_module_version": "1.2.0",
            "_model_module": "@jupyter-widgets/controls"
          }
        },
        "77b7b5807f1746b2bc52a59c58a222ce": {
          "model_module": "@jupyter-widgets/base",
          "model_name": "LayoutModel",
          "state": {
            "_view_name": "LayoutView",
            "grid_template_rows": null,
            "right": null,
            "justify_content": null,
            "_view_module": "@jupyter-widgets/base",
            "overflow": null,
            "_model_module_version": "1.2.0",
            "_view_count": null,
            "flex_flow": null,
            "width": null,
            "min_width": null,
            "border": null,
            "align_items": null,
            "bottom": null,
            "_model_module": "@jupyter-widgets/base",
            "top": null,
            "grid_column": null,
            "overflow_y": null,
            "overflow_x": null,
            "grid_auto_flow": null,
            "grid_area": null,
            "grid_template_columns": null,
            "flex": null,
            "_model_name": "LayoutModel",
            "justify_items": null,
            "grid_row": null,
            "max_height": null,
            "align_content": null,
            "visibility": null,
            "align_self": null,
            "height": null,
            "min_height": null,
            "padding": null,
            "grid_auto_rows": null,
            "grid_gap": null,
            "max_width": null,
            "order": null,
            "_view_module_version": "1.2.0",
            "grid_template_areas": null,
            "object_position": null,
            "object_fit": null,
            "grid_auto_columns": null,
            "margin": null,
            "display": null,
            "left": null
          }
        },
        "53b6bdcb33a344f5a8f13ef0bf41f727": {
          "model_module": "@jupyter-widgets/controls",
          "model_name": "HBoxModel",
          "state": {
            "_view_name": "HBoxView",
            "_dom_classes": [],
            "_model_name": "HBoxModel",
            "_view_module": "@jupyter-widgets/controls",
            "_model_module_version": "1.5.0",
            "_view_count": null,
            "_view_module_version": "1.5.0",
            "box_style": "",
            "layout": "IPY_MODEL_ced42e05e35b41479f07ffd9eaeca22c",
            "_model_module": "@jupyter-widgets/controls",
            "children": [
              "IPY_MODEL_1fec0fbd857c4d55937cc8f561db7763",
              "IPY_MODEL_d19899b7153b408bb6985ebcbe39141e",
              "IPY_MODEL_db5a39bd84114c0f9f947be9ecf8850b"
            ]
          }
        },
        "ced42e05e35b41479f07ffd9eaeca22c": {
          "model_module": "@jupyter-widgets/base",
          "model_name": "LayoutModel",
          "state": {
            "_view_name": "LayoutView",
            "grid_template_rows": null,
            "right": null,
            "justify_content": null,
            "_view_module": "@jupyter-widgets/base",
            "overflow": null,
            "_model_module_version": "1.2.0",
            "_view_count": null,
            "flex_flow": null,
            "width": null,
            "min_width": null,
            "border": null,
            "align_items": null,
            "bottom": null,
            "_model_module": "@jupyter-widgets/base",
            "top": null,
            "grid_column": null,
            "overflow_y": null,
            "overflow_x": null,
            "grid_auto_flow": null,
            "grid_area": null,
            "grid_template_columns": null,
            "flex": null,
            "_model_name": "LayoutModel",
            "justify_items": null,
            "grid_row": null,
            "max_height": null,
            "align_content": null,
            "visibility": null,
            "align_self": null,
            "height": null,
            "min_height": null,
            "padding": null,
            "grid_auto_rows": null,
            "grid_gap": null,
            "max_width": null,
            "order": null,
            "_view_module_version": "1.2.0",
            "grid_template_areas": null,
            "object_position": null,
            "object_fit": null,
            "grid_auto_columns": null,
            "margin": null,
            "display": null,
            "left": null
          }
        },
        "1fec0fbd857c4d55937cc8f561db7763": {
          "model_module": "@jupyter-widgets/controls",
          "model_name": "HTMLModel",
          "state": {
            "_view_name": "HTMLView",
            "style": "IPY_MODEL_415edf89b564417a8461a76d527e0095",
            "_dom_classes": [],
            "description": "",
            "_model_name": "HTMLModel",
            "placeholder": "​",
            "_view_module": "@jupyter-widgets/controls",
            "_model_module_version": "1.5.0",
            "value": "Export report to file: 100%",
            "_view_count": null,
            "_view_module_version": "1.5.0",
            "description_tooltip": null,
            "_model_module": "@jupyter-widgets/controls",
            "layout": "IPY_MODEL_4d890aea46324bf0a7620e6f0c70e3e3"
          }
        },
        "d19899b7153b408bb6985ebcbe39141e": {
          "model_module": "@jupyter-widgets/controls",
          "model_name": "FloatProgressModel",
          "state": {
            "_view_name": "ProgressView",
            "style": "IPY_MODEL_12e87d059f23461a9b0b345bf795901d",
            "_dom_classes": [],
            "description": "",
            "_model_name": "FloatProgressModel",
            "bar_style": "success",
            "max": 1,
            "_view_module": "@jupyter-widgets/controls",
            "_model_module_version": "1.5.0",
            "value": 1,
            "_view_count": null,
            "_view_module_version": "1.5.0",
            "orientation": "horizontal",
            "min": 0,
            "description_tooltip": null,
            "_model_module": "@jupyter-widgets/controls",
            "layout": "IPY_MODEL_634223344c1942a3b70ab99bcf66caf5"
          }
        },
        "db5a39bd84114c0f9f947be9ecf8850b": {
          "model_module": "@jupyter-widgets/controls",
          "model_name": "HTMLModel",
          "state": {
            "_view_name": "HTMLView",
            "style": "IPY_MODEL_9f68f9b23efd4e77b8c1f8055af9fff9",
            "_dom_classes": [],
            "description": "",
            "_model_name": "HTMLModel",
            "placeholder": "​",
            "_view_module": "@jupyter-widgets/controls",
            "_model_module_version": "1.5.0",
            "value": " 1/1 [00:00&lt;00:00, 18.42it/s]",
            "_view_count": null,
            "_view_module_version": "1.5.0",
            "description_tooltip": null,
            "_model_module": "@jupyter-widgets/controls",
            "layout": "IPY_MODEL_a49e10c9e9f34f2c8121f4ca26a54695"
          }
        },
        "415edf89b564417a8461a76d527e0095": {
          "model_module": "@jupyter-widgets/controls",
          "model_name": "DescriptionStyleModel",
          "state": {
            "_view_name": "StyleView",
            "_model_name": "DescriptionStyleModel",
            "description_width": "",
            "_view_module": "@jupyter-widgets/base",
            "_model_module_version": "1.5.0",
            "_view_count": null,
            "_view_module_version": "1.2.0",
            "_model_module": "@jupyter-widgets/controls"
          }
        },
        "4d890aea46324bf0a7620e6f0c70e3e3": {
          "model_module": "@jupyter-widgets/base",
          "model_name": "LayoutModel",
          "state": {
            "_view_name": "LayoutView",
            "grid_template_rows": null,
            "right": null,
            "justify_content": null,
            "_view_module": "@jupyter-widgets/base",
            "overflow": null,
            "_model_module_version": "1.2.0",
            "_view_count": null,
            "flex_flow": null,
            "width": null,
            "min_width": null,
            "border": null,
            "align_items": null,
            "bottom": null,
            "_model_module": "@jupyter-widgets/base",
            "top": null,
            "grid_column": null,
            "overflow_y": null,
            "overflow_x": null,
            "grid_auto_flow": null,
            "grid_area": null,
            "grid_template_columns": null,
            "flex": null,
            "_model_name": "LayoutModel",
            "justify_items": null,
            "grid_row": null,
            "max_height": null,
            "align_content": null,
            "visibility": null,
            "align_self": null,
            "height": null,
            "min_height": null,
            "padding": null,
            "grid_auto_rows": null,
            "grid_gap": null,
            "max_width": null,
            "order": null,
            "_view_module_version": "1.2.0",
            "grid_template_areas": null,
            "object_position": null,
            "object_fit": null,
            "grid_auto_columns": null,
            "margin": null,
            "display": null,
            "left": null
          }
        },
        "12e87d059f23461a9b0b345bf795901d": {
          "model_module": "@jupyter-widgets/controls",
          "model_name": "ProgressStyleModel",
          "state": {
            "_view_name": "StyleView",
            "_model_name": "ProgressStyleModel",
            "description_width": "",
            "_view_module": "@jupyter-widgets/base",
            "_model_module_version": "1.5.0",
            "_view_count": null,
            "_view_module_version": "1.2.0",
            "bar_color": null,
            "_model_module": "@jupyter-widgets/controls"
          }
        },
        "634223344c1942a3b70ab99bcf66caf5": {
          "model_module": "@jupyter-widgets/base",
          "model_name": "LayoutModel",
          "state": {
            "_view_name": "LayoutView",
            "grid_template_rows": null,
            "right": null,
            "justify_content": null,
            "_view_module": "@jupyter-widgets/base",
            "overflow": null,
            "_model_module_version": "1.2.0",
            "_view_count": null,
            "flex_flow": null,
            "width": null,
            "min_width": null,
            "border": null,
            "align_items": null,
            "bottom": null,
            "_model_module": "@jupyter-widgets/base",
            "top": null,
            "grid_column": null,
            "overflow_y": null,
            "overflow_x": null,
            "grid_auto_flow": null,
            "grid_area": null,
            "grid_template_columns": null,
            "flex": null,
            "_model_name": "LayoutModel",
            "justify_items": null,
            "grid_row": null,
            "max_height": null,
            "align_content": null,
            "visibility": null,
            "align_self": null,
            "height": null,
            "min_height": null,
            "padding": null,
            "grid_auto_rows": null,
            "grid_gap": null,
            "max_width": null,
            "order": null,
            "_view_module_version": "1.2.0",
            "grid_template_areas": null,
            "object_position": null,
            "object_fit": null,
            "grid_auto_columns": null,
            "margin": null,
            "display": null,
            "left": null
          }
        },
        "9f68f9b23efd4e77b8c1f8055af9fff9": {
          "model_module": "@jupyter-widgets/controls",
          "model_name": "DescriptionStyleModel",
          "state": {
            "_view_name": "StyleView",
            "_model_name": "DescriptionStyleModel",
            "description_width": "",
            "_view_module": "@jupyter-widgets/base",
            "_model_module_version": "1.5.0",
            "_view_count": null,
            "_view_module_version": "1.2.0",
            "_model_module": "@jupyter-widgets/controls"
          }
        },
        "a49e10c9e9f34f2c8121f4ca26a54695": {
          "model_module": "@jupyter-widgets/base",
          "model_name": "LayoutModel",
          "state": {
            "_view_name": "LayoutView",
            "grid_template_rows": null,
            "right": null,
            "justify_content": null,
            "_view_module": "@jupyter-widgets/base",
            "overflow": null,
            "_model_module_version": "1.2.0",
            "_view_count": null,
            "flex_flow": null,
            "width": null,
            "min_width": null,
            "border": null,
            "align_items": null,
            "bottom": null,
            "_model_module": "@jupyter-widgets/base",
            "top": null,
            "grid_column": null,
            "overflow_y": null,
            "overflow_x": null,
            "grid_auto_flow": null,
            "grid_area": null,
            "grid_template_columns": null,
            "flex": null,
            "_model_name": "LayoutModel",
            "justify_items": null,
            "grid_row": null,
            "max_height": null,
            "align_content": null,
            "visibility": null,
            "align_self": null,
            "height": null,
            "min_height": null,
            "padding": null,
            "grid_auto_rows": null,
            "grid_gap": null,
            "max_width": null,
            "order": null,
            "_view_module_version": "1.2.0",
            "grid_template_areas": null,
            "object_position": null,
            "object_fit": null,
            "grid_auto_columns": null,
            "margin": null,
            "display": null,
            "left": null
          }
        }
      }
    }
  },
  "cells": [
    {
      "cell_type": "markdown",
      "metadata": {
        "id": "HnqBtVPPLN4w"
      },
      "source": [
        "# Load packages and data"
      ]
    },
    {
      "cell_type": "code",
      "metadata": {
        "id": "C2e9VeZDHkbt",
        "colab": {
          "base_uri": "https://localhost:8080/"
        },
        "outputId": "a3ec9a6b-d722-468a-9dc1-2facd989028c"
      },
      "source": [
        "!pip install https://github.com/pandas-profiling/pandas-profiling/archive/master.zip\n",
        "!pip install missingno\n",
        "!pip install sklearn.cross_validation"
      ],
      "execution_count": null,
      "outputs": [
        {
          "output_type": "stream",
          "text": [
            "Collecting https://github.com/pandas-profiling/pandas-profiling/archive/master.zip\n",
            "\u001b[?25l  Downloading https://github.com/pandas-profiling/pandas-profiling/archive/master.zip\n",
            "\u001b[K     - 53.5MB 616kB/s\n",
            "\u001b[?25hRequirement already satisfied: joblib in /usr/local/lib/python3.6/dist-packages (from pandas-profiling==2.9.0) (0.17.0)\n",
            "Requirement already satisfied: scipy>=1.4.1 in /usr/local/lib/python3.6/dist-packages (from pandas-profiling==2.9.0) (1.4.1)\n",
            "Requirement already satisfied: pandas!=1.0.0,!=1.0.1,!=1.0.2,!=1.1.0,>=0.25.3 in /usr/local/lib/python3.6/dist-packages (from pandas-profiling==2.9.0) (1.1.4)\n",
            "Requirement already satisfied: matplotlib>=3.2.0 in /usr/local/lib/python3.6/dist-packages (from pandas-profiling==2.9.0) (3.2.2)\n",
            "Collecting confuse>=1.0.0\n",
            "  Downloading https://files.pythonhosted.org/packages/6d/55/b4726d81e5d6509fa3441f770f8a9524612627dc1b2a7d6209d1d20083fe/confuse-1.4.0-py2.py3-none-any.whl\n",
            "Requirement already satisfied: jinja2>=2.11.1 in /usr/local/lib/python3.6/dist-packages (from pandas-profiling==2.9.0) (2.11.2)\n",
            "Collecting visions[type_image_path]==0.5.0\n",
            "\u001b[?25l  Downloading https://files.pythonhosted.org/packages/26/e3/9416e94e767d59a86edcbcb8e1c8f42874d272c3b343676074879e9db0e0/visions-0.5.0-py3-none-any.whl (64kB)\n",
            "\u001b[K     |████████████████████████████████| 71kB 3.5MB/s \n",
            "\u001b[?25hRequirement already satisfied: numpy>=1.16.0 in /usr/local/lib/python3.6/dist-packages (from pandas-profiling==2.9.0) (1.18.5)\n",
            "Requirement already satisfied: attrs>=19.3.0 in /usr/local/lib/python3.6/dist-packages (from pandas-profiling==2.9.0) (20.3.0)\n",
            "Collecting htmlmin>=0.1.12\n",
            "  Downloading https://files.pythonhosted.org/packages/b3/e7/fcd59e12169de19f0131ff2812077f964c6b960e7c09804d30a7bf2ab461/htmlmin-0.1.12.tar.gz\n",
            "Requirement already satisfied: missingno>=0.4.2 in /usr/local/lib/python3.6/dist-packages (from pandas-profiling==2.9.0) (0.4.2)\n",
            "Collecting phik>=0.9.10\n",
            "\u001b[?25l  Downloading https://files.pythonhosted.org/packages/01/5a/7ef1c04ce62cd72f900c06298dc2385840550d5c653a0dbc19109a5477e6/phik-0.10.0-py3-none-any.whl (599kB)\n",
            "\u001b[K     |████████████████████████████████| 604kB 7.7MB/s \n",
            "\u001b[?25hCollecting tangled-up-in-unicode>=0.0.6\n",
            "\u001b[?25l  Downloading https://files.pythonhosted.org/packages/4a/e2/e588ab9298d4989ce7fdb2b97d18aac878d99dbdc379a4476a09d9271b68/tangled_up_in_unicode-0.0.6-py3-none-any.whl (3.1MB)\n",
            "\u001b[K     |████████████████████████████████| 3.1MB 13.2MB/s \n",
            "\u001b[?25hRequirement already satisfied: requests>=2.23.0 in /usr/local/lib/python3.6/dist-packages (from pandas-profiling==2.9.0) (2.23.0)\n",
            "Collecting tqdm>=4.43.0\n",
            "\u001b[?25l  Downloading https://files.pythonhosted.org/packages/02/bc/857fff709f7ce9eabdc502d6fa71f4b7e964200b1bcd00f0a2f59667d1bf/tqdm-4.53.0-py2.py3-none-any.whl (70kB)\n",
            "\u001b[K     |████████████████████████████████| 71kB 6.4MB/s \n",
            "\u001b[?25hRequirement already satisfied: ipywidgets>=7.5.1 in /usr/local/lib/python3.6/dist-packages (from pandas-profiling==2.9.0) (7.5.1)\n",
            "Requirement already satisfied: seaborn>=0.10.1 in /usr/local/lib/python3.6/dist-packages (from pandas-profiling==2.9.0) (0.11.0)\n",
            "Requirement already satisfied: pytz>=2017.2 in /usr/local/lib/python3.6/dist-packages (from pandas!=1.0.0,!=1.0.1,!=1.0.2,!=1.1.0,>=0.25.3->pandas-profiling==2.9.0) (2018.9)\n",
            "Requirement already satisfied: python-dateutil>=2.7.3 in /usr/local/lib/python3.6/dist-packages (from pandas!=1.0.0,!=1.0.1,!=1.0.2,!=1.1.0,>=0.25.3->pandas-profiling==2.9.0) (2.8.1)\n",
            "Requirement already satisfied: kiwisolver>=1.0.1 in /usr/local/lib/python3.6/dist-packages (from matplotlib>=3.2.0->pandas-profiling==2.9.0) (1.3.1)\n",
            "Requirement already satisfied: cycler>=0.10 in /usr/local/lib/python3.6/dist-packages (from matplotlib>=3.2.0->pandas-profiling==2.9.0) (0.10.0)\n",
            "Requirement already satisfied: pyparsing!=2.0.4,!=2.1.2,!=2.1.6,>=2.0.1 in /usr/local/lib/python3.6/dist-packages (from matplotlib>=3.2.0->pandas-profiling==2.9.0) (2.4.7)\n",
            "Requirement already satisfied: pyyaml in /usr/local/lib/python3.6/dist-packages (from confuse>=1.0.0->pandas-profiling==2.9.0) (3.13)\n",
            "Requirement already satisfied: MarkupSafe>=0.23 in /usr/local/lib/python3.6/dist-packages (from jinja2>=2.11.1->pandas-profiling==2.9.0) (1.1.1)\n",
            "Requirement already satisfied: networkx>=2.4 in /usr/local/lib/python3.6/dist-packages (from visions[type_image_path]==0.5.0->pandas-profiling==2.9.0) (2.5)\n",
            "Requirement already satisfied: Pillow; extra == \"type_image_path\" in /usr/local/lib/python3.6/dist-packages (from visions[type_image_path]==0.5.0->pandas-profiling==2.9.0) (7.0.0)\n",
            "Collecting imagehash; extra == \"type_image_path\"\n",
            "\u001b[?25l  Downloading https://files.pythonhosted.org/packages/8e/18/9dbb772b5ef73a3069c66bb5bf29b9fb4dd57af0d5790c781c3f559bcca6/ImageHash-4.2.0-py2.py3-none-any.whl (295kB)\n",
            "\u001b[K     |████████████████████████████████| 296kB 27.2MB/s \n",
            "\u001b[?25hRequirement already satisfied: numba>=0.38.1 in /usr/local/lib/python3.6/dist-packages (from phik>=0.9.10->pandas-profiling==2.9.0) (0.48.0)\n",
            "Requirement already satisfied: chardet<4,>=3.0.2 in /usr/local/lib/python3.6/dist-packages (from requests>=2.23.0->pandas-profiling==2.9.0) (3.0.4)\n",
            "Requirement already satisfied: certifi>=2017.4.17 in /usr/local/lib/python3.6/dist-packages (from requests>=2.23.0->pandas-profiling==2.9.0) (2020.11.8)\n",
            "Requirement already satisfied: urllib3!=1.25.0,!=1.25.1,<1.26,>=1.21.1 in /usr/local/lib/python3.6/dist-packages (from requests>=2.23.0->pandas-profiling==2.9.0) (1.24.3)\n",
            "Requirement already satisfied: idna<3,>=2.5 in /usr/local/lib/python3.6/dist-packages (from requests>=2.23.0->pandas-profiling==2.9.0) (2.10)\n",
            "Requirement already satisfied: widgetsnbextension~=3.5.0 in /usr/local/lib/python3.6/dist-packages (from ipywidgets>=7.5.1->pandas-profiling==2.9.0) (3.5.1)\n",
            "Requirement already satisfied: ipython>=4.0.0; python_version >= \"3.3\" in /usr/local/lib/python3.6/dist-packages (from ipywidgets>=7.5.1->pandas-profiling==2.9.0) (5.5.0)\n",
            "Requirement already satisfied: traitlets>=4.3.1 in /usr/local/lib/python3.6/dist-packages (from ipywidgets>=7.5.1->pandas-profiling==2.9.0) (4.3.3)\n",
            "Requirement already satisfied: nbformat>=4.2.0 in /usr/local/lib/python3.6/dist-packages (from ipywidgets>=7.5.1->pandas-profiling==2.9.0) (5.0.8)\n",
            "Requirement already satisfied: ipykernel>=4.5.1 in /usr/local/lib/python3.6/dist-packages (from ipywidgets>=7.5.1->pandas-profiling==2.9.0) (4.10.1)\n",
            "Requirement already satisfied: six>=1.5 in /usr/local/lib/python3.6/dist-packages (from python-dateutil>=2.7.3->pandas!=1.0.0,!=1.0.1,!=1.0.2,!=1.1.0,>=0.25.3->pandas-profiling==2.9.0) (1.15.0)\n",
            "Requirement already satisfied: decorator>=4.3.0 in /usr/local/lib/python3.6/dist-packages (from networkx>=2.4->visions[type_image_path]==0.5.0->pandas-profiling==2.9.0) (4.4.2)\n",
            "Requirement already satisfied: PyWavelets in /usr/local/lib/python3.6/dist-packages (from imagehash; extra == \"type_image_path\"->visions[type_image_path]==0.5.0->pandas-profiling==2.9.0) (1.1.1)\n",
            "Requirement already satisfied: setuptools in /usr/local/lib/python3.6/dist-packages (from numba>=0.38.1->phik>=0.9.10->pandas-profiling==2.9.0) (50.3.2)\n",
            "Requirement already satisfied: llvmlite<0.32.0,>=0.31.0dev0 in /usr/local/lib/python3.6/dist-packages (from numba>=0.38.1->phik>=0.9.10->pandas-profiling==2.9.0) (0.31.0)\n",
            "Requirement already satisfied: notebook>=4.4.1 in /usr/local/lib/python3.6/dist-packages (from widgetsnbextension~=3.5.0->ipywidgets>=7.5.1->pandas-profiling==2.9.0) (5.3.1)\n",
            "Requirement already satisfied: prompt-toolkit<2.0.0,>=1.0.4 in /usr/local/lib/python3.6/dist-packages (from ipython>=4.0.0; python_version >= \"3.3\"->ipywidgets>=7.5.1->pandas-profiling==2.9.0) (1.0.18)\n",
            "Requirement already satisfied: pygments in /usr/local/lib/python3.6/dist-packages (from ipython>=4.0.0; python_version >= \"3.3\"->ipywidgets>=7.5.1->pandas-profiling==2.9.0) (2.6.1)\n",
            "Requirement already satisfied: pexpect; sys_platform != \"win32\" in /usr/local/lib/python3.6/dist-packages (from ipython>=4.0.0; python_version >= \"3.3\"->ipywidgets>=7.5.1->pandas-profiling==2.9.0) (4.8.0)\n",
            "Requirement already satisfied: simplegeneric>0.8 in /usr/local/lib/python3.6/dist-packages (from ipython>=4.0.0; python_version >= \"3.3\"->ipywidgets>=7.5.1->pandas-profiling==2.9.0) (0.8.1)\n",
            "Requirement already satisfied: pickleshare in /usr/local/lib/python3.6/dist-packages (from ipython>=4.0.0; python_version >= \"3.3\"->ipywidgets>=7.5.1->pandas-profiling==2.9.0) (0.7.5)\n",
            "Requirement already satisfied: ipython-genutils in /usr/local/lib/python3.6/dist-packages (from traitlets>=4.3.1->ipywidgets>=7.5.1->pandas-profiling==2.9.0) (0.2.0)\n",
            "Requirement already satisfied: jupyter-core in /usr/local/lib/python3.6/dist-packages (from nbformat>=4.2.0->ipywidgets>=7.5.1->pandas-profiling==2.9.0) (4.7.0)\n",
            "Requirement already satisfied: jsonschema!=2.5.0,>=2.4 in /usr/local/lib/python3.6/dist-packages (from nbformat>=4.2.0->ipywidgets>=7.5.1->pandas-profiling==2.9.0) (2.6.0)\n",
            "Requirement already satisfied: jupyter-client in /usr/local/lib/python3.6/dist-packages (from ipykernel>=4.5.1->ipywidgets>=7.5.1->pandas-profiling==2.9.0) (5.3.5)\n",
            "Requirement already satisfied: tornado>=4.0 in /usr/local/lib/python3.6/dist-packages (from ipykernel>=4.5.1->ipywidgets>=7.5.1->pandas-profiling==2.9.0) (5.1.1)\n",
            "Requirement already satisfied: nbconvert in /usr/local/lib/python3.6/dist-packages (from notebook>=4.4.1->widgetsnbextension~=3.5.0->ipywidgets>=7.5.1->pandas-profiling==2.9.0) (5.6.1)\n",
            "Requirement already satisfied: Send2Trash in /usr/local/lib/python3.6/dist-packages (from notebook>=4.4.1->widgetsnbextension~=3.5.0->ipywidgets>=7.5.1->pandas-profiling==2.9.0) (1.5.0)\n",
            "Requirement already satisfied: terminado>=0.8.1 in /usr/local/lib/python3.6/dist-packages (from notebook>=4.4.1->widgetsnbextension~=3.5.0->ipywidgets>=7.5.1->pandas-profiling==2.9.0) (0.9.1)\n",
            "Requirement already satisfied: wcwidth in /usr/local/lib/python3.6/dist-packages (from prompt-toolkit<2.0.0,>=1.0.4->ipython>=4.0.0; python_version >= \"3.3\"->ipywidgets>=7.5.1->pandas-profiling==2.9.0) (0.2.5)\n",
            "Requirement already satisfied: ptyprocess>=0.5 in /usr/local/lib/python3.6/dist-packages (from pexpect; sys_platform != \"win32\"->ipython>=4.0.0; python_version >= \"3.3\"->ipywidgets>=7.5.1->pandas-profiling==2.9.0) (0.6.0)\n",
            "Requirement already satisfied: pyzmq>=13 in /usr/local/lib/python3.6/dist-packages (from jupyter-client->ipykernel>=4.5.1->ipywidgets>=7.5.1->pandas-profiling==2.9.0) (20.0.0)\n",
            "Requirement already satisfied: testpath in /usr/local/lib/python3.6/dist-packages (from nbconvert->notebook>=4.4.1->widgetsnbextension~=3.5.0->ipywidgets>=7.5.1->pandas-profiling==2.9.0) (0.4.4)\n",
            "Requirement already satisfied: bleach in /usr/local/lib/python3.6/dist-packages (from nbconvert->notebook>=4.4.1->widgetsnbextension~=3.5.0->ipywidgets>=7.5.1->pandas-profiling==2.9.0) (3.2.1)\n",
            "Requirement already satisfied: entrypoints>=0.2.2 in /usr/local/lib/python3.6/dist-packages (from nbconvert->notebook>=4.4.1->widgetsnbextension~=3.5.0->ipywidgets>=7.5.1->pandas-profiling==2.9.0) (0.3)\n",
            "Requirement already satisfied: pandocfilters>=1.4.1 in /usr/local/lib/python3.6/dist-packages (from nbconvert->notebook>=4.4.1->widgetsnbextension~=3.5.0->ipywidgets>=7.5.1->pandas-profiling==2.9.0) (1.4.3)\n",
            "Requirement already satisfied: defusedxml in /usr/local/lib/python3.6/dist-packages (from nbconvert->notebook>=4.4.1->widgetsnbextension~=3.5.0->ipywidgets>=7.5.1->pandas-profiling==2.9.0) (0.6.0)\n",
            "Requirement already satisfied: mistune<2,>=0.8.1 in /usr/local/lib/python3.6/dist-packages (from nbconvert->notebook>=4.4.1->widgetsnbextension~=3.5.0->ipywidgets>=7.5.1->pandas-profiling==2.9.0) (0.8.4)\n",
            "Requirement already satisfied: webencodings in /usr/local/lib/python3.6/dist-packages (from bleach->nbconvert->notebook>=4.4.1->widgetsnbextension~=3.5.0->ipywidgets>=7.5.1->pandas-profiling==2.9.0) (0.5.1)\n",
            "Requirement already satisfied: packaging in /usr/local/lib/python3.6/dist-packages (from bleach->nbconvert->notebook>=4.4.1->widgetsnbextension~=3.5.0->ipywidgets>=7.5.1->pandas-profiling==2.9.0) (20.4)\n",
            "Building wheels for collected packages: pandas-profiling, htmlmin\n",
            "  Building wheel for pandas-profiling (setup.py) ... \u001b[?25l\u001b[?25hdone\n",
            "  Created wheel for pandas-profiling: filename=pandas_profiling-2.9.0-py2.py3-none-any.whl size=258952 sha256=8409904f54cb8d47893bf605dd08c1a8b9f8464e170c917814179cf919dc743c\n",
            "  Stored in directory: /tmp/pip-ephem-wheel-cache-_aokv0zg/wheels/56/c2/dd/8d945b0443c35df7d5f62fa9e9ae105a2d8b286302b92e0109\n",
            "  Building wheel for htmlmin (setup.py) ... \u001b[?25l\u001b[?25hdone\n",
            "  Created wheel for htmlmin: filename=htmlmin-0.1.12-cp36-none-any.whl size=27085 sha256=1338dbf593a7d8263625b7dae4582ba03381f40bb3bcce21756b7a541ab8859f\n",
            "  Stored in directory: /root/.cache/pip/wheels/43/07/ac/7c5a9d708d65247ac1f94066cf1db075540b85716c30255459\n",
            "Successfully built pandas-profiling htmlmin\n",
            "Installing collected packages: confuse, tangled-up-in-unicode, imagehash, visions, htmlmin, phik, tqdm, pandas-profiling\n",
            "  Found existing installation: tqdm 4.41.1\n",
            "    Uninstalling tqdm-4.41.1:\n",
            "      Successfully uninstalled tqdm-4.41.1\n",
            "  Found existing installation: pandas-profiling 1.4.1\n",
            "    Uninstalling pandas-profiling-1.4.1:\n",
            "      Successfully uninstalled pandas-profiling-1.4.1\n",
            "Successfully installed confuse-1.4.0 htmlmin-0.1.12 imagehash-4.2.0 pandas-profiling-2.9.0 phik-0.10.0 tangled-up-in-unicode-0.0.6 tqdm-4.53.0 visions-0.5.0\n",
            "Requirement already satisfied: missingno in /usr/local/lib/python3.6/dist-packages (0.4.2)\n",
            "Requirement already satisfied: seaborn in /usr/local/lib/python3.6/dist-packages (from missingno) (0.11.0)\n",
            "Requirement already satisfied: scipy in /usr/local/lib/python3.6/dist-packages (from missingno) (1.4.1)\n",
            "Requirement already satisfied: numpy in /usr/local/lib/python3.6/dist-packages (from missingno) (1.18.5)\n",
            "Requirement already satisfied: matplotlib in /usr/local/lib/python3.6/dist-packages (from missingno) (3.2.2)\n",
            "Requirement already satisfied: pandas>=0.23 in /usr/local/lib/python3.6/dist-packages (from seaborn->missingno) (1.1.4)\n",
            "Requirement already satisfied: pyparsing!=2.0.4,!=2.1.2,!=2.1.6,>=2.0.1 in /usr/local/lib/python3.6/dist-packages (from matplotlib->missingno) (2.4.7)\n",
            "Requirement already satisfied: kiwisolver>=1.0.1 in /usr/local/lib/python3.6/dist-packages (from matplotlib->missingno) (1.3.1)\n",
            "Requirement already satisfied: cycler>=0.10 in /usr/local/lib/python3.6/dist-packages (from matplotlib->missingno) (0.10.0)\n",
            "Requirement already satisfied: python-dateutil>=2.1 in /usr/local/lib/python3.6/dist-packages (from matplotlib->missingno) (2.8.1)\n",
            "Requirement already satisfied: pytz>=2017.2 in /usr/local/lib/python3.6/dist-packages (from pandas>=0.23->seaborn->missingno) (2018.9)\n",
            "Requirement already satisfied: six in /usr/local/lib/python3.6/dist-packages (from cycler>=0.10->matplotlib->missingno) (1.15.0)\n",
            "\u001b[31mERROR: Could not find a version that satisfies the requirement sklearn.cross_validation (from versions: none)\u001b[0m\n",
            "\u001b[31mERROR: No matching distribution found for sklearn.cross_validation\u001b[0m\n"
          ],
          "name": "stdout"
        }
      ]
    },
    {
      "cell_type": "code",
      "metadata": {
        "id": "89UhocV5K9xp",
        "colab": {
          "base_uri": "https://localhost:8080/"
        },
        "outputId": "ee44a7a1-b6fe-427e-cd83-a5fa3d2907ae"
      },
      "source": [
        "import pandas as pd\n",
        "pd.options.mode.chained_assignment = None\n",
        "import numpy as np\n",
        "from sklearn.experimental import enable_iterative_imputer\n",
        "from sklearn.impute import IterativeImputer\n",
        "import missingno as msno\n",
        "import pandas_profiling\n",
        "import seaborn as sn\n",
        "import matplotlib.pyplot as plt\n",
        "import plotly.figure_factory as ff\n",
        "from plotly.offline import iplot\n",
        "import seaborn as sns\n",
        "import matplotlib.gridspec as gridspec\n",
        "from sklearn.preprocessing import RobustScaler\n",
        "from sklearn.model_selection import KFold, StratifiedKFold\n",
        "from sklearn.ensemble import RandomForestClassifier\n",
        "from sklearn.metrics import accuracy_score\n",
        "from sklearn.model_selection import train_test_split\n",
        "from sklearn.metrics import confusion_matrix,recall_score,precision_recall_curve,auc,roc_curve,roc_auc_score,classification_report\n",
        "from imblearn.over_sampling import RandomOverSampler\n",
        "from imblearn.over_sampling import SMOTE\n",
        "from sklearn.model_selection import KFold, cross_val_score, GridSearchCV"
      ],
      "execution_count": null,
      "outputs": [
        {
          "output_type": "stream",
          "text": [
            "/usr/local/lib/python3.6/dist-packages/sklearn/externals/six.py:31: FutureWarning:\n",
            "\n",
            "The module is deprecated in version 0.21 and will be removed in version 0.23 since we've dropped support for Python 2.7. Please rely on the official version of six (https://pypi.org/project/six/).\n",
            "\n",
            "/usr/local/lib/python3.6/dist-packages/sklearn/utils/deprecation.py:144: FutureWarning:\n",
            "\n",
            "The sklearn.neighbors.base module is  deprecated in version 0.22 and will be removed in version 0.24. The corresponding classes / functions should instead be imported from sklearn.neighbors. Anything that cannot be imported from sklearn.neighbors is now part of the private API.\n",
            "\n"
          ],
          "name": "stderr"
        }
      ]
    },
    {
      "cell_type": "code",
      "metadata": {
        "id": "PowXXqtDLn6w"
      },
      "source": [
        "creditcard = joined_data = pd.read_csv('/content/drive/My Drive/Case Study/creditcard.csv')"
      ],
      "execution_count": null,
      "outputs": []
    },
    {
      "cell_type": "markdown",
      "metadata": {
        "id": "TdUAAR8eMbFi"
      },
      "source": [
        "# EDA"
      ]
    },
    {
      "cell_type": "code",
      "metadata": {
        "id": "t3M1ffXaMcFx",
        "colab": {
          "base_uri": "https://localhost:8080/",
          "height": 216,
          "referenced_widgets": [
            "ae21e6583db94bfb9f89e63f78cd4a31",
            "ade3f564f5bc42acb3e38a041a508808",
            "a6f8ee1331d14f33bb371bc6351b238f",
            "9143449cceb046ac894cd4b4bcf099f4",
            "b3e143117d634a2c9e231273909445db",
            "4a8cef5632b442e58ed87fd3f3e5a689",
            "c686ee745370444cbd23f30174a3a188",
            "6168287003814ad0976551d97ce7a62e",
            "8ca104628c864b3dbe104b6f6f3e1ca4",
            "4b36a09359244d658352e57558783b1a",
            "cc13f77f76324163b64a409307aca077",
            "1878a62295e440babf5259ed1aa06fe4",
            "a840aca3b48244529027a94e4fd0dd87",
            "94a0f57275f74688a22836e57f9efe32",
            "7cc942d9988e4951a89f403e04de303a",
            "8297d8b3eb254c0c9020a10e1148bbd2",
            "8688b693af9542d6b1f3c954200d6f94",
            "7429a50dfbdc44abaa75ff8bb6d9600f",
            "5562d0f031c845769964f888b9c3d234",
            "c056871e35c34fc1963130117c377407",
            "73c82565536940f68980511d48edd235",
            "ba8139a47b124208a48130b8586aca2c",
            "ad6d96c4c178458aa6dc78703c6bdcee",
            "663082d8c8a14ed8afc6bfcdd6db5296",
            "48d9eb454cc040adadaa05144098ec2f",
            "a64ec49b1924490f889cf0880fd01663",
            "79cda17966ad446e98391a544e41b9aa",
            "edbbfb98e850441698f98e9b4a582c08",
            "5e43906e8dc4448fbda4003955789a5b",
            "236c3bf7fc7e46149390bd2471248e12",
            "47034d3ecd994680834b165ebf430e20",
            "d44a95210d154f86be853c4f5444b4c2",
            "77b7b5807f1746b2bc52a59c58a222ce",
            "53b6bdcb33a344f5a8f13ef0bf41f727",
            "ced42e05e35b41479f07ffd9eaeca22c",
            "1fec0fbd857c4d55937cc8f561db7763",
            "d19899b7153b408bb6985ebcbe39141e",
            "db5a39bd84114c0f9f947be9ecf8850b",
            "415edf89b564417a8461a76d527e0095",
            "4d890aea46324bf0a7620e6f0c70e3e3",
            "12e87d059f23461a9b0b345bf795901d",
            "634223344c1942a3b70ab99bcf66caf5",
            "9f68f9b23efd4e77b8c1f8055af9fff9",
            "a49e10c9e9f34f2c8121f4ca26a54695"
          ]
        },
        "outputId": "1fc95314-7e92-491d-ab75-aa2708679489"
      },
      "source": [
        "# pandas profiling report saved as html for the entire dataset\n",
        "profile = creditcard.profile_report(title='Credit Card Data Report', minimal = True)\n",
        "profile.to_file(output_file=\"Credit Card Data Report.html\")"
      ],
      "execution_count": null,
      "outputs": [
        {
          "output_type": "display_data",
          "data": {
            "application/vnd.jupyter.widget-view+json": {
              "model_id": "ae21e6583db94bfb9f89e63f78cd4a31",
              "version_minor": 0,
              "version_major": 2
            },
            "text/plain": [
              "HBox(children=(HTML(value='Summarize dataset'), FloatProgress(value=0.0, max=40.0), HTML(value='')))"
            ]
          },
          "metadata": {
            "tags": []
          }
        },
        {
          "output_type": "stream",
          "text": [
            "\n"
          ],
          "name": "stdout"
        },
        {
          "output_type": "display_data",
          "data": {
            "application/vnd.jupyter.widget-view+json": {
              "model_id": "1878a62295e440babf5259ed1aa06fe4",
              "version_minor": 0,
              "version_major": 2
            },
            "text/plain": [
              "HBox(children=(HTML(value='Generate report structure'), FloatProgress(value=0.0, max=1.0), HTML(value='')))"
            ]
          },
          "metadata": {
            "tags": []
          }
        },
        {
          "output_type": "stream",
          "text": [
            "\n"
          ],
          "name": "stdout"
        },
        {
          "output_type": "display_data",
          "data": {
            "application/vnd.jupyter.widget-view+json": {
              "model_id": "ad6d96c4c178458aa6dc78703c6bdcee",
              "version_minor": 0,
              "version_major": 2
            },
            "text/plain": [
              "HBox(children=(HTML(value='Render HTML'), FloatProgress(value=0.0, max=1.0), HTML(value='')))"
            ]
          },
          "metadata": {
            "tags": []
          }
        },
        {
          "output_type": "stream",
          "text": [
            "\n"
          ],
          "name": "stdout"
        },
        {
          "output_type": "display_data",
          "data": {
            "application/vnd.jupyter.widget-view+json": {
              "model_id": "53b6bdcb33a344f5a8f13ef0bf41f727",
              "version_minor": 0,
              "version_major": 2
            },
            "text/plain": [
              "HBox(children=(HTML(value='Export report to file'), FloatProgress(value=0.0, max=1.0), HTML(value='')))"
            ]
          },
          "metadata": {
            "tags": []
          }
        },
        {
          "output_type": "stream",
          "text": [
            "\n"
          ],
          "name": "stdout"
        }
      ]
    },
    {
      "cell_type": "code",
      "metadata": {
        "id": "0UnfDdB3H-U-"
      },
      "source": [
        "fraud_df = creditcard.loc[creditcard['Class'] ==1]"
      ],
      "execution_count": null,
      "outputs": []
    },
    {
      "cell_type": "code",
      "metadata": {
        "id": "AlZLL3Gqt0Ih",
        "colab": {
          "base_uri": "https://localhost:8080/",
          "height": 204
        },
        "outputId": "a65adb45-ac26-48bc-e13a-38c1cfc8ef42"
      },
      "source": [
        "# pandas profiling report saved as html for fraud data\n",
        "profile_fraud = fraud_df.profile_report(title='Fraud Data Report', minimal = True)\n",
        "profile_fraud.to_file(output_file=\"Fraud Data Report.html\")"
      ],
      "execution_count": null,
      "outputs": [
        {
          "output_type": "error",
          "ename": "NameError",
          "evalue": "ignored",
          "traceback": [
            "\u001b[0;31m---------------------------------------------------------------------------\u001b[0m",
            "\u001b[0;31mNameError\u001b[0m                                 Traceback (most recent call last)",
            "\u001b[0;32m<ipython-input-5-037ba1831a15>\u001b[0m in \u001b[0;36m<module>\u001b[0;34m()\u001b[0m\n\u001b[1;32m      1\u001b[0m \u001b[0;31m# pandas profiling report saved as html for fraud data\u001b[0m\u001b[0;34m\u001b[0m\u001b[0;34m\u001b[0m\u001b[0;34m\u001b[0m\u001b[0m\n\u001b[0;32m----> 2\u001b[0;31m \u001b[0mprofile_fraud\u001b[0m \u001b[0;34m=\u001b[0m \u001b[0mfraud_df\u001b[0m\u001b[0;34m.\u001b[0m\u001b[0mprofile_report\u001b[0m\u001b[0;34m(\u001b[0m\u001b[0mtitle\u001b[0m\u001b[0;34m=\u001b[0m\u001b[0;34m'Fraud Data Report'\u001b[0m\u001b[0;34m,\u001b[0m \u001b[0mminimal\u001b[0m \u001b[0;34m=\u001b[0m \u001b[0;32mTrue\u001b[0m\u001b[0;34m)\u001b[0m\u001b[0;34m\u001b[0m\u001b[0;34m\u001b[0m\u001b[0m\n\u001b[0m\u001b[1;32m      3\u001b[0m \u001b[0mprofile_fraud\u001b[0m\u001b[0;34m.\u001b[0m\u001b[0mto_file\u001b[0m\u001b[0;34m(\u001b[0m\u001b[0moutput_file\u001b[0m\u001b[0;34m=\u001b[0m\u001b[0;34m\"Fraud Data Report.html\"\u001b[0m\u001b[0;34m)\u001b[0m\u001b[0;34m\u001b[0m\u001b[0;34m\u001b[0m\u001b[0m\n",
            "\u001b[0;31mNameError\u001b[0m: name 'fraud_df' is not defined"
          ]
        }
      ]
    },
    {
      "cell_type": "code",
      "metadata": {
        "id": "KTbpKgchUNvF",
        "colab": {
          "base_uri": "https://localhost:8080/",
          "height": 419
        },
        "outputId": "5b360b9a-4cb4-45a8-b8aa-c112ab345764"
      },
      "source": [
        "# duplicate rows\n",
        "creditcard[creditcard.duplicated(keep=False)]"
      ],
      "execution_count": null,
      "outputs": [
        {
          "output_type": "execute_result",
          "data": {
            "text/html": [
              "<div>\n",
              "<style scoped>\n",
              "    .dataframe tbody tr th:only-of-type {\n",
              "        vertical-align: middle;\n",
              "    }\n",
              "\n",
              "    .dataframe tbody tr th {\n",
              "        vertical-align: top;\n",
              "    }\n",
              "\n",
              "    .dataframe thead th {\n",
              "        text-align: right;\n",
              "    }\n",
              "</style>\n",
              "<table border=\"1\" class=\"dataframe\">\n",
              "  <thead>\n",
              "    <tr style=\"text-align: right;\">\n",
              "      <th></th>\n",
              "      <th>Time</th>\n",
              "      <th>V1</th>\n",
              "      <th>V2</th>\n",
              "      <th>V3</th>\n",
              "      <th>V4</th>\n",
              "      <th>V5</th>\n",
              "      <th>V6</th>\n",
              "      <th>V7</th>\n",
              "      <th>V8</th>\n",
              "      <th>V9</th>\n",
              "      <th>V10</th>\n",
              "      <th>V11</th>\n",
              "      <th>V12</th>\n",
              "      <th>V13</th>\n",
              "      <th>V14</th>\n",
              "      <th>V15</th>\n",
              "      <th>V16</th>\n",
              "      <th>V17</th>\n",
              "      <th>V18</th>\n",
              "      <th>V19</th>\n",
              "      <th>V20</th>\n",
              "      <th>V21</th>\n",
              "      <th>V22</th>\n",
              "      <th>V23</th>\n",
              "      <th>V24</th>\n",
              "      <th>V25</th>\n",
              "      <th>V26</th>\n",
              "      <th>V27</th>\n",
              "      <th>V28</th>\n",
              "      <th>Amount</th>\n",
              "      <th>Class</th>\n",
              "    </tr>\n",
              "  </thead>\n",
              "  <tbody>\n",
              "    <tr>\n",
              "      <th>32</th>\n",
              "      <td>26.0</td>\n",
              "      <td>-0.529912</td>\n",
              "      <td>0.873892</td>\n",
              "      <td>1.347247</td>\n",
              "      <td>0.145457</td>\n",
              "      <td>0.414209</td>\n",
              "      <td>0.100223</td>\n",
              "      <td>0.711206</td>\n",
              "      <td>0.176066</td>\n",
              "      <td>-0.286717</td>\n",
              "      <td>-0.484688</td>\n",
              "      <td>0.872490</td>\n",
              "      <td>0.851636</td>\n",
              "      <td>-0.571745</td>\n",
              "      <td>0.100974</td>\n",
              "      <td>-1.519772</td>\n",
              "      <td>-0.284376</td>\n",
              "      <td>-0.310524</td>\n",
              "      <td>-0.404248</td>\n",
              "      <td>-0.823374</td>\n",
              "      <td>-0.290348</td>\n",
              "      <td>0.046949</td>\n",
              "      <td>0.208105</td>\n",
              "      <td>-0.185548</td>\n",
              "      <td>0.001031</td>\n",
              "      <td>0.098816</td>\n",
              "      <td>-0.552904</td>\n",
              "      <td>-0.073288</td>\n",
              "      <td>0.023307</td>\n",
              "      <td>6.14</td>\n",
              "      <td>0</td>\n",
              "    </tr>\n",
              "    <tr>\n",
              "      <th>33</th>\n",
              "      <td>26.0</td>\n",
              "      <td>-0.529912</td>\n",
              "      <td>0.873892</td>\n",
              "      <td>1.347247</td>\n",
              "      <td>0.145457</td>\n",
              "      <td>0.414209</td>\n",
              "      <td>0.100223</td>\n",
              "      <td>0.711206</td>\n",
              "      <td>0.176066</td>\n",
              "      <td>-0.286717</td>\n",
              "      <td>-0.484688</td>\n",
              "      <td>0.872490</td>\n",
              "      <td>0.851636</td>\n",
              "      <td>-0.571745</td>\n",
              "      <td>0.100974</td>\n",
              "      <td>-1.519772</td>\n",
              "      <td>-0.284376</td>\n",
              "      <td>-0.310524</td>\n",
              "      <td>-0.404248</td>\n",
              "      <td>-0.823374</td>\n",
              "      <td>-0.290348</td>\n",
              "      <td>0.046949</td>\n",
              "      <td>0.208105</td>\n",
              "      <td>-0.185548</td>\n",
              "      <td>0.001031</td>\n",
              "      <td>0.098816</td>\n",
              "      <td>-0.552904</td>\n",
              "      <td>-0.073288</td>\n",
              "      <td>0.023307</td>\n",
              "      <td>6.14</td>\n",
              "      <td>0</td>\n",
              "    </tr>\n",
              "    <tr>\n",
              "      <th>34</th>\n",
              "      <td>26.0</td>\n",
              "      <td>-0.535388</td>\n",
              "      <td>0.865268</td>\n",
              "      <td>1.351076</td>\n",
              "      <td>0.147575</td>\n",
              "      <td>0.433680</td>\n",
              "      <td>0.086983</td>\n",
              "      <td>0.693039</td>\n",
              "      <td>0.179742</td>\n",
              "      <td>-0.285642</td>\n",
              "      <td>-0.482474</td>\n",
              "      <td>0.871800</td>\n",
              "      <td>0.853447</td>\n",
              "      <td>-0.571822</td>\n",
              "      <td>0.102252</td>\n",
              "      <td>-1.519991</td>\n",
              "      <td>-0.285912</td>\n",
              "      <td>-0.309633</td>\n",
              "      <td>-0.403902</td>\n",
              "      <td>-0.823743</td>\n",
              "      <td>-0.283264</td>\n",
              "      <td>0.049526</td>\n",
              "      <td>0.206537</td>\n",
              "      <td>-0.187108</td>\n",
              "      <td>0.000753</td>\n",
              "      <td>0.098117</td>\n",
              "      <td>-0.553471</td>\n",
              "      <td>-0.078306</td>\n",
              "      <td>0.025427</td>\n",
              "      <td>1.77</td>\n",
              "      <td>0</td>\n",
              "    </tr>\n",
              "    <tr>\n",
              "      <th>35</th>\n",
              "      <td>26.0</td>\n",
              "      <td>-0.535388</td>\n",
              "      <td>0.865268</td>\n",
              "      <td>1.351076</td>\n",
              "      <td>0.147575</td>\n",
              "      <td>0.433680</td>\n",
              "      <td>0.086983</td>\n",
              "      <td>0.693039</td>\n",
              "      <td>0.179742</td>\n",
              "      <td>-0.285642</td>\n",
              "      <td>-0.482474</td>\n",
              "      <td>0.871800</td>\n",
              "      <td>0.853447</td>\n",
              "      <td>-0.571822</td>\n",
              "      <td>0.102252</td>\n",
              "      <td>-1.519991</td>\n",
              "      <td>-0.285912</td>\n",
              "      <td>-0.309633</td>\n",
              "      <td>-0.403902</td>\n",
              "      <td>-0.823743</td>\n",
              "      <td>-0.283264</td>\n",
              "      <td>0.049526</td>\n",
              "      <td>0.206537</td>\n",
              "      <td>-0.187108</td>\n",
              "      <td>0.000753</td>\n",
              "      <td>0.098117</td>\n",
              "      <td>-0.553471</td>\n",
              "      <td>-0.078306</td>\n",
              "      <td>0.025427</td>\n",
              "      <td>1.77</td>\n",
              "      <td>0</td>\n",
              "    </tr>\n",
              "    <tr>\n",
              "      <th>112</th>\n",
              "      <td>74.0</td>\n",
              "      <td>1.038370</td>\n",
              "      <td>0.127486</td>\n",
              "      <td>0.184456</td>\n",
              "      <td>1.109950</td>\n",
              "      <td>0.441699</td>\n",
              "      <td>0.945283</td>\n",
              "      <td>-0.036715</td>\n",
              "      <td>0.350995</td>\n",
              "      <td>0.118950</td>\n",
              "      <td>-0.243289</td>\n",
              "      <td>0.578063</td>\n",
              "      <td>0.674730</td>\n",
              "      <td>-0.534231</td>\n",
              "      <td>0.446601</td>\n",
              "      <td>1.122885</td>\n",
              "      <td>-1.768001</td>\n",
              "      <td>1.241157</td>\n",
              "      <td>-2.449500</td>\n",
              "      <td>-1.747255</td>\n",
              "      <td>-0.335520</td>\n",
              "      <td>0.102520</td>\n",
              "      <td>0.605089</td>\n",
              "      <td>0.023092</td>\n",
              "      <td>-0.626463</td>\n",
              "      <td>0.479120</td>\n",
              "      <td>-0.166937</td>\n",
              "      <td>0.081247</td>\n",
              "      <td>0.001192</td>\n",
              "      <td>1.18</td>\n",
              "      <td>0</td>\n",
              "    </tr>\n",
              "    <tr>\n",
              "      <th>...</th>\n",
              "      <td>...</td>\n",
              "      <td>...</td>\n",
              "      <td>...</td>\n",
              "      <td>...</td>\n",
              "      <td>...</td>\n",
              "      <td>...</td>\n",
              "      <td>...</td>\n",
              "      <td>...</td>\n",
              "      <td>...</td>\n",
              "      <td>...</td>\n",
              "      <td>...</td>\n",
              "      <td>...</td>\n",
              "      <td>...</td>\n",
              "      <td>...</td>\n",
              "      <td>...</td>\n",
              "      <td>...</td>\n",
              "      <td>...</td>\n",
              "      <td>...</td>\n",
              "      <td>...</td>\n",
              "      <td>...</td>\n",
              "      <td>...</td>\n",
              "      <td>...</td>\n",
              "      <td>...</td>\n",
              "      <td>...</td>\n",
              "      <td>...</td>\n",
              "      <td>...</td>\n",
              "      <td>...</td>\n",
              "      <td>...</td>\n",
              "      <td>...</td>\n",
              "      <td>...</td>\n",
              "      <td>...</td>\n",
              "    </tr>\n",
              "    <tr>\n",
              "      <th>283485</th>\n",
              "      <td>171627.0</td>\n",
              "      <td>-1.457978</td>\n",
              "      <td>1.378203</td>\n",
              "      <td>0.811515</td>\n",
              "      <td>-0.603760</td>\n",
              "      <td>-0.711883</td>\n",
              "      <td>-0.471672</td>\n",
              "      <td>-0.282535</td>\n",
              "      <td>0.880654</td>\n",
              "      <td>0.052808</td>\n",
              "      <td>-0.830603</td>\n",
              "      <td>-1.191774</td>\n",
              "      <td>0.942870</td>\n",
              "      <td>1.372621</td>\n",
              "      <td>-0.037988</td>\n",
              "      <td>-0.208490</td>\n",
              "      <td>0.321883</td>\n",
              "      <td>-0.205951</td>\n",
              "      <td>-0.025225</td>\n",
              "      <td>-0.468427</td>\n",
              "      <td>0.023667</td>\n",
              "      <td>0.284205</td>\n",
              "      <td>0.949659</td>\n",
              "      <td>-0.216949</td>\n",
              "      <td>0.083250</td>\n",
              "      <td>0.044944</td>\n",
              "      <td>0.639933</td>\n",
              "      <td>0.219432</td>\n",
              "      <td>0.116772</td>\n",
              "      <td>11.93</td>\n",
              "      <td>0</td>\n",
              "    </tr>\n",
              "    <tr>\n",
              "      <th>284190</th>\n",
              "      <td>172233.0</td>\n",
              "      <td>-2.667936</td>\n",
              "      <td>3.160505</td>\n",
              "      <td>-3.355984</td>\n",
              "      <td>1.007845</td>\n",
              "      <td>-0.377397</td>\n",
              "      <td>-0.109730</td>\n",
              "      <td>-0.667233</td>\n",
              "      <td>2.309700</td>\n",
              "      <td>-1.639306</td>\n",
              "      <td>-1.449823</td>\n",
              "      <td>-0.508930</td>\n",
              "      <td>0.600035</td>\n",
              "      <td>-0.627313</td>\n",
              "      <td>1.017499</td>\n",
              "      <td>-0.887384</td>\n",
              "      <td>0.420096</td>\n",
              "      <td>1.856497</td>\n",
              "      <td>1.315099</td>\n",
              "      <td>1.096112</td>\n",
              "      <td>-0.821707</td>\n",
              "      <td>0.391483</td>\n",
              "      <td>0.266536</td>\n",
              "      <td>-0.079853</td>\n",
              "      <td>-0.096395</td>\n",
              "      <td>0.086719</td>\n",
              "      <td>-0.451128</td>\n",
              "      <td>-1.183743</td>\n",
              "      <td>-0.222200</td>\n",
              "      <td>55.66</td>\n",
              "      <td>0</td>\n",
              "    </tr>\n",
              "    <tr>\n",
              "      <th>284191</th>\n",
              "      <td>172233.0</td>\n",
              "      <td>-2.667936</td>\n",
              "      <td>3.160505</td>\n",
              "      <td>-3.355984</td>\n",
              "      <td>1.007845</td>\n",
              "      <td>-0.377397</td>\n",
              "      <td>-0.109730</td>\n",
              "      <td>-0.667233</td>\n",
              "      <td>2.309700</td>\n",
              "      <td>-1.639306</td>\n",
              "      <td>-1.449823</td>\n",
              "      <td>-0.508930</td>\n",
              "      <td>0.600035</td>\n",
              "      <td>-0.627313</td>\n",
              "      <td>1.017499</td>\n",
              "      <td>-0.887384</td>\n",
              "      <td>0.420096</td>\n",
              "      <td>1.856497</td>\n",
              "      <td>1.315099</td>\n",
              "      <td>1.096112</td>\n",
              "      <td>-0.821707</td>\n",
              "      <td>0.391483</td>\n",
              "      <td>0.266536</td>\n",
              "      <td>-0.079853</td>\n",
              "      <td>-0.096395</td>\n",
              "      <td>0.086719</td>\n",
              "      <td>-0.451128</td>\n",
              "      <td>-1.183743</td>\n",
              "      <td>-0.222200</td>\n",
              "      <td>55.66</td>\n",
              "      <td>0</td>\n",
              "    </tr>\n",
              "    <tr>\n",
              "      <th>284192</th>\n",
              "      <td>172233.0</td>\n",
              "      <td>-2.691642</td>\n",
              "      <td>3.123168</td>\n",
              "      <td>-3.339407</td>\n",
              "      <td>1.017018</td>\n",
              "      <td>-0.293095</td>\n",
              "      <td>-0.167054</td>\n",
              "      <td>-0.745886</td>\n",
              "      <td>2.325616</td>\n",
              "      <td>-1.634651</td>\n",
              "      <td>-1.440241</td>\n",
              "      <td>-0.511918</td>\n",
              "      <td>0.607878</td>\n",
              "      <td>-0.627645</td>\n",
              "      <td>1.023032</td>\n",
              "      <td>-0.888334</td>\n",
              "      <td>0.413444</td>\n",
              "      <td>1.860351</td>\n",
              "      <td>1.316597</td>\n",
              "      <td>1.094512</td>\n",
              "      <td>-0.791037</td>\n",
              "      <td>0.402639</td>\n",
              "      <td>0.259746</td>\n",
              "      <td>-0.086606</td>\n",
              "      <td>-0.097597</td>\n",
              "      <td>0.083693</td>\n",
              "      <td>-0.453584</td>\n",
              "      <td>-1.205466</td>\n",
              "      <td>-0.213020</td>\n",
              "      <td>36.74</td>\n",
              "      <td>0</td>\n",
              "    </tr>\n",
              "    <tr>\n",
              "      <th>284193</th>\n",
              "      <td>172233.0</td>\n",
              "      <td>-2.691642</td>\n",
              "      <td>3.123168</td>\n",
              "      <td>-3.339407</td>\n",
              "      <td>1.017018</td>\n",
              "      <td>-0.293095</td>\n",
              "      <td>-0.167054</td>\n",
              "      <td>-0.745886</td>\n",
              "      <td>2.325616</td>\n",
              "      <td>-1.634651</td>\n",
              "      <td>-1.440241</td>\n",
              "      <td>-0.511918</td>\n",
              "      <td>0.607878</td>\n",
              "      <td>-0.627645</td>\n",
              "      <td>1.023032</td>\n",
              "      <td>-0.888334</td>\n",
              "      <td>0.413444</td>\n",
              "      <td>1.860351</td>\n",
              "      <td>1.316597</td>\n",
              "      <td>1.094512</td>\n",
              "      <td>-0.791037</td>\n",
              "      <td>0.402639</td>\n",
              "      <td>0.259746</td>\n",
              "      <td>-0.086606</td>\n",
              "      <td>-0.097597</td>\n",
              "      <td>0.083693</td>\n",
              "      <td>-0.453584</td>\n",
              "      <td>-1.205466</td>\n",
              "      <td>-0.213020</td>\n",
              "      <td>36.74</td>\n",
              "      <td>0</td>\n",
              "    </tr>\n",
              "  </tbody>\n",
              "</table>\n",
              "<p>1854 rows × 31 columns</p>\n",
              "</div>"
            ],
            "text/plain": [
              "            Time        V1        V2  ...       V28  Amount  Class\n",
              "32          26.0 -0.529912  0.873892  ...  0.023307    6.14      0\n",
              "33          26.0 -0.529912  0.873892  ...  0.023307    6.14      0\n",
              "34          26.0 -0.535388  0.865268  ...  0.025427    1.77      0\n",
              "35          26.0 -0.535388  0.865268  ...  0.025427    1.77      0\n",
              "112         74.0  1.038370  0.127486  ...  0.001192    1.18      0\n",
              "...          ...       ...       ...  ...       ...     ...    ...\n",
              "283485  171627.0 -1.457978  1.378203  ...  0.116772   11.93      0\n",
              "284190  172233.0 -2.667936  3.160505  ... -0.222200   55.66      0\n",
              "284191  172233.0 -2.667936  3.160505  ... -0.222200   55.66      0\n",
              "284192  172233.0 -2.691642  3.123168  ... -0.213020   36.74      0\n",
              "284193  172233.0 -2.691642  3.123168  ... -0.213020   36.74      0\n",
              "\n",
              "[1854 rows x 31 columns]"
            ]
          },
          "metadata": {
            "tags": []
          },
          "execution_count": 6
        }
      ]
    },
    {
      "cell_type": "code",
      "metadata": {
        "id": "k5fWhu0zVHhw"
      },
      "source": [
        "# get ride of duplicate rows\n",
        "creditcard = creditcard.drop_duplicates()"
      ],
      "execution_count": null,
      "outputs": []
    },
    {
      "cell_type": "code",
      "metadata": {
        "id": "-7_lr1SHVmss"
      },
      "source": [
        "# correlation\n",
        "corrMatrix = creditcard.corr()\n",
        "heatmap = sn.heatmap(corrMatrix)\n",
        "heatmap.set_title('Heat Map for Credit Card Data')\n",
        "plt.show()"
      ],
      "execution_count": null,
      "outputs": []
    },
    {
      "cell_type": "code",
      "metadata": {
        "id": "7cF0iQ17vFlA"
      },
      "source": [
        "# correlation for fraud\n",
        "corrMatrix_fraud = fraud_df.corr()\n",
        "heatmap_fraud = sn.heatmap(corrMatrix_fraud)\n",
        "heatmap_fraud.set_title('Heat Map for Fraud Data')\n",
        "plt.show()"
      ],
      "execution_count": null,
      "outputs": []
    },
    {
      "cell_type": "code",
      "metadata": {
        "id": "3Wbwm28qPzal"
      },
      "source": [
        "# time and class distribution\n",
        "\n",
        "class_0 = creditcard.loc[creditcard['Class'] == 0][\"Time\"]\n",
        "class_1 = creditcard.loc[creditcard['Class'] == 1][\"Time\"]\n",
        "#plt.figure(figsize = (14,4))\n",
        "#plt.title('Credit Card Transactions Time Density Plot')\n",
        "#sns.set_color_codes(\"pastel\")\n",
        "#sns.distplot(class_0,kde=True,bins=480)\n",
        "#sns.distplot(class_1,kde=True,bins=480)\n",
        "#plt.show()\n",
        "hist_data = [class_0, class_1]\n",
        "group_labels = ['normal', 'Fraud']\n",
        "\n",
        "fig = ff.create_distplot(hist_data, group_labels, show_hist=False, show_rug=False)\n",
        "fig['layout'].update(title='Credit Card Transactions Time Density Plot', xaxis=dict(title='Time [s]'))\n",
        "iplot(fig, filename='dist_only')"
      ],
      "execution_count": null,
      "outputs": []
    },
    {
      "cell_type": "code",
      "metadata": {
        "id": "8MvWHTnCjAKe"
      },
      "source": [
        "#Looking the V's features\n",
        "columns = creditcard.iloc[:,1:29].columns\n",
        "\n",
        "frauds = creditcard.Class == 1\n",
        "normals = creditcard.Class == 0\n",
        "\n",
        "grid = gridspec.GridSpec(14, 2)\n",
        "plt.figure(figsize=(15,20*4))\n",
        "\n",
        "for n, col in enumerate(creditcard[columns]):\n",
        "    ax = plt.subplot(grid[n])\n",
        "    sns.distplot(creditcard[col][frauds], color='g')\n",
        "    sns.distplot(creditcard[col][normals], color='r')\n",
        "    ax.set_ylabel('Density')\n",
        "    ax.set_title(str(col))\n",
        "    ax.set_xlabel('')\n",
        "plt.show()"
      ],
      "execution_count": null,
      "outputs": []
    },
    {
      "cell_type": "code",
      "metadata": {
        "id": "9_g7NbZNr7lJ"
      },
      "source": [
        "colors = [\"#0101DF\", \"#DF0101\"]\n",
        "\n",
        "sns.countplot('Class', data=creditcard, palette=colors)\n",
        "plt.title('Class Distributions \\n (0: No Fraud || 1: Fraud)', fontsize=14)"
      ],
      "execution_count": null,
      "outputs": []
    },
    {
      "cell_type": "markdown",
      "metadata": {
        "id": "Cc0VfaSJ1tKL"
      },
      "source": [
        "# Scaling"
      ]
    },
    {
      "cell_type": "code",
      "metadata": {
        "id": "0Tm3cN7frkJp"
      },
      "source": [
        "#scaling\n",
        "rob_scaler = RobustScaler()\n",
        "\n",
        "creditcard['scaled_amount'] = rob_scaler.fit_transform(creditcard['Amount'].values.reshape(-1,1))\n",
        "creditcard['scaled_time'] = rob_scaler.fit_transform(creditcard['Time'].values.reshape(-1,1))\n",
        "\n",
        "creditcard.drop(['Time','Amount'], axis=1, inplace=True)"
      ],
      "execution_count": null,
      "outputs": []
    },
    {
      "cell_type": "code",
      "metadata": {
        "colab": {
          "base_uri": "https://localhost:8080/",
          "height": 214
        },
        "id": "672p5TFpviJV",
        "outputId": "02aa0f48-ca54-4f38-f551-33a7aa42d4a5"
      },
      "source": [
        "creditcard.head()"
      ],
      "execution_count": null,
      "outputs": [
        {
          "output_type": "execute_result",
          "data": {
            "text/html": [
              "<div>\n",
              "<style scoped>\n",
              "    .dataframe tbody tr th:only-of-type {\n",
              "        vertical-align: middle;\n",
              "    }\n",
              "\n",
              "    .dataframe tbody tr th {\n",
              "        vertical-align: top;\n",
              "    }\n",
              "\n",
              "    .dataframe thead th {\n",
              "        text-align: right;\n",
              "    }\n",
              "</style>\n",
              "<table border=\"1\" class=\"dataframe\">\n",
              "  <thead>\n",
              "    <tr style=\"text-align: right;\">\n",
              "      <th></th>\n",
              "      <th>V1</th>\n",
              "      <th>V2</th>\n",
              "      <th>V3</th>\n",
              "      <th>V4</th>\n",
              "      <th>V5</th>\n",
              "      <th>V6</th>\n",
              "      <th>V7</th>\n",
              "      <th>V8</th>\n",
              "      <th>V9</th>\n",
              "      <th>V10</th>\n",
              "      <th>V11</th>\n",
              "      <th>V12</th>\n",
              "      <th>V13</th>\n",
              "      <th>V14</th>\n",
              "      <th>V15</th>\n",
              "      <th>V16</th>\n",
              "      <th>V17</th>\n",
              "      <th>V18</th>\n",
              "      <th>V19</th>\n",
              "      <th>V20</th>\n",
              "      <th>V21</th>\n",
              "      <th>V22</th>\n",
              "      <th>V23</th>\n",
              "      <th>V24</th>\n",
              "      <th>V25</th>\n",
              "      <th>V26</th>\n",
              "      <th>V27</th>\n",
              "      <th>V28</th>\n",
              "      <th>Class</th>\n",
              "      <th>scaled_amount</th>\n",
              "      <th>scaled_time</th>\n",
              "    </tr>\n",
              "  </thead>\n",
              "  <tbody>\n",
              "    <tr>\n",
              "      <th>0</th>\n",
              "      <td>-1.359807</td>\n",
              "      <td>-0.072781</td>\n",
              "      <td>2.536347</td>\n",
              "      <td>1.378155</td>\n",
              "      <td>-0.338321</td>\n",
              "      <td>0.462388</td>\n",
              "      <td>0.239599</td>\n",
              "      <td>0.098698</td>\n",
              "      <td>0.363787</td>\n",
              "      <td>0.090794</td>\n",
              "      <td>-0.551600</td>\n",
              "      <td>-0.617801</td>\n",
              "      <td>-0.991390</td>\n",
              "      <td>-0.311169</td>\n",
              "      <td>1.468177</td>\n",
              "      <td>-0.470401</td>\n",
              "      <td>0.207971</td>\n",
              "      <td>0.025791</td>\n",
              "      <td>0.403993</td>\n",
              "      <td>0.251412</td>\n",
              "      <td>-0.018307</td>\n",
              "      <td>0.277838</td>\n",
              "      <td>-0.110474</td>\n",
              "      <td>0.066928</td>\n",
              "      <td>0.128539</td>\n",
              "      <td>-0.189115</td>\n",
              "      <td>0.133558</td>\n",
              "      <td>-0.021053</td>\n",
              "      <td>0</td>\n",
              "      <td>1.774718</td>\n",
              "      <td>-0.995290</td>\n",
              "    </tr>\n",
              "    <tr>\n",
              "      <th>1</th>\n",
              "      <td>1.191857</td>\n",
              "      <td>0.266151</td>\n",
              "      <td>0.166480</td>\n",
              "      <td>0.448154</td>\n",
              "      <td>0.060018</td>\n",
              "      <td>-0.082361</td>\n",
              "      <td>-0.078803</td>\n",
              "      <td>0.085102</td>\n",
              "      <td>-0.255425</td>\n",
              "      <td>-0.166974</td>\n",
              "      <td>1.612727</td>\n",
              "      <td>1.065235</td>\n",
              "      <td>0.489095</td>\n",
              "      <td>-0.143772</td>\n",
              "      <td>0.635558</td>\n",
              "      <td>0.463917</td>\n",
              "      <td>-0.114805</td>\n",
              "      <td>-0.183361</td>\n",
              "      <td>-0.145783</td>\n",
              "      <td>-0.069083</td>\n",
              "      <td>-0.225775</td>\n",
              "      <td>-0.638672</td>\n",
              "      <td>0.101288</td>\n",
              "      <td>-0.339846</td>\n",
              "      <td>0.167170</td>\n",
              "      <td>0.125895</td>\n",
              "      <td>-0.008983</td>\n",
              "      <td>0.014724</td>\n",
              "      <td>0</td>\n",
              "      <td>-0.268530</td>\n",
              "      <td>-0.995290</td>\n",
              "    </tr>\n",
              "    <tr>\n",
              "      <th>2</th>\n",
              "      <td>-1.358354</td>\n",
              "      <td>-1.340163</td>\n",
              "      <td>1.773209</td>\n",
              "      <td>0.379780</td>\n",
              "      <td>-0.503198</td>\n",
              "      <td>1.800499</td>\n",
              "      <td>0.791461</td>\n",
              "      <td>0.247676</td>\n",
              "      <td>-1.514654</td>\n",
              "      <td>0.207643</td>\n",
              "      <td>0.624501</td>\n",
              "      <td>0.066084</td>\n",
              "      <td>0.717293</td>\n",
              "      <td>-0.165946</td>\n",
              "      <td>2.345865</td>\n",
              "      <td>-2.890083</td>\n",
              "      <td>1.109969</td>\n",
              "      <td>-0.121359</td>\n",
              "      <td>-2.261857</td>\n",
              "      <td>0.524980</td>\n",
              "      <td>0.247998</td>\n",
              "      <td>0.771679</td>\n",
              "      <td>0.909412</td>\n",
              "      <td>-0.689281</td>\n",
              "      <td>-0.327642</td>\n",
              "      <td>-0.139097</td>\n",
              "      <td>-0.055353</td>\n",
              "      <td>-0.059752</td>\n",
              "      <td>0</td>\n",
              "      <td>4.959811</td>\n",
              "      <td>-0.995279</td>\n",
              "    </tr>\n",
              "    <tr>\n",
              "      <th>3</th>\n",
              "      <td>-0.966272</td>\n",
              "      <td>-0.185226</td>\n",
              "      <td>1.792993</td>\n",
              "      <td>-0.863291</td>\n",
              "      <td>-0.010309</td>\n",
              "      <td>1.247203</td>\n",
              "      <td>0.237609</td>\n",
              "      <td>0.377436</td>\n",
              "      <td>-1.387024</td>\n",
              "      <td>-0.054952</td>\n",
              "      <td>-0.226487</td>\n",
              "      <td>0.178228</td>\n",
              "      <td>0.507757</td>\n",
              "      <td>-0.287924</td>\n",
              "      <td>-0.631418</td>\n",
              "      <td>-1.059647</td>\n",
              "      <td>-0.684093</td>\n",
              "      <td>1.965775</td>\n",
              "      <td>-1.232622</td>\n",
              "      <td>-0.208038</td>\n",
              "      <td>-0.108300</td>\n",
              "      <td>0.005274</td>\n",
              "      <td>-0.190321</td>\n",
              "      <td>-1.175575</td>\n",
              "      <td>0.647376</td>\n",
              "      <td>-0.221929</td>\n",
              "      <td>0.062723</td>\n",
              "      <td>0.061458</td>\n",
              "      <td>0</td>\n",
              "      <td>1.411487</td>\n",
              "      <td>-0.995279</td>\n",
              "    </tr>\n",
              "    <tr>\n",
              "      <th>4</th>\n",
              "      <td>-1.158233</td>\n",
              "      <td>0.877737</td>\n",
              "      <td>1.548718</td>\n",
              "      <td>0.403034</td>\n",
              "      <td>-0.407193</td>\n",
              "      <td>0.095921</td>\n",
              "      <td>0.592941</td>\n",
              "      <td>-0.270533</td>\n",
              "      <td>0.817739</td>\n",
              "      <td>0.753074</td>\n",
              "      <td>-0.822843</td>\n",
              "      <td>0.538196</td>\n",
              "      <td>1.345852</td>\n",
              "      <td>-1.119670</td>\n",
              "      <td>0.175121</td>\n",
              "      <td>-0.451449</td>\n",
              "      <td>-0.237033</td>\n",
              "      <td>-0.038195</td>\n",
              "      <td>0.803487</td>\n",
              "      <td>0.408542</td>\n",
              "      <td>-0.009431</td>\n",
              "      <td>0.798278</td>\n",
              "      <td>-0.137458</td>\n",
              "      <td>0.141267</td>\n",
              "      <td>-0.206010</td>\n",
              "      <td>0.502292</td>\n",
              "      <td>0.219422</td>\n",
              "      <td>0.215153</td>\n",
              "      <td>0</td>\n",
              "      <td>0.667362</td>\n",
              "      <td>-0.995267</td>\n",
              "    </tr>\n",
              "  </tbody>\n",
              "</table>\n",
              "</div>"
            ],
            "text/plain": [
              "         V1        V2        V3  ...  Class  scaled_amount  scaled_time\n",
              "0 -1.359807 -0.072781  2.536347  ...      0       1.774718    -0.995290\n",
              "1  1.191857  0.266151  0.166480  ...      0      -0.268530    -0.995290\n",
              "2 -1.358354 -1.340163  1.773209  ...      0       4.959811    -0.995279\n",
              "3 -0.966272 -0.185226  1.792993  ...      0       1.411487    -0.995279\n",
              "4 -1.158233  0.877737  1.548718  ...      0       0.667362    -0.995267\n",
              "\n",
              "[5 rows x 31 columns]"
            ]
          },
          "metadata": {
            "tags": []
          },
          "execution_count": 6
        }
      ]
    },
    {
      "cell_type": "code",
      "metadata": {
        "id": "wlGIrMBqKpez"
      },
      "source": [
        "creditcard_df = creditcard.copy()"
      ],
      "execution_count": null,
      "outputs": []
    },
    {
      "cell_type": "markdown",
      "metadata": {
        "id": "dEBs-GTgzW4G"
      },
      "source": [
        "# Modeling"
      ]
    },
    {
      "cell_type": "code",
      "metadata": {
        "id": "th7LC9n6vmrd"
      },
      "source": [
        "def data_prepration(x): \n",
        "    x_features= x.iloc[:,x.columns != \"Class\"]\n",
        "    x_labels=x.iloc[:,x.columns==\"Class\"]\n",
        "    x_features_train,x_features_test,x_labels_train,x_labels_test = train_test_split(x_features,x_labels,random_state=42,test_size=0.2)\n",
        "    print(\"length of training data\")\n",
        "    print(len(x_features_train))\n",
        "    print(\"length of test data\")\n",
        "    print(len(x_features_test))\n",
        "    return(x_features_train,x_features_test,x_labels_train,x_labels_test)"
      ],
      "execution_count": null,
      "outputs": []
    },
    {
      "cell_type": "code",
      "metadata": {
        "id": "UJOw9OtBA5XF"
      },
      "source": [
        "clf= RandomForestClassifier(n_estimators=100)"
      ],
      "execution_count": null,
      "outputs": []
    },
    {
      "cell_type": "code",
      "metadata": {
        "id": "YlCY6_quH6DT"
      },
      "source": [
        "Count_Normal_transacation = len(creditcard_df[creditcard_df[\"Class\"]==0]) # normal transaction are repersented by 0\n",
        "Count_Fraud_transacation = len(creditcard_df[creditcard_df[\"Class\"]==1]) # fraud by 1"
      ],
      "execution_count": null,
      "outputs": []
    },
    {
      "cell_type": "markdown",
      "metadata": {
        "id": "hRIXqADE1zBG"
      },
      "source": [
        "Undersampling:\n",
        "\n",
        "\n",
        "![image.png](data:image/png;base64,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)"
      ]
    },
    {
      "cell_type": "code",
      "metadata": {
        "id": "UzCzR2rtz7dj"
      },
      "source": [
        "\n",
        "# function for make undersample data with different proportion\n",
        "# different proportion means with different proportion of normal classes of data\n",
        "def undersample(normal_indices,fraud_indices,times):#normal data = times*fraud data\n",
        "    Normal_indices_undersample = np.array(np.random.choice(normal_indices,(times*Count_Fraud_transacation),replace=False))\n",
        "    undersample_data= np.concatenate([fraud_indices,Normal_indices_undersample])\n",
        "    undersample_data = undersample_data.tolist()\n",
        "    undersample_data = creditcard_df.loc[undersample_data]\n",
        "    \n",
        "    print(\"the normal transacation proportion is :\", len(undersample_data[undersample_data[\"Class\"]==0])/len(undersample_data))\n",
        "    print(\"the fraud transacation proportion is :\", len(undersample_data[undersample_data[\"Class\"]==1])/len(undersample_data))\n",
        "    print(\"total number of record in resampled data is:\",len(undersample_data))\n",
        "    return(undersample_data)"
      ],
      "execution_count": null,
      "outputs": []
    },
    {
      "cell_type": "code",
      "metadata": {
        "id": "PHPmvfWSIzwf"
      },
      "source": [
        "## first make a model function for modeling with confusion matrix\n",
        "def model(model,features_train,features_test,labels_train,labels_test):\n",
        "    clf= model\n",
        "    clf.fit(features_train,labels_train.values.ravel())\n",
        "    pred=clf.predict(features_test)\n",
        "    pred_prob = clf.predict_proba(features_test)\n",
        "    accuracy = accuracy_score(labels_test, pred)\n",
        "    cnf_matrix=confusion_matrix(labels_test,pred)\n",
        "\n",
        "    fig= plt.figure(figsize=(6,3))# to plot the graph\n",
        "    FP = cnf_matrix.sum(axis=0) - np.diag(cnf_matrix)  \n",
        "    FN = cnf_matrix.sum(axis=1) - np.diag(cnf_matrix)\n",
        "    TP = np.diag(cnf_matrix)\n",
        "    TN = cnf_matrix.sum() - (FP + FN + TP)\n",
        "\n",
        "    # Sensitivity, hit rate, recall, or true positive rate\n",
        "    TPR = TP/(TP+FN)\n",
        "    # Specificity or true negative rate\n",
        "    TNR = TN/(TN+FP) \n",
        "    # Precision or positive predictive value\n",
        "    PPV = TP/(TP+FP)\n",
        "    # Negative predictive value\n",
        "    NPV = TN/(TN+FN)\n",
        "    # Fall out or false positive rate\n",
        "    FPR = FP/(FP+TN)\n",
        "    # False negative rate\n",
        "    FNR = FN/(TP+FN)\n",
        "    # False discovery rate\n",
        "    FDR = FP/(TP+FP)\n",
        "\n",
        "    print(\"TPR for the two class\", TPR)\n",
        "    print(\"TNR for the two class\", TNR)\n",
        "    print(\"FPR for the two class\", FPR)\n",
        "    print(\"FNR for the two class\", FNR)\n",
        "    print(\"TP\",cnf_matrix[1,1,]) # no of fraud transaction which are predicted fraud\n",
        "    print(\"TN\",cnf_matrix[0,0]) # no. of normal transaction which are predited normal\n",
        "    print(\"FP\",cnf_matrix[0,1]) # no of normal transaction which are predicted fraud\n",
        "    print(\"FN\",cnf_matrix[1,0]) # no of fraud Transaction which are predicted normal\n",
        "    sns.heatmap(cnf_matrix,cmap=\"coolwarm_r\",annot=True,linewidths=0.5)\n",
        "    plt.title(\"Confusion_matrix\")\n",
        "    plt.xlabel(\"Predicted_class\")\n",
        "    plt.ylabel(\"Real class\")\n",
        "    plt.show()\n",
        "    print(\"Accuracy:\", accuracy)\n",
        "    print(\"Confusion matrix:\", cnf_matrix)\n",
        "    \n",
        "    print(\"\\n----------Classification Report------------------------------------\")\n",
        "    print(classification_report(labels_test,pred))"
      ],
      "execution_count": null,
      "outputs": []
    },
    {
      "cell_type": "code",
      "metadata": {
        "colab": {
          "base_uri": "https://localhost:8080/"
        },
        "id": "jp8yxmnsT0BU",
        "outputId": "322688c7-9b00-4ace-e335-e6e56390c29b"
      },
      "source": [
        "data_features_train,data_features_test,data_labels_train,data_labels_test=data_prepration(creditcard_df)\n",
        "\n",
        "data_train = pd.concat([data_features_train, data_labels_train], axis=1)"
      ],
      "execution_count": null,
      "outputs": [
        {
          "output_type": "stream",
          "text": [
            "length of training data\n",
            "226980\n",
            "length of test data\n",
            "56746\n"
          ],
          "name": "stdout"
        }
      ]
    },
    {
      "cell_type": "code",
      "metadata": {
        "id": "wN7ViysyU4Ua"
      },
      "source": [
        "# get index\n",
        "fraud_indices= np.array(data_train[data_train.Class==1].index)\n",
        "normal_indices = np.array(data_train[data_train.Class==0].index)"
      ],
      "execution_count": null,
      "outputs": []
    },
    {
      "cell_type": "code",
      "metadata": {
        "colab": {
          "base_uri": "https://localhost:8080/",
          "height": 828
        },
        "id": "15iUfKN0I_ru",
        "outputId": "5147d2f3-dc91-40ad-9a5c-5fc85ed272f1"
      },
      "source": [
        "#let us train this model using undersample data and test for the whole data test set \n",
        "print(\"the undersample data for {} proportion\".format(1))\n",
        "print()\n",
        "Undersample_data = undersample(normal_indices,fraud_indices,1)\n",
        "print(\"------------------------------------------------------------\")\n",
        "print()\n",
        "print(\"the model classification for {} proportion\".format(1))\n",
        "print()\n",
        "\n",
        "\n",
        "undersample_features_train = Undersample_data.loc[:, Undersample_data.columns != 'Class']\n",
        "undersample_labels_train = Undersample_data.loc[:, Undersample_data.columns == 'Class']\n",
        " \n",
        "\n",
        "#the partion for whole data\n",
        "print()\n",
        "model(clf,undersample_features_train,data_features_test,undersample_labels_train,data_labels_test)\n",
        "# here training for the undersample data but tatsing for whole data\n",
        "print(\"_________________________________________________________________________________________\")"
      ],
      "execution_count": null,
      "outputs": [
        {
          "output_type": "stream",
          "text": [
            "the undersample data for 1 proportion\n",
            "\n",
            "the normal transacation proportion is : 0.552570093457944\n",
            "the fraud transacation proportion is : 0.44742990654205606\n",
            "total number of record in resampled data is: 856\n",
            "------------------------------------------------------------\n",
            "\n",
            "the model classification for 1 proportion\n",
            "\n",
            "\n",
            "TPR for the two class [0.97693095 0.86666667]\n",
            "TNR for the two class [0.86666667 0.97693095]\n",
            "FPR for the two class [0.13333333 0.02306905]\n",
            "FNR for the two class [0.02306905 0.13333333]\n",
            "TP 78\n",
            "TN 55349\n",
            "FP 1307\n",
            "FN 12\n"
          ],
          "name": "stdout"
        },
        {
          "output_type": "display_data",
          "data": {
            "image/png": "[encoded data removed]",
            "text/plain": [
              "<Figure size 432x216 with 2 Axes>"
            ]
          },
          "metadata": {
            "tags": [],
            "needs_background": "light"
          }
        },
        {
          "output_type": "stream",
          "text": [
            "Accuracy: 0.9767560709124872\n",
            "Confusion matrix: [[55349  1307]\n",
            " [   12    78]]\n",
            "\n",
            "----------Classification Report------------------------------------\n",
            "              precision    recall  f1-score   support\n",
            "\n",
            "           0       1.00      0.98      0.99     56656\n",
            "           1       0.06      0.87      0.11        90\n",
            "\n",
            "    accuracy                           0.98     56746\n",
            "   macro avg       0.53      0.92      0.55     56746\n",
            "weighted avg       1.00      0.98      0.99     56746\n",
            "\n",
            "_________________________________________________________________________________________\n"
          ],
          "name": "stdout"
        }
      ]
    },
    {
      "cell_type": "code",
      "metadata": {
        "colab": {
          "base_uri": "https://localhost:8080/"
        },
        "id": "aDdFx6-MJLAx",
        "outputId": "0b26015b-2039-4991-9b1d-8037649b038f"
      },
      "source": [
        "featimp = pd.Series(clf.feature_importances_,index=data_features_train.columns).sort_values(ascending=False)\n",
        "print(featimp) # this is the property of Random Forest classifier that it provide us the importance of the features use"
      ],
      "execution_count": null,
      "outputs": [
        {
          "output_type": "stream",
          "text": [
            "V14              0.177355\n",
            "V4               0.108947\n",
            "V12              0.102675\n",
            "V17              0.102088\n",
            "V10              0.092359\n",
            "V11              0.086063\n",
            "V16              0.063123\n",
            "V3               0.041359\n",
            "V2               0.033695\n",
            "V7               0.023265\n",
            "V18              0.016165\n",
            "V21              0.015384\n",
            "V9               0.013925\n",
            "V19              0.012273\n",
            "V6               0.010674\n",
            "scaled_amount    0.010251\n",
            "V5               0.009305\n",
            "V20              0.007861\n",
            "V8               0.007386\n",
            "V22              0.007357\n",
            "V26              0.007256\n",
            "V28              0.006579\n",
            "V13              0.006279\n",
            "V15              0.006204\n",
            "V23              0.006095\n",
            "V1               0.005968\n",
            "V27              0.005407\n",
            "V25              0.005316\n",
            "V24              0.005134\n",
            "scaled_time      0.004252\n",
            "dtype: float64\n"
          ],
          "name": "stdout"
        }
      ]
    },
    {
      "cell_type": "markdown",
      "metadata": {
        "id": "_x5KrubEJmbt"
      },
      "source": [
        "Oversampling:\n",
        "\n",
        "![image.png](data:image/png;base64,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)"
      ]
    },
    {
      "cell_type": "code",
      "metadata": {
        "id": "A69_MwRlJwL-"
      },
      "source": [
        "creditcard_df = creditcard.copy()"
      ],
      "execution_count": null,
      "outputs": []
    },
    {
      "cell_type": "code",
      "metadata": {
        "colab": {
          "base_uri": "https://localhost:8080/"
        },
        "id": "FYFw0-fAYXrH",
        "outputId": "20707236-1718-46c1-e0a4-994675bcc27c"
      },
      "source": [
        "data_features_train,data_features_test,data_labels_train,data_labels_test=data_prepration(creditcard_df)"
      ],
      "execution_count": null,
      "outputs": [
        {
          "output_type": "stream",
          "text": [
            "length of training data\n",
            "226980\n",
            "length of test data\n",
            "56746\n"
          ],
          "name": "stdout"
        }
      ]
    },
    {
      "cell_type": "code",
      "metadata": {
        "id": "oUBDL7HSYdqE"
      },
      "source": [
        "data_train = pd.concat([data_features_train, data_labels_train], axis=1)"
      ],
      "execution_count": null,
      "outputs": []
    },
    {
      "cell_type": "code",
      "metadata": {
        "id": "tlkgd4l1Uffq"
      },
      "source": [
        "count_class_0, count_class_1 = data_train.Class.value_counts()"
      ],
      "execution_count": null,
      "outputs": []
    },
    {
      "cell_type": "code",
      "metadata": {
        "id": "ZtYiaR5_T0HN"
      },
      "source": [
        "df_class_0 = data_train[data_train['Class'] == 0]\n",
        "df_class_1 = data_train[data_train['Class'] == 1]"
      ],
      "execution_count": null,
      "outputs": []
    },
    {
      "cell_type": "code",
      "metadata": {
        "colab": {
          "base_uri": "https://localhost:8080/"
        },
        "id": "kGBBgvxiS5tK",
        "outputId": "f8e7b431-e76d-4adc-fefb-2f914e948da9"
      },
      "source": [
        "df_class_1_over = df_class_1.sample(count_class_0, replace=True)\n",
        "df_test_over = pd.concat([df_class_0, df_class_1_over], axis=0)\n",
        "\n",
        "print('Random over-sampling:')\n",
        "print(df_test_over.Class.value_counts())"
      ],
      "execution_count": null,
      "outputs": [
        {
          "output_type": "stream",
          "text": [
            "Random over-sampling:\n",
            "1    226597\n",
            "0    226597\n",
            "Name: Class, dtype: int64\n"
          ],
          "name": "stdout"
        }
      ]
    },
    {
      "cell_type": "code",
      "metadata": {
        "id": "1tv4IYHMVN4T"
      },
      "source": [
        "os_data = df_test_over.copy()"
      ],
      "execution_count": null,
      "outputs": []
    },
    {
      "cell_type": "code",
      "metadata": {
        "colab": {
          "base_uri": "https://localhost:8080/"
        },
        "id": "XztcSZUpK41S",
        "outputId": "46317e89-7453-4bcc-e024-5993ff0d043c"
      },
      "source": [
        "# Now start oversamoling of training data \n",
        "# means we will duplicate many times the value of fraud data\n",
        "\n",
        "print(\"length of oversampled data is \",len(os_data))\n",
        "print(\"Number of normal transcation in oversampled data\",len(os_data[os_data[\"Class\"]==0]))\n",
        "print(\"No.of fraud transcation\",len(os_data[os_data[\"Class\"]==1]))\n",
        "print(\"Proportion of Normal data in oversampled data is \",len(os_data[os_data[\"Class\"]==0])/len(os_data))\n",
        "print(\"Proportion of fraud data in oversampled data is \",len(os_data[os_data[\"Class\"]==1])/len(os_data))"
      ],
      "execution_count": null,
      "outputs": [
        {
          "output_type": "stream",
          "text": [
            "length of oversampled data is  453194\n",
            "Number of normal transcation in oversampled data 226597\n",
            "No.of fraud transcation 226597\n",
            "Proportion of Normal data in oversampled data is  0.5\n",
            "Proportion of fraud data in oversampled data is  0.5\n"
          ],
          "name": "stdout"
        }
      ]
    },
    {
      "cell_type": "code",
      "metadata": {
        "colab": {
          "base_uri": "https://localhost:8080/",
          "height": 775
        },
        "id": "rMGtwqVPVzQB",
        "outputId": "88afec81-0daa-460c-8ed9-177a538d5704"
      },
      "source": [
        "print(\"the undersample data for {} proportion\".format(1))\n",
        "print()\n",
        "os_data\n",
        "print(\"------------------------------------------------------------\")\n",
        "print()\n",
        "print(\"the model classification for {} proportion\".format(1))\n",
        "print()\n",
        "\n",
        "os_features_train = os_data.loc[:, os_data.columns != 'Class']\n",
        "os_labels_train = os_data.loc[:, os_data.columns == 'Class']\n",
        " \n",
        "#the partion for whole data\n",
        "print()\n",
        "model(clf,os_features_train,data_features_test,os_labels_train,data_labels_test)\n",
        "print(\"_________________________________________________________________________________________\")"
      ],
      "execution_count": null,
      "outputs": [
        {
          "output_type": "stream",
          "text": [
            "the undersample data for 1 proportion\n",
            "\n",
            "------------------------------------------------------------\n",
            "\n",
            "the model classification for 1 proportion\n",
            "\n",
            "\n",
            "TPR for the two class [0.99994705 0.73333333]\n",
            "TNR for the two class [0.73333333 0.99994705]\n",
            "FPR for the two class [2.66666667e-01 5.29511437e-05]\n",
            "FNR for the two class [5.29511437e-05 2.66666667e-01]\n",
            "TP 66\n",
            "TN 56653\n",
            "FP 3\n",
            "FN 24\n"
          ],
          "name": "stdout"
        },
        {
          "output_type": "display_data",
          "data": {
            "image/png": "[encoded data removed]",
            "text/plain": [
              "<Figure size 432x216 with 2 Axes>"
            ]
          },
          "metadata": {
            "tags": [],
            "needs_background": "light"
          }
        },
        {
          "output_type": "stream",
          "text": [
            "Accuracy: 0.9995241955380115\n",
            "Confusion matrix: [[56653     3]\n",
            " [   24    66]]\n",
            "\n",
            "----------Classification Report------------------------------------\n",
            "              precision    recall  f1-score   support\n",
            "\n",
            "           0       1.00      1.00      1.00     56656\n",
            "           1       0.96      0.73      0.83        90\n",
            "\n",
            "    accuracy                           1.00     56746\n",
            "   macro avg       0.98      0.87      0.91     56746\n",
            "weighted avg       1.00      1.00      1.00     56746\n",
            "\n",
            "_________________________________________________________________________________________\n"
          ],
          "name": "stdout"
        }
      ]
    },
    {
      "cell_type": "code",
      "metadata": {
        "colab": {
          "base_uri": "https://localhost:8080/"
        },
        "id": "nlsni3ZF1ZSQ",
        "outputId": "780a0f53-799c-4bdc-fe14-3cc1f182a480"
      },
      "source": [
        "featimp = pd.Series(clf.feature_importances_,index=data_features_train.columns).sort_values(ascending=False)\n",
        "print(featimp) # this is the property of Random Forest classifier that it provide us the importance of the features use"
      ],
      "execution_count": null,
      "outputs": [
        {
          "output_type": "stream",
          "text": [
            "V14              0.188747\n",
            "V10              0.136220\n",
            "V12              0.131169\n",
            "V17              0.098858\n",
            "V4               0.077442\n",
            "V11              0.053725\n",
            "V3               0.048945\n",
            "V16              0.037296\n",
            "V9               0.020970\n",
            "V2               0.020458\n",
            "V21              0.016782\n",
            "V19              0.015157\n",
            "V7               0.013248\n",
            "V27              0.012786\n",
            "scaled_amount    0.012049\n",
            "V1               0.011163\n",
            "V20              0.010766\n",
            "V5               0.010184\n",
            "V18              0.010008\n",
            "V8               0.009584\n",
            "V26              0.008306\n",
            "V28              0.007101\n",
            "V15              0.007089\n",
            "V13              0.007052\n",
            "V6               0.006544\n",
            "V22              0.006409\n",
            "scaled_time      0.006274\n",
            "V23              0.005951\n",
            "V25              0.005608\n",
            "V24              0.004110\n",
            "dtype: float64\n"
          ],
          "name": "stdout"
        }
      ]
    },
    {
      "cell_type": "markdown",
      "metadata": {
        "id": "8iWbge-7LJNi"
      },
      "source": [
        "SMOTE:\n",
        "\n",
        "![image.png](data:image/png;base64,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)"
      ]
    },
    {
      "cell_type": "code",
      "metadata": {
        "id": "fCYef7QMLFPO"
      },
      "source": [
        "creditcard_df = creditcard.copy()"
      ],
      "execution_count": null,
      "outputs": []
    },
    {
      "cell_type": "code",
      "metadata": {
        "colab": {
          "base_uri": "https://localhost:8080/"
        },
        "id": "FXCegNmLLuli",
        "outputId": "5b943e4b-70c9-435f-8d1b-bbe1b5130fd5"
      },
      "source": [
        "os = SMOTE(random_state=0) #   We are using SMOTE as the function for oversampling\n",
        "# now we can devided our data into training and test data\n",
        "# Call our method data prepration on our dataset\n",
        "data_train_X,data_test_X,data_train_y,data_test_y=data_prepration(creditcard_df)\n",
        "columns = data_train_X.columns"
      ],
      "execution_count": null,
      "outputs": [
        {
          "output_type": "stream",
          "text": [
            "length of training data\n",
            "226980\n",
            "length of test data\n",
            "56746\n"
          ],
          "name": "stdout"
        }
      ]
    },
    {
      "cell_type": "code",
      "metadata": {
        "colab": {
          "base_uri": "https://localhost:8080/"
        },
        "id": "c_OXy39YLwi5",
        "outputId": "9924e9bf-e1c6-40b3-ba5c-a20781b53449"
      },
      "source": [
        "os_data_X,os_data_y=os.fit_sample(data_train_X,data_train_y)\n",
        "os_data_X = pd.DataFrame(data=os_data_X,columns=columns)\n",
        "os_data_y= pd.DataFrame(data=os_data_y,columns=[\"Class\"])\n",
        "# we can Check the numbers of our data\n",
        "print(\"length of oversampled data is \",len(os_data_X))\n",
        "print(\"Number of normal transcation in oversampled data\",len(os_data_y[os_data_y[\"Class\"]==0]))\n",
        "print(\"Number of fraud transcation\",len(os_data_y[os_data_y[\"Class\"]==1]))\n",
        "print(\"Proportion of Normal data in oversampled data is \",len(os_data_y[os_data_y[\"Class\"]==0])/len(os_data_X))\n",
        "print(\"Proportion of fraud data in oversampled data is \",len(os_data_y[os_data_y[\"Class\"]==1])/len(os_data_X))"
      ],
      "execution_count": null,
      "outputs": [
        {
          "output_type": "stream",
          "text": [
            "/usr/local/lib/python3.6/dist-packages/sklearn/utils/validation.py:760: DataConversionWarning:\n",
            "\n",
            "A column-vector y was passed when a 1d array was expected. Please change the shape of y to (n_samples, ), for example using ravel().\n",
            "\n",
            "/usr/local/lib/python3.6/dist-packages/sklearn/utils/deprecation.py:87: FutureWarning:\n",
            "\n",
            "Function safe_indexing is deprecated; safe_indexing is deprecated in version 0.22 and will be removed in version 0.24.\n",
            "\n"
          ],
          "name": "stderr"
        },
        {
          "output_type": "stream",
          "text": [
            "length of oversampled data is  453194\n",
            "Number of normal transcation in oversampled data 226597\n",
            "Number of fraud transcation 226597\n",
            "Proportion of Normal data in oversampled data is  0.5\n",
            "Proportion of fraud data in oversampled data is  0.5\n"
          ],
          "name": "stdout"
        }
      ]
    },
    {
      "cell_type": "code",
      "metadata": {
        "colab": {
          "base_uri": "https://localhost:8080/",
          "height": 633
        },
        "id": "RGYYdH2LL2vy",
        "outputId": "03af9713-a1bb-4a20-8b9b-5ccfc2e1843c"
      },
      "source": [
        "model(clf,os_data_X,data_test_X,os_data_y,data_test_y)"
      ],
      "execution_count": null,
      "outputs": [
        {
          "output_type": "stream",
          "text": [
            "TPR for the two class [0.9998941  0.77777778]\n",
            "TNR for the two class [0.77777778 0.9998941 ]\n",
            "FPR for the two class [2.22222222e-01 1.05902287e-04]\n",
            "FNR for the two class [1.05902287e-04 2.22222222e-01]\n",
            "TP 70\n",
            "TN 56650\n",
            "FP 6\n",
            "FN 20\n"
          ],
          "name": "stdout"
        },
        {
          "output_type": "display_data",
          "data": {
            "image/png": "[encoded data removed]",
            "text/plain": [
              "<Figure size 432x216 with 2 Axes>"
            ]
          },
          "metadata": {
            "tags": [],
            "needs_background": "light"
          }
        },
        {
          "output_type": "stream",
          "text": [
            "Accuracy: 0.9995418179254926\n",
            "Confusion matrix: [[56650     6]\n",
            " [   20    70]]\n",
            "\n",
            "----------Classification Report------------------------------------\n",
            "              precision    recall  f1-score   support\n",
            "\n",
            "           0       1.00      1.00      1.00     56656\n",
            "           1       0.92      0.78      0.84        90\n",
            "\n",
            "    accuracy                           1.00     56746\n",
            "   macro avg       0.96      0.89      0.92     56746\n",
            "weighted avg       1.00      1.00      1.00     56746\n",
            "\n"
          ],
          "name": "stdout"
        }
      ]
    },
    {
      "cell_type": "code",
      "metadata": {
        "colab": {
          "base_uri": "https://localhost:8080/"
        },
        "id": "ya-Q50h81z3w",
        "outputId": "7b365dcd-b56c-4c69-926f-3f35e3fdc472"
      },
      "source": [
        "featimp = pd.Series(clf.feature_importances_,index=data_train_X.columns).sort_values(ascending=False)\n",
        "print(featimp) # this is the property of Random Forest classifier that it provide us the importance of the features use"
      ],
      "execution_count": null,
      "outputs": [
        {
          "output_type": "stream",
          "text": [
            "V14              0.211448\n",
            "V10              0.161431\n",
            "V12              0.115760\n",
            "V11              0.091926\n",
            "V4               0.082355\n",
            "V17              0.062243\n",
            "V3               0.028988\n",
            "V16              0.027482\n",
            "V2               0.025238\n",
            "V7               0.023011\n",
            "V9               0.018398\n",
            "V18              0.014713\n",
            "V8               0.012793\n",
            "V19              0.012687\n",
            "scaled_amount    0.010396\n",
            "V6               0.009846\n",
            "V1               0.009198\n",
            "V5               0.008623\n",
            "V21              0.008451\n",
            "V13              0.007919\n",
            "V20              0.007328\n",
            "scaled_time      0.006924\n",
            "V26              0.006168\n",
            "V23              0.006094\n",
            "V27              0.006036\n",
            "V28              0.005665\n",
            "V25              0.005140\n",
            "V15              0.004997\n",
            "V22              0.004562\n",
            "V24              0.004183\n",
            "dtype: float64\n"
          ],
          "name": "stdout"
        }
      ]
    }
  ]
}