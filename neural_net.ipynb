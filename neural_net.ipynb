{
  "nbformat": 4,
  "nbformat_minor": 0,
  "metadata": {
    "colab": {
      "name": "neural_net.ipynb",
      "provenance": [],
      "collapsed_sections": [],
      "toc_visible": true
    },
    "kernelspec": {
      "display_name": "Python 3",
      "language": "python",
      "name": "python3"
    },
    "language_info": {
      "codemirror_mode": {
        "name": "ipython",
        "version": 3
      },
      "file_extension": ".py",
      "mimetype": "text/x-python",
      "name": "python",
      "nbconvert_exporter": "python",
      "pygments_lexer": "ipython3",
      "version": "3.7.3"
    }
  },
  "cells": [
    {
      "cell_type": "markdown",
      "metadata": {
        "id": "V8IiHLugRSz4"
      },
      "source": [
        "## Libraries and Setup"
      ]
    },
    {
      "cell_type": "code",
      "metadata": {
        "colab": {
          "base_uri": "https://localhost:8080/"
        },
        "id": "vIv8pgX-mLj7",
        "outputId": "5d83f76c-2ab8-4a49-8eb5-3aa749db6ccd"
      },
      "source": [
        "from google.colab import drive\n",
        "drive.mount('/content/gdrive')"
      ],
      "execution_count": 1,
      "outputs": [
        {
          "output_type": "stream",
          "text": [
            "Mounted at /content/gdrive\n"
          ],
          "name": "stdout"
        }
      ]
    },
    {
      "cell_type": "code",
      "metadata": {
        "colab": {
          "base_uri": "https://localhost:8080/"
        },
        "id": "F0mJh6rTmW6D",
        "outputId": "92a8a200-af32-45ac-8838-aa6ac2ee4e3f"
      },
      "source": [
        "! pip install torch_utils"
      ],
      "execution_count": 2,
      "outputs": [
        {
          "output_type": "stream",
          "text": [
            "Collecting torch_utils\n",
            "  Downloading https://files.pythonhosted.org/packages/f8/4d/d004b5af3acf5366b82c192e459b5a52fba4ced92dccce5ea0541e560900/torch-utils-0.1.2.tar.gz\n",
            "Requirement already satisfied: torch in /usr/local/lib/python3.6/dist-packages (from torch_utils) (1.7.0+cu101)\n",
            "Requirement already satisfied: numpy in /usr/local/lib/python3.6/dist-packages (from torch->torch_utils) (1.18.5)\n",
            "Requirement already satisfied: typing-extensions in /usr/local/lib/python3.6/dist-packages (from torch->torch_utils) (3.7.4.3)\n",
            "Requirement already satisfied: dataclasses in /usr/local/lib/python3.6/dist-packages (from torch->torch_utils) (0.8)\n",
            "Requirement already satisfied: future in /usr/local/lib/python3.6/dist-packages (from torch->torch_utils) (0.16.0)\n",
            "Building wheels for collected packages: torch-utils\n",
            "  Building wheel for torch-utils (setup.py) ... \u001b[?25l\u001b[?25hdone\n",
            "  Created wheel for torch-utils: filename=torch_utils-0.1.2-cp36-none-any.whl size=6191 sha256=126e77fa808af6da1ef6291188402294d7422ba827a82061ea89b722a5e0a516\n",
            "  Stored in directory: /root/.cache/pip/wheels/95/61/06/139d254fa820bc1e45087dba1d719bc7d4007aec98905179c7\n",
            "Successfully built torch-utils\n",
            "Installing collected packages: torch-utils\n",
            "Successfully installed torch-utils-0.1.2\n"
          ],
          "name": "stdout"
        }
      ]
    },
    {
      "cell_type": "code",
      "metadata": {
        "colab": {
          "base_uri": "https://localhost:8080/"
        },
        "id": "9AirUm9pmcmF",
        "outputId": "fbf940fb-ca9b-4704-e142-b03ab73eec1b"
      },
      "source": [
        "%cd gdrive/My\\ Drive/Colab\\ Notebooks/Case_Study_2"
      ],
      "execution_count": 1,
      "outputs": [
        {
          "output_type": "stream",
          "text": [
            "/content/gdrive/My Drive/Colab Notebooks/Case_Study_2\n"
          ],
          "name": "stdout"
        }
      ]
    },
    {
      "cell_type": "code",
      "metadata": {
        "colab": {
          "base_uri": "https://localhost:8080/"
        },
        "id": "QcjafFDUmHys",
        "outputId": "731ca9df-2cf5-4a56-c5df-efa7755ad68d"
      },
      "source": [
        "# import modules\n",
        "import pandas as pd\n",
        "import numpy as np\n",
        "from sklearn.linear_model import LassoCV, Lasso\n",
        "from sklearn.metrics import mean_squared_error\n",
        "import matplotlib.pyplot as plt\n",
        "import torch\n",
        "from torch import cuda\n",
        "import torch.nn as nn\n",
        "from torch.utils.data import TensorDataset, DataLoader\n",
        "import torch.nn.functional as F\n",
        "from torch_utils import AverageMeter\n",
        "import math\n",
        "import matplotlib.pyplot as plt\n",
        "from sklearn.metrics import mean_squared_error\n",
        "from numpy import inf\n",
        "from sklearn import preprocessing\n",
        "from imblearn.over_sampling import RandomOverSampler\n",
        "from imblearn.under_sampling import RandomUnderSampler\n",
        "from sklearn.model_selection import train_test_split\n",
        "from sklearn.metrics import confusion_matrix, accuracy_score\n",
        "from sklearn.preprocessing import StandardScaler "
      ],
      "execution_count": 2,
      "outputs": [
        {
          "output_type": "stream",
          "text": [
            "/usr/local/lib/python3.6/dist-packages/sklearn/externals/six.py:31: FutureWarning: The module is deprecated in version 0.21 and will be removed in version 0.23 since we've dropped support for Python 2.7. Please rely on the official version of six (https://pypi.org/project/six/).\n",
            "  \"(https://pypi.org/project/six/).\", FutureWarning)\n",
            "/usr/local/lib/python3.6/dist-packages/sklearn/utils/deprecation.py:144: FutureWarning: The sklearn.neighbors.base module is  deprecated in version 0.22 and will be removed in version 0.24. The corresponding classes / functions should instead be imported from sklearn.neighbors. Anything that cannot be imported from sklearn.neighbors is now part of the private API.\n",
            "  warnings.warn(message, FutureWarning)\n"
          ],
          "name": "stderr"
        }
      ]
    },
    {
      "cell_type": "markdown",
      "metadata": {
        "id": "CKSPewon_S4p"
      },
      "source": [
        "## Random Oversampling"
      ]
    },
    {
      "cell_type": "markdown",
      "metadata": {
        "id": "gxok8eQBmHy6"
      },
      "source": [
        "### Data Preprocessing "
      ]
    },
    {
      "cell_type": "code",
      "metadata": {
        "colab": {
          "base_uri": "https://localhost:8080/"
        },
        "id": "Kdp5HGpUmHy8",
        "outputId": "7b443a0f-5f89-46db-fb04-2ba32498e27e"
      },
      "source": [
        "# import data\n",
        "creditcard = pd.read_csv('Credit-Card-Dataset/Credit-card-dataset/creditcard.csv/creditcard.csv')\n",
        "\n",
        "#separate features and labels\n",
        "X = creditcard.iloc[:,0:30]\n",
        "y = creditcard.iloc[:,-1]\n",
        "\n",
        "#split data\n",
        "X_train, X_test, y_train, y_test = train_test_split(X, y, test_size=0.2, random_state=42)\n",
        "\n",
        "scaler = StandardScaler()\n",
        "X_train = scaler.fit_transform(X_train)\n",
        "X_test = scaler.fit_transform(X_test)\n",
        "X_test = pd.DataFrame(data = X_test)\n",
        "\n",
        "ros_50_50 = RandomOverSampler(sampling_strategy='minority')\n",
        "X_balanced, y_balanced = ros_50_50.fit_resample(X_train, y_train)\n",
        "X_balanced = pd.DataFrame(data = X_balanced)\n",
        "y_balanced = pd.DataFrame(data = y_balanced)\n",
        "\n",
        "X_train, X_validation, y_train, y_validation = train_test_split(X_balanced, y_balanced, test_size=0.2, random_state=42)"
      ],
      "execution_count": 5,
      "outputs": [
        {
          "output_type": "stream",
          "text": [
            "/usr/local/lib/python3.6/dist-packages/sklearn/utils/deprecation.py:87: FutureWarning: Function safe_indexing is deprecated; safe_indexing is deprecated in version 0.22 and will be removed in version 0.24.\n",
            "  warnings.warn(msg, category=FutureWarning)\n"
          ],
          "name": "stderr"
        }
      ]
    },
    {
      "cell_type": "code",
      "metadata": {
        "id": "o48FZaQimHzF"
      },
      "source": [
        "to_use = list(range(0,30))\n",
        "\n",
        "# training set: n = 800\n",
        "train_X = torch.tensor(X_train.values).float()\n",
        "train_Y = torch.tensor(y_train.values).long()\n",
        "\n",
        "# validation set\n",
        "validation_X = torch.tensor(X_validation.values).float()\n",
        "validation_Y = torch.tensor(y_validation.values).long()\n",
        "\n",
        "# prediction set\n",
        "test_X = torch.tensor(X_test.values).float()"
      ],
      "execution_count": 6,
      "outputs": []
    },
    {
      "cell_type": "code",
      "metadata": {
        "id": "9Xpghjy1IoSn"
      },
      "source": [
        "train_Y = torch.flatten(train_Y)\n",
        "validation_Y = torch.flatten(validation_Y)"
      ],
      "execution_count": 7,
      "outputs": []
    },
    {
      "cell_type": "markdown",
      "metadata": {
        "id": "OXKOSjvOmHzL"
      },
      "source": [
        "### Baseline Model"
      ]
    },
    {
      "cell_type": "code",
      "metadata": {
        "id": "ae50FZxMmHzM"
      },
      "source": [
        "#device = torch.device(\"cuda\")\n",
        "device = torch.device(\"cpu\")\n",
        "kwargs = {'num_workers': 1, 'pin_memory': True} \n",
        "# prepare training data loader\n",
        "train_ds = TensorDataset(train_X,train_Y)\n",
        "validate_ds = TensorDataset(validation_X,validation_Y)\n",
        "\n",
        "batch_size = 100\n",
        "train_dl = DataLoader(train_ds, batch_size, shuffle=True,**kwargs)\n",
        "\n",
        "validate_dl = DataLoader(validate_ds, batch_size, shuffle=True,**kwargs)\n",
        "\n",
        "# define model\n",
        "class bmodel(nn.Module):\n",
        "    def __init__(self, input_d, hidden_d, output_d):\n",
        "        super().__init__()\n",
        "        self.fc1 = nn.Linear(input_d,hidden_d)\n",
        "        self.fc2 = nn.Linear(hidden_d,hidden_d)\n",
        "        self.fc3 = nn.Linear(hidden_d,output_d)\n",
        "        #self.dropout1 = nn.Dropout(0.5)\n",
        "\n",
        "    def forward(self, x):\n",
        "        out = torch.relu(self.fc1(x))\n",
        "        #out = self.dropout1(out)\n",
        "        out = torch.relu(self.fc2(out))\n",
        "        out = self.fc3(out)\n",
        "        return torch.sigmoid(out)\n",
        "\n",
        "# define dimensions\n",
        "input_d = len(to_use)\n",
        "hidden_d = 1\n",
        "output_d = 2\n",
        "\n",
        "# set up the model\n",
        "model = bmodel(input_d, hidden_d, output_d).to(device)\n",
        "\n",
        "# define optimizer\n",
        "opt = torch.optim.SGD(model.parameters(), lr=1e-3)\n",
        "\n",
        "# define loss function\n",
        "loss_fn = nn.CrossEntropyLoss()\n",
        "\n",
        "# define the training function\n",
        "def train(train_loader,model,device,loss_fn,opt):\n",
        "    model.train()\n",
        "\n",
        "    losses = AverageMeter('Loss', math.ceil(train_X.shape[0]/batch_size),':.4f')\n",
        "\n",
        "    for batch_idx, (inputs, targets) in enumerate(train_loader):\n",
        "        \n",
        "        inputs, targets = inputs.to(device), targets.to(device)\n",
        "        #targets = targets.unsqueeze(dim=0)\n",
        "        \n",
        "        # generate predictions\n",
        "        pred = model(inputs)\n",
        "        \n",
        "        loss = loss_fn(pred, targets)\n",
        "\n",
        "        # record loss\n",
        "        losses.update(loss.data.item())\n",
        "\n",
        "        # perform gradient descent\n",
        "        opt.zero_grad()\n",
        "        loss.backward()\n",
        "        opt.step()\n",
        "\n",
        "    return losses.avg\n",
        "\n",
        "# define the validation function\n",
        "def validate(val_loader, model, device, loss_fn):\n",
        "    model.eval()\n",
        "    with torch.no_grad():\n",
        "        losses = AverageMeter('Loss', math.ceil(train_X.shape[0]/batch_size),':.4f')\n",
        "\n",
        "        for batch_idx, (inputs,targets) in enumerate(val_loader):\n",
        "            \n",
        "            inputs, targets = inputs.to(device), targets.to(device)\n",
        "            #targets = targets.unsqueeze(1)\n",
        "            outputs = model(inputs)\n",
        "            loss = loss_fn(outputs , targets)\n",
        "\n",
        "            losses.update(loss.data.item())\n",
        "\n",
        "    return losses.avg\n",
        "\n",
        "# define the main function\n",
        "def fit(num_epochs, model, loss_fn, opt):\n",
        "\n",
        "    best_loss = 1e9\n",
        "    is_best = False\n",
        "    out_train_loss = []\n",
        "    out_validate_loss = []\n",
        "\n",
        "    for epoch in range(1,num_epochs+1):\n",
        "        train_loss = train(train_dl,model,device,loss_fn,opt)\n",
        "        validation_loss = validate(validate_dl, model,device, loss_fn)\n",
        "\n",
        "        is_best = validation_loss < best_loss\n",
        "        best_loss = min(validation_loss,best_loss)\n",
        "\n",
        "        out_train_loss.append(train_loss)\n",
        "        out_validate_loss.append(validation_loss)\n",
        "\n",
        "        if is_best:\n",
        "            torch.save(model.state_dict(), 'data/best_nn.pt')\n",
        "\n",
        "        if epoch % 5 == 0:\n",
        "            print(\"[%d/%d] training loss: %0.3f, validation loss: %.3f\"\n",
        "                  % (epoch,num_epochs,train_loss,validation_loss))\n",
        "\n",
        "    print(\"Best validation loss (%.03f): %.03f\" % (epoch,best_loss))\n",
        "    return out_train_loss, out_validate_loss"
      ],
      "execution_count": null,
      "outputs": []
    },
    {
      "cell_type": "markdown",
      "metadata": {
        "id": "GDft1ns__daN"
      },
      "source": [
        "#### Train Model"
      ]
    },
    {
      "cell_type": "code",
      "metadata": {
        "colab": {
          "base_uri": "https://localhost:8080/"
        },
        "id": "jrFeOyAZmHzT",
        "outputId": "ab394b88-6694-48c8-8665-1f0e242265dc"
      },
      "source": [
        "out_train_loss, out_validate_loss = fit(125, model, loss_fn, opt)"
      ],
      "execution_count": null,
      "outputs": [
        {
          "output_type": "stream",
          "text": [
            "[5/125] training loss: 0.484, validation loss: 0.475\n",
            "[10/125] training loss: 0.434, validation loss: 0.431\n",
            "[15/125] training loss: 0.412, validation loss: 0.410\n",
            "[20/125] training loss: 0.399, validation loss: 0.399\n",
            "[25/125] training loss: 0.392, validation loss: 0.391\n",
            "[30/125] training loss: 0.386, validation loss: 0.386\n",
            "[35/125] training loss: 0.383, validation loss: 0.383\n",
            "[40/125] training loss: 0.380, validation loss: 0.380\n",
            "[45/125] training loss: 0.377, validation loss: 0.378\n",
            "[50/125] training loss: 0.375, validation loss: 0.376\n",
            "[55/125] training loss: 0.374, validation loss: 0.374\n",
            "[60/125] training loss: 0.372, validation loss: 0.373\n",
            "[65/125] training loss: 0.371, validation loss: 0.372\n",
            "[70/125] training loss: 0.370, validation loss: 0.371\n",
            "[75/125] training loss: 0.369, validation loss: 0.370\n",
            "[80/125] training loss: 0.368, validation loss: 0.369\n",
            "[85/125] training loss: 0.368, validation loss: 0.368\n",
            "[90/125] training loss: 0.367, validation loss: 0.368\n",
            "[95/125] training loss: 0.366, validation loss: 0.367\n",
            "[100/125] training loss: 0.366, validation loss: 0.366\n",
            "[105/125] training loss: 0.365, validation loss: 0.366\n",
            "[110/125] training loss: 0.365, validation loss: 0.365\n",
            "[115/125] training loss: 0.364, validation loss: 0.365\n",
            "[120/125] training loss: 0.364, validation loss: 0.364\n",
            "[125/125] training loss: 0.363, validation loss: 0.364\n",
            "Best validation loss (125.000): 0.364\n"
          ],
          "name": "stdout"
        }
      ]
    },
    {
      "cell_type": "markdown",
      "metadata": {
        "id": "JbXpazGQ_iR9"
      },
      "source": [
        "#### Validation"
      ]
    },
    {
      "cell_type": "code",
      "metadata": {
        "colab": {
          "base_uri": "https://localhost:8080/",
          "height": 279
        },
        "id": "8kumvsHcR0te",
        "outputId": "1e3898fd-2d28-4084-e2e3-3c12a2371112"
      },
      "source": [
        "# plot the training and validation loss: rmse\n",
        "plot_data = {'Epoch': list(range(1,126)),\n",
        "             'TrainLoss': [x for x in out_train_loss],\n",
        "             'ValidateLoss': [x for x in out_validate_loss] }\n",
        "\n",
        "plot_data = pd.DataFrame(plot_data)\n",
        "\n",
        "# find the best epoch\n",
        "index_min = plot_data['ValidateLoss'].idxmin()\n",
        "\n",
        "# plot\n",
        "plt.plot('Epoch','TrainLoss',data=plot_data,color=\"blue\",label='Training loss')\n",
        "plt.plot('Epoch','ValidateLoss',data=plot_data,color=\"green\",label='Validation loss')\n",
        "#plt.axhline(y=0.7, color='red', linestyle='-')\n",
        "plt.axvline(x=index_min+1, color='k', linestyle='--')\n",
        "plt.xlabel('Epoch')\n",
        "plt.ylabel('Loss')\n",
        "plt.legend()\n",
        "plt.show()"
      ],
      "execution_count": null,
      "outputs": [
        {
          "output_type": "display_data",
          "data": {
            "image/png": "[encoded data removed]",
            "text/plain": [
              "<Figure size 432x288 with 1 Axes>"
            ]
          },
          "metadata": {
            "tags": []
          }
        }
      ]
    },
    {
      "cell_type": "code",
      "metadata": {
        "id": "3SvcrjSHSChs"
      },
      "source": [
        "# prediction in the validation set\n",
        "model.load_state_dict(torch.load('data/best_nn.pt'))\n",
        "model.eval()\n",
        "with torch.no_grad():\n",
        "    preds = model(validation_X.cpu()) \n",
        "\n",
        "ans = []\n",
        "#Pick the class with maximum weight\n",
        "for t in preds:\n",
        "  if t[0]>t[1]:\n",
        "    ans.append(0)\n",
        "  else:\n",
        "    ans.append(1)"
      ],
      "execution_count": null,
      "outputs": []
    },
    {
      "cell_type": "code",
      "metadata": {
        "colab": {
          "base_uri": "https://localhost:8080/"
        },
        "id": "vJAKFQR4XkiX",
        "outputId": "ef5dce94-ece5-4f35-b3e3-05f361b3ee5d"
      },
      "source": [
        "acc = accuracy_score(validation_Y, ans)\n",
        "print(\"Accuracy Score: %.3f\" % (acc))"
      ],
      "execution_count": null,
      "outputs": [
        {
          "output_type": "stream",
          "text": [
            "Accuracy Score: 0.956\n"
          ],
          "name": "stdout"
        }
      ]
    },
    {
      "cell_type": "code",
      "metadata": {
        "colab": {
          "base_uri": "https://localhost:8080/"
        },
        "id": "gAd9T2IggiUh",
        "outputId": "ba698536-68ca-4ca1-ef0b-c0cd6d9b395b"
      },
      "source": [
        "con_mat = confusion_matrix(validation_Y, ans)\n",
        "fn_rate = con_mat[1][0] /(con_mat[1][0] + con_mat[1][1])\n",
        "fp_rate = con_mat[0][1] /(con_mat[0][0] + con_mat[0][1])\n",
        "print(\"False Negative Rate: %.3f, False Positive Rate: %.3f\" % (fn_rate, fp_rate))"
      ],
      "execution_count": null,
      "outputs": [
        {
          "output_type": "stream",
          "text": [
            "False Negative Rate: 0.062, False Positive Rate: 0.025\n"
          ],
          "name": "stdout"
        }
      ]
    },
    {
      "cell_type": "code",
      "metadata": {
        "colab": {
          "base_uri": "https://localhost:8080/"
        },
        "id": "zmYz4nOz4jov",
        "outputId": "93b26110-e99b-4dd8-8b09-38cfb6978c08"
      },
      "source": [
        "con_mat"
      ],
      "execution_count": null,
      "outputs": [
        {
          "output_type": "execute_result",
          "data": {
            "text/plain": [
              "array([[44209,  1189],\n",
              "       [ 2581, 43002]])"
            ]
          },
          "metadata": {
            "tags": []
          },
          "execution_count": 14
        }
      ]
    },
    {
      "cell_type": "markdown",
      "metadata": {
        "id": "yg7xzUIy_qdO"
      },
      "source": [
        "#### Prediction"
      ]
    },
    {
      "cell_type": "code",
      "metadata": {
        "id": "3bR819HtPSY1"
      },
      "source": [
        "# predict in the prediction set\n",
        "model.eval()\n",
        "with torch.no_grad():\n",
        "    output = model(test_X.cpu())\n",
        "\n",
        "out_d = pd.DataFrame(output)\n",
        "\n",
        "    "
      ],
      "execution_count": null,
      "outputs": []
    },
    {
      "cell_type": "code",
      "metadata": {
        "id": "4kG9EFoUQ2Yd"
      },
      "source": [
        "ans_test = []\n",
        "#Pick the class with maximum weight\n",
        "for t in output:\n",
        "  if t[0]>t[1]:\n",
        "    ans_test.append(0)\n",
        "  else:\n",
        "    ans_test.append(1)"
      ],
      "execution_count": null,
      "outputs": []
    },
    {
      "cell_type": "code",
      "metadata": {
        "colab": {
          "base_uri": "https://localhost:8080/"
        },
        "id": "3dBsdNmPQ3RQ",
        "outputId": "2e31678f-623e-4ef1-f037-46719a7de0ac"
      },
      "source": [
        "acc_test = accuracy_score(y_test, ans_test)\n",
        "print(\"Accuracy Score: %.3f\" % (acc_test))"
      ],
      "execution_count": null,
      "outputs": [
        {
          "output_type": "stream",
          "text": [
            "Accuracy Score: 0.974\n"
          ],
          "name": "stdout"
        }
      ]
    },
    {
      "cell_type": "code",
      "metadata": {
        "colab": {
          "base_uri": "https://localhost:8080/"
        },
        "id": "CDQQ0DncRRH4",
        "outputId": "685541d1-5475-4658-a7d2-39c6601eeef9"
      },
      "source": [
        "con_mat_test = confusion_matrix(y_test, ans_test)\n",
        "fn_rate_test = con_mat_test[1][0] /(con_mat_test[1][0] + con_mat_test[1][1])\n",
        "fp_rate_test = con_mat_test[0][1] /(con_mat_test[0][0] + con_mat_test[0][1])\n",
        "print(\"False Negative Rate: %.3f, False Positive Rate: %.3f\" % (fn_rate_test, fp_rate_test))"
      ],
      "execution_count": null,
      "outputs": [
        {
          "output_type": "stream",
          "text": [
            "False Negative Rate: 0.082, False Positive Rate: 0.026\n"
          ],
          "name": "stdout"
        }
      ]
    },
    {
      "cell_type": "code",
      "metadata": {
        "colab": {
          "base_uri": "https://localhost:8080/"
        },
        "id": "-DV3VjYtR-YF",
        "outputId": "7d1c4b69-1be2-4797-e76e-b300af411944"
      },
      "source": [
        "con_mat_test"
      ],
      "execution_count": null,
      "outputs": [
        {
          "output_type": "execute_result",
          "data": {
            "text/plain": [
              "array([[55387,  1477],\n",
              "       [    8,    90]])"
            ]
          },
          "metadata": {
            "tags": []
          },
          "execution_count": 28
        }
      ]
    },
    {
      "cell_type": "markdown",
      "metadata": {
        "id": "0yhIi2bfTUHf"
      },
      "source": [
        "### Model Improvements"
      ]
    },
    {
      "cell_type": "code",
      "metadata": {
        "id": "apqCogsOSAlP"
      },
      "source": [
        "#device = torch.device(\"cuda\")\n",
        "device = torch.device(\"cpu\")\n",
        "kwargs = {'num_workers': 1, 'pin_memory': True} \n",
        "# prepare training data loader\n",
        "train_ds = TensorDataset(train_X,train_Y)\n",
        "validate_ds = TensorDataset(validation_X,validation_Y)\n",
        "\n",
        "batch_size = 100\n",
        "train_dl = DataLoader(train_ds, batch_size, shuffle=True,**kwargs)\n",
        "\n",
        "validate_dl = DataLoader(validate_ds, batch_size, shuffle=True,**kwargs)\n",
        "\n",
        "# define model\n",
        "class bmodel(nn.Module):\n",
        "    def __init__(self, input_d, hidden_d, output_d):\n",
        "        super().__init__()\n",
        "        self.fc1 = nn.Linear(input_d,hidden_d)\n",
        "        self.fc2 = nn.Linear(hidden_d,hidden_d)\n",
        "        self.fc3 = nn.Linear(hidden_d,output_d)\n",
        "        self.dropout1 = nn.Dropout(0.1)\n",
        "\n",
        "    def forward(self, x):\n",
        "        out = torch.relu(self.fc1(x))\n",
        "        out = self.dropout1(out)\n",
        "        out = torch.relu(self.fc2(out))\n",
        "        out = self.dropout1(out)\n",
        "        out = self.fc3(out)\n",
        "        return torch.sigmoid(out)\n",
        "\n",
        "# define dimensions\n",
        "input_d = len(to_use)\n",
        "hidden_d = len(to_use)\n",
        "output_d = 2\n",
        "\n",
        "# set up the model\n",
        "model = bmodel(input_d, hidden_d, output_d).to(device)\n",
        "\n",
        "# define optimizer\n",
        "opt = torch.optim.Adam(model.parameters(), lr=1e-3)\n",
        "\n",
        "# define loss function\n",
        "loss_fn = nn.CrossEntropyLoss()\n",
        "\n",
        "# define the training function\n",
        "def train(train_loader,model,device,loss_fn,opt):\n",
        "    model.train()\n",
        "\n",
        "    losses = AverageMeter('Loss', math.ceil(train_X.shape[0]/batch_size),':.4f')\n",
        "\n",
        "    for batch_idx, (inputs, targets) in enumerate(train_loader):\n",
        "        \n",
        "        inputs, targets = inputs.to(device), targets.to(device)\n",
        "        #targets = targets.unsqueeze(dim=0)\n",
        "        \n",
        "        # generate predictions\n",
        "        pred = model(inputs)\n",
        "        \n",
        "        loss = loss_fn(pred, targets)\n",
        "\n",
        "        # record loss\n",
        "        losses.update(loss.data.item())\n",
        "\n",
        "        # perform gradient descent\n",
        "        opt.zero_grad()\n",
        "        loss.backward()\n",
        "        opt.step()\n",
        "\n",
        "    return losses.avg\n",
        "\n",
        "# define the validation function\n",
        "def validate(val_loader, model, device, loss_fn):\n",
        "    model.eval()\n",
        "    with torch.no_grad():\n",
        "        losses = AverageMeter('Loss', math.ceil(train_X.shape[0]/batch_size),':.4f')\n",
        "\n",
        "        for batch_idx, (inputs,targets) in enumerate(val_loader):\n",
        "            \n",
        "            inputs, targets = inputs.to(device), targets.to(device)\n",
        "            #targets = targets.unsqueeze(1)\n",
        "            outputs = model(inputs)\n",
        "            loss = loss_fn(outputs , targets)\n",
        "\n",
        "            losses.update(loss.data.item())\n",
        "\n",
        "    return losses.avg\n",
        "\n",
        "# define the main function\n",
        "def fit(num_epochs, model, loss_fn, opt):\n",
        "\n",
        "    best_loss = 1e9\n",
        "    is_best = False\n",
        "    out_train_loss = []\n",
        "    out_validate_loss = []\n",
        "\n",
        "    for epoch in range(1,num_epochs+1):\n",
        "        train_loss = train(train_dl,model,device,loss_fn,opt)\n",
        "        validation_loss = validate(validate_dl, model,device, loss_fn)\n",
        "\n",
        "        is_best = validation_loss < best_loss\n",
        "        best_loss = min(validation_loss,best_loss)\n",
        "\n",
        "        out_train_loss.append(train_loss)\n",
        "        out_validate_loss.append(validation_loss)\n",
        "\n",
        "        if is_best:\n",
        "            torch.save(model.state_dict(), 'data/best_nn.pt')\n",
        "\n",
        "        if epoch % 25 == 0:\n",
        "            print(\"[%d/%d] training loss: %0.3f, validation loss: %.3f\"\n",
        "                  % (epoch,num_epochs,train_loss,validation_loss))\n",
        "\n",
        "    print(\"Best validation loss (%.03f): %.03f\" % (epoch,best_loss))\n",
        "    return out_train_loss, out_validate_loss"
      ],
      "execution_count": 8,
      "outputs": []
    },
    {
      "cell_type": "markdown",
      "metadata": {
        "id": "0o2zMKZH_54D"
      },
      "source": [
        "#### Train Model"
      ]
    },
    {
      "cell_type": "code",
      "metadata": {
        "colab": {
          "base_uri": "https://localhost:8080/"
        },
        "id": "-uvd9KjSTnYJ",
        "outputId": "002c0a3e-1a1c-43f0-b27e-f8fb260daa44"
      },
      "source": [
        "out_train_loss, out_validate_loss = fit(125, model, loss_fn, opt)"
      ],
      "execution_count": 9,
      "outputs": [
        {
          "output_type": "stream",
          "text": [
            "[25/125] training loss: 0.327, validation loss: 0.327\n",
            "[50/125] training loss: 0.327, validation loss: 0.326\n",
            "[75/125] training loss: 0.327, validation loss: 0.326\n",
            "[100/125] training loss: 0.326, validation loss: 0.326\n",
            "[125/125] training loss: 0.327, validation loss: 0.326\n",
            "Best validation loss (125.000): 0.326\n"
          ],
          "name": "stdout"
        }
      ]
    },
    {
      "cell_type": "markdown",
      "metadata": {
        "id": "Ucudzu7J_9Zs"
      },
      "source": [
        "#### Validation"
      ]
    },
    {
      "cell_type": "code",
      "metadata": {
        "colab": {
          "base_uri": "https://localhost:8080/"
        },
        "id": "fRjO0vzUdbov",
        "outputId": "cce308d7-401c-4c43-b97e-86a0250c1ec3"
      },
      "source": [
        "# prediction in the validation set\n",
        "model.load_state_dict(torch.load('data/best_nn.pt'))\n",
        "model.eval()\n",
        "with torch.no_grad():\n",
        "    preds = model(validation_X.cpu()) \n",
        "\n",
        "ans = []\n",
        "#Pick the class with maximum weight\n",
        "for t in preds:\n",
        "  if t[0]>t[1]:\n",
        "    ans.append(0)\n",
        "  else:\n",
        "    ans.append(1)\n",
        "\n",
        "acc = accuracy_score(validation_Y, ans)\n",
        "print(\"Accuracy Score: %.3f\" % (acc))\n",
        "\n",
        "con_mat = confusion_matrix(validation_Y, ans)\n",
        "fn_rate = con_mat[1][0] /(con_mat[1][0] + con_mat[1][1])\n",
        "fp_rate = con_mat[0][1] /(con_mat[0][0] + con_mat[0][1])\n",
        "print(\"False Negative Rate: %.3f, False Positive Rate: %.3f\" % (fn_rate, fp_rate))"
      ],
      "execution_count": 10,
      "outputs": [
        {
          "output_type": "stream",
          "text": [
            "Accuracy Score: 0.987\n",
            "False Negative Rate: 0.025, False Positive Rate: 0.000\n"
          ],
          "name": "stdout"
        }
      ]
    },
    {
      "cell_type": "markdown",
      "metadata": {
        "id": "X9kVru9jAav3"
      },
      "source": [
        "#### Prediction"
      ]
    },
    {
      "cell_type": "code",
      "metadata": {
        "id": "HBhhtwiGwwsa",
        "colab": {
          "base_uri": "https://localhost:8080/"
        },
        "outputId": "f83bf8a7-2ede-4551-8b62-f44727893a74"
      },
      "source": [
        "# predict in the prediction set\n",
        "model.eval()\n",
        "with torch.no_grad():\n",
        "    output = model(test_X.cpu())\n",
        "\n",
        "out_d = pd.DataFrame(output)\n",
        "\n",
        "ans_test = []\n",
        "#Pick the class with maximum weight\n",
        "for t in output:\n",
        "  if t[0]>t[1]:\n",
        "    ans_test.append(0)\n",
        "  else:\n",
        "    ans_test.append(1)\n",
        "\n",
        "acc_test = accuracy_score(y_test, ans_test)\n",
        "print(\"Accuracy Score: %.3f\" % (acc_test))\n",
        "\n",
        "con_mat_test = confusion_matrix(y_test, ans_test)\n",
        "fn_rate_test = con_mat_test[1][0] /(con_mat_test[1][0] + con_mat_test[1][1])\n",
        "fp_rate_test = con_mat_test[0][1] /(con_mat_test[0][0] + con_mat_test[0][1])\n",
        "print(\"False Negative Rate: %.3f, False Positive Rate: %.3f\" % (fn_rate_test, fp_rate_test))"
      ],
      "execution_count": 11,
      "outputs": [
        {
          "output_type": "stream",
          "text": [
            "Accuracy Score: 0.999\n",
            "False Negative Rate: 0.153, False Positive Rate: 0.001\n"
          ],
          "name": "stdout"
        }
      ]
    },
    {
      "cell_type": "code",
      "metadata": {
        "colab": {
          "base_uri": "https://localhost:8080/"
        },
        "id": "IwlN6v_kBkPm",
        "outputId": "a18a1dbb-e1d4-46a3-e942-ecd4b29196b8"
      },
      "source": [
        "con_mat_test"
      ],
      "execution_count": 12,
      "outputs": [
        {
          "output_type": "execute_result",
          "data": {
            "text/plain": [
              "array([[56826,    38],\n",
              "       [   15,    83]])"
            ]
          },
          "metadata": {
            "tags": []
          },
          "execution_count": 12
        }
      ]
    },
    {
      "cell_type": "markdown",
      "metadata": {
        "id": "7clnq2_2CUeP"
      },
      "source": [
        "## Random Undersampling"
      ]
    },
    {
      "cell_type": "markdown",
      "metadata": {
        "id": "waMdm_OxCdzA"
      },
      "source": [
        "### Data Preprocessing"
      ]
    },
    {
      "cell_type": "code",
      "metadata": {
        "colab": {
          "base_uri": "https://localhost:8080/"
        },
        "id": "v2TWfMW_CXFC",
        "outputId": "c46b61d7-3c27-4746-f6bc-cd6a4ad2b595"
      },
      "source": [
        "# import data\n",
        "creditcard = pd.read_csv('Credit-Card-Dataset/Credit-card-dataset/creditcard.csv/creditcard.csv')\n",
        "\n",
        "#separate features and labels\n",
        "X = creditcard.iloc[:,0:30]\n",
        "y = creditcard.iloc[:,-1]\n",
        "\n",
        "#split data\n",
        "X_train, X_test, y_train, y_test = train_test_split(X, y, test_size=0.2, random_state=42)\n",
        "\n",
        "scaler = StandardScaler()\n",
        "X_train = scaler.fit_transform(X_train)\n",
        "X_test = scaler.fit_transform(X_test)\n",
        "X_test = pd.DataFrame(data = X_test)\n",
        "\n",
        "rus_50_50 = RandomUnderSampler(sampling_strategy='majority')\n",
        "X_balanced, y_balanced = rus_50_50.fit_resample(X_train, y_train)\n",
        "X_balanced = pd.DataFrame(data = X_balanced)\n",
        "y_balanced = pd.DataFrame(data = y_balanced)\n",
        "\n",
        "X_train, X_validation, y_train, y_validation = train_test_split(X_balanced, y_balanced, test_size=0.2, random_state=42)"
      ],
      "execution_count": 3,
      "outputs": [
        {
          "output_type": "stream",
          "text": [
            "/usr/local/lib/python3.6/dist-packages/sklearn/utils/deprecation.py:87: FutureWarning: Function safe_indexing is deprecated; safe_indexing is deprecated in version 0.22 and will be removed in version 0.24.\n",
            "  warnings.warn(msg, category=FutureWarning)\n"
          ],
          "name": "stderr"
        }
      ]
    },
    {
      "cell_type": "code",
      "metadata": {
        "id": "Wu4ZZ5VgDeCW"
      },
      "source": [
        "to_use = list(range(0,30))\n",
        "\n",
        "# training set: n = 800\n",
        "train_X = torch.tensor(X_train.values).float()\n",
        "train_Y = torch.tensor(y_train.values).long()\n",
        "\n",
        "# validation set\n",
        "validation_X = torch.tensor(X_validation.values).float()\n",
        "validation_Y = torch.tensor(y_validation.values).long()\n",
        "\n",
        "# prediction set\n",
        "test_X = torch.tensor(X_test.values).float()"
      ],
      "execution_count": 4,
      "outputs": []
    },
    {
      "cell_type": "code",
      "metadata": {
        "id": "l0RZAD1sDiy3"
      },
      "source": [
        "train_Y = torch.flatten(train_Y)\n",
        "validation_Y = torch.flatten(validation_Y)"
      ],
      "execution_count": 5,
      "outputs": []
    },
    {
      "cell_type": "markdown",
      "metadata": {
        "id": "YidaW86_N-XR"
      },
      "source": [
        "### Baseline Model"
      ]
    },
    {
      "cell_type": "code",
      "metadata": {
        "id": "YAwBN8YYOADM"
      },
      "source": [
        "#device = torch.device(\"cuda\")\n",
        "device = torch.device(\"cpu\")\n",
        "kwargs = {'num_workers': 1, 'pin_memory': True} \n",
        "# prepare training data loader\n",
        "train_ds = TensorDataset(train_X,train_Y)\n",
        "validate_ds = TensorDataset(validation_X,validation_Y)\n",
        "\n",
        "batch_size = 10\n",
        "train_dl = DataLoader(train_ds, batch_size, shuffle=True,**kwargs)\n",
        "\n",
        "validate_dl = DataLoader(validate_ds, batch_size, shuffle=True,**kwargs)\n",
        "\n",
        "# define model\n",
        "class bmodel(nn.Module):\n",
        "    def __init__(self, input_d, hidden_d, output_d):\n",
        "        super().__init__()\n",
        "        self.fc1 = nn.Linear(input_d,hidden_d)\n",
        "        self.fc2 = nn.Linear(hidden_d,hidden_d)\n",
        "        self.fc3 = nn.Linear(hidden_d,output_d)\n",
        "        #self.dropout1 = nn.Dropout(0.5)\n",
        "\n",
        "    def forward(self, x):\n",
        "        out = torch.relu(self.fc1(x))\n",
        "        #out = self.dropout1(out)\n",
        "        out = torch.relu(self.fc2(out))\n",
        "        out = self.fc3(out)\n",
        "        return torch.sigmoid(out)\n",
        "\n",
        "# define dimensions\n",
        "input_d = len(to_use)\n",
        "hidden_d = 1\n",
        "output_d = 2\n",
        "\n",
        "# set up the model\n",
        "model = bmodel(input_d, hidden_d, output_d).to(device)\n",
        "\n",
        "# define optimizer\n",
        "opt = torch.optim.SGD(model.parameters(), lr=1e-3)\n",
        "\n",
        "# define loss function\n",
        "loss_fn = nn.CrossEntropyLoss()\n",
        "\n",
        "# define the training function\n",
        "def train(train_loader,model,device,loss_fn,opt):\n",
        "    model.train()\n",
        "\n",
        "    losses = AverageMeter('Loss', math.ceil(train_X.shape[0]/batch_size),':.4f')\n",
        "\n",
        "    for batch_idx, (inputs, targets) in enumerate(train_loader):\n",
        "        \n",
        "        inputs, targets = inputs.to(device), targets.to(device)\n",
        "        #targets = targets.unsqueeze(dim=0)\n",
        "        \n",
        "        # generate predictions\n",
        "        pred = model(inputs)\n",
        "        \n",
        "        loss = loss_fn(pred, targets)\n",
        "\n",
        "        # record loss\n",
        "        losses.update(loss.data.item())\n",
        "\n",
        "        # perform gradient descent\n",
        "        opt.zero_grad()\n",
        "        loss.backward()\n",
        "        opt.step()\n",
        "\n",
        "    return losses.avg\n",
        "\n",
        "# define the validation function\n",
        "def validate(val_loader, model, device, loss_fn):\n",
        "    model.eval()\n",
        "    with torch.no_grad():\n",
        "        losses = AverageMeter('Loss', math.ceil(train_X.shape[0]/batch_size),':.4f')\n",
        "\n",
        "        for batch_idx, (inputs,targets) in enumerate(val_loader):\n",
        "            \n",
        "            inputs, targets = inputs.to(device), targets.to(device)\n",
        "            #targets = targets.unsqueeze(1)\n",
        "            outputs = model(inputs)\n",
        "            loss = loss_fn(outputs , targets)\n",
        "\n",
        "            losses.update(loss.data.item())\n",
        "\n",
        "    return losses.avg\n",
        "\n",
        "# define the main function\n",
        "def fit(num_epochs, model, loss_fn, opt):\n",
        "\n",
        "    best_loss = 1e9\n",
        "    is_best = False\n",
        "    out_train_loss = []\n",
        "    out_validate_loss = []\n",
        "\n",
        "    for epoch in range(1,num_epochs+1):\n",
        "        train_loss = train(train_dl,model,device,loss_fn,opt)\n",
        "        validation_loss = validate(validate_dl, model,device, loss_fn)\n",
        "\n",
        "        is_best = validation_loss < best_loss\n",
        "        best_loss = min(validation_loss,best_loss)\n",
        "\n",
        "        out_train_loss.append(train_loss)\n",
        "        out_validate_loss.append(validation_loss)\n",
        "\n",
        "        if is_best:\n",
        "            torch.save(model.state_dict(), 'data/best_nn.pt')\n",
        "\n",
        "        if epoch % 500 == 0:\n",
        "            print(\"[%d/%d] training loss: %0.3f, validation loss: %.3f\"\n",
        "                  % (epoch,num_epochs,train_loss,validation_loss))\n",
        "\n",
        "    print(\"Best validation loss (%.03f): %.03f\" % (epoch,best_loss))\n",
        "    return out_train_loss, out_validate_loss"
      ],
      "execution_count": 8,
      "outputs": []
    },
    {
      "cell_type": "markdown",
      "metadata": {
        "id": "Hw2q86h-OCj6"
      },
      "source": [
        "#### Train Model"
      ]
    },
    {
      "cell_type": "code",
      "metadata": {
        "colab": {
          "base_uri": "https://localhost:8080/"
        },
        "id": "c0jeYyHrOD4S",
        "outputId": "c476552d-e5a5-4a92-85cb-14b22e502524"
      },
      "source": [
        "out_train_loss, out_validate_loss = fit(5000, model, loss_fn, opt)"
      ],
      "execution_count": 9,
      "outputs": [
        {
          "output_type": "stream",
          "text": [
            "[500/5000] training loss: 0.442, validation loss: 0.428\n",
            "[1000/5000] training loss: 0.403, validation loss: 0.394\n",
            "[1500/5000] training loss: 0.387, validation loss: 0.381\n",
            "[2000/5000] training loss: 0.379, validation loss: 0.377\n",
            "[2500/5000] training loss: 0.374, validation loss: 0.373\n",
            "[3000/5000] training loss: 0.370, validation loss: 0.370\n",
            "[3500/5000] training loss: 0.367, validation loss: 0.367\n",
            "[4000/5000] training loss: 0.365, validation loss: 0.365\n",
            "[4500/5000] training loss: 0.363, validation loss: 0.364\n",
            "[5000/5000] training loss: 0.362, validation loss: 0.365\n",
            "Best validation loss (5000.000): 0.362\n"
          ],
          "name": "stdout"
        }
      ]
    },
    {
      "cell_type": "markdown",
      "metadata": {
        "id": "Qi601y7kOjCI"
      },
      "source": [
        "#### Validation"
      ]
    },
    {
      "cell_type": "code",
      "metadata": {
        "colab": {
          "base_uri": "https://localhost:8080/",
          "height": 279
        },
        "id": "b1Vop5XuOoNc",
        "outputId": "d19fab37-a7af-495f-c4da-0f10044e7960"
      },
      "source": [
        "# plot the training and validation loss: rmse\n",
        "plot_data = {'Epoch': list(range(1,5001)),\n",
        "             'TrainLoss': [x for x in out_train_loss],\n",
        "             'ValidateLoss': [x for x in out_validate_loss] }\n",
        "\n",
        "plot_data = pd.DataFrame(plot_data)\n",
        "\n",
        "# find the best epoch\n",
        "index_min = plot_data['ValidateLoss'].idxmin()\n",
        "\n",
        "# plot\n",
        "plt.plot('Epoch','TrainLoss',data=plot_data,color=\"blue\",label='Training loss')\n",
        "plt.plot('Epoch','ValidateLoss',data=plot_data,color=\"green\",label='Validation loss')\n",
        "#plt.axhline(y=0.7, color='red', linestyle='-')\n",
        "plt.axvline(x=index_min+1, color='k', linestyle='--')\n",
        "plt.xlabel('Epoch')\n",
        "plt.ylabel('Loss')\n",
        "plt.legend()\n",
        "plt.show()"
      ],
      "execution_count": 10,
      "outputs": [
        {
          "output_type": "display_data",
          "data": {
            "image/png": "[encoded data removed]",
            "text/plain": [
              "<Figure size 432x288 with 1 Axes>"
            ]
          },
          "metadata": {
            "tags": [],
            "needs_background": "light"
          }
        }
      ]
    },
    {
      "cell_type": "code",
      "metadata": {
        "id": "3g9AxXSQOsqE"
      },
      "source": [
        "# prediction in the validation set\n",
        "model.load_state_dict(torch.load('data/best_nn.pt'))\n",
        "model.eval()\n",
        "with torch.no_grad():\n",
        "    preds = model(validation_X.cpu()) \n",
        "\n",
        "ans = []\n",
        "#Pick the class with maximum weight\n",
        "for t in preds:\n",
        "  if t[0]>t[1]:\n",
        "    ans.append(0)\n",
        "  else:\n",
        "    ans.append(1)"
      ],
      "execution_count": 11,
      "outputs": []
    },
    {
      "cell_type": "code",
      "metadata": {
        "colab": {
          "base_uri": "https://localhost:8080/"
        },
        "id": "oUqVGkb8Ow6P",
        "outputId": "856919fb-d3eb-4490-bc71-337906d80260"
      },
      "source": [
        "acc = accuracy_score(validation_Y, ans)\n",
        "print(\"Accuracy Score: %.3f\" % (acc))"
      ],
      "execution_count": 12,
      "outputs": [
        {
          "output_type": "stream",
          "text": [
            "Accuracy Score: 0.962\n"
          ],
          "name": "stdout"
        }
      ]
    },
    {
      "cell_type": "code",
      "metadata": {
        "colab": {
          "base_uri": "https://localhost:8080/"
        },
        "id": "qBpbQ6vAO5LO",
        "outputId": "009dbb8d-9f91-436a-cf6b-c537da59bf45"
      },
      "source": [
        "con_mat = confusion_matrix(validation_Y, ans)\n",
        "fn_rate = con_mat[1][0] /(con_mat[1][0] + con_mat[1][1])\n",
        "fp_rate = con_mat[0][1] /(con_mat[0][0] + con_mat[0][1])\n",
        "print(\"False Negative Rate: %.3f, False Positive Rate: %.3f\" % (fn_rate, fp_rate))"
      ],
      "execution_count": 13,
      "outputs": [
        {
          "output_type": "stream",
          "text": [
            "False Negative Rate: 0.036, False Positive Rate: 0.040\n"
          ],
          "name": "stdout"
        }
      ]
    },
    {
      "cell_type": "code",
      "metadata": {
        "colab": {
          "base_uri": "https://localhost:8080/"
        },
        "id": "WIskaB-kO-kf",
        "outputId": "b32fe188-9e37-47e1-8d24-09cbba6dce7b"
      },
      "source": [
        "con_mat"
      ],
      "execution_count": 14,
      "outputs": [
        {
          "output_type": "execute_result",
          "data": {
            "text/plain": [
              "array([[72,  3],\n",
              "       [ 3, 80]])"
            ]
          },
          "metadata": {
            "tags": []
          },
          "execution_count": 14
        }
      ]
    },
    {
      "cell_type": "markdown",
      "metadata": {
        "id": "AGuJ2v7UO_z0"
      },
      "source": [
        "#### Prediction"
      ]
    },
    {
      "cell_type": "code",
      "metadata": {
        "colab": {
          "base_uri": "https://localhost:8080/"
        },
        "id": "qhgSw7h9PA-n",
        "outputId": "afba7c9d-5d27-4691-b59b-0071eae1d4c8"
      },
      "source": [
        "# predict in the prediction set\n",
        "model.eval()\n",
        "with torch.no_grad():\n",
        "    output = model(test_X.cpu())\n",
        "\n",
        "out_d = pd.DataFrame(output)\n",
        "\n",
        "ans_test = []\n",
        "#Pick the class with maximum weight\n",
        "for t in output:\n",
        "  if t[0]>t[1]:\n",
        "    ans_test.append(0)\n",
        "  else:\n",
        "    ans_test.append(1)\n",
        "\n",
        "acc_test = accuracy_score(y_test, ans_test)\n",
        "print(\"Accuracy Score: %.3f\" % (acc_test))\n",
        "\n",
        "con_mat_test = confusion_matrix(y_test, ans_test)\n",
        "fn_rate_test = con_mat_test[1][0] /(con_mat_test[1][0] + con_mat_test[1][1])\n",
        "fp_rate_test = con_mat_test[0][1] /(con_mat_test[0][0] + con_mat_test[0][1])\n",
        "print(\"False Negative Rate: %.3f, False Positive Rate: %.3f\" % (fn_rate_test, fp_rate_test))\n",
        "\n",
        "con_mat_test"
      ],
      "execution_count": 15,
      "outputs": [
        {
          "output_type": "stream",
          "text": [
            "Accuracy Score: 0.949\n",
            "False Negative Rate: 0.061, False Positive Rate: 0.051\n"
          ],
          "name": "stdout"
        },
        {
          "output_type": "execute_result",
          "data": {
            "text/plain": [
              "array([[53966,  2898],\n",
              "       [    6,    92]])"
            ]
          },
          "metadata": {
            "tags": []
          },
          "execution_count": 15
        }
      ]
    },
    {
      "cell_type": "markdown",
      "metadata": {
        "id": "5U3N-UszQf00"
      },
      "source": [
        "### Model Improvements"
      ]
    },
    {
      "cell_type": "code",
      "metadata": {
        "id": "-483eJqXQhat"
      },
      "source": [
        "#device = torch.device(\"cuda\")\n",
        "device = torch.device(\"cpu\")\n",
        "kwargs = {'num_workers': 1, 'pin_memory': True} \n",
        "# prepare training data loader\n",
        "train_ds = TensorDataset(train_X,train_Y)\n",
        "validate_ds = TensorDataset(validation_X,validation_Y)\n",
        "\n",
        "batch_size = 10\n",
        "train_dl = DataLoader(train_ds, batch_size, shuffle=True,**kwargs)\n",
        "\n",
        "validate_dl = DataLoader(validate_ds, batch_size, shuffle=True,**kwargs)\n",
        "\n",
        "# define model\n",
        "class bmodel(nn.Module):\n",
        "    def __init__(self, input_d, hidden_d, output_d):\n",
        "        super().__init__()\n",
        "        self.fc1 = nn.Linear(input_d,hidden_d)\n",
        "        self.fc2 = nn.Linear(hidden_d,hidden_d)\n",
        "        self.fc3 = nn.Linear(hidden_d,output_d)\n",
        "        self.dropout1 = nn.Dropout(0.1)\n",
        "\n",
        "    def forward(self, x):\n",
        "        out = torch.relu(self.fc1(x))\n",
        "        out = self.dropout1(out)\n",
        "        out = torch.relu(self.fc2(out))\n",
        "        out = self.dropout1(out)\n",
        "        out = self.fc3(out)\n",
        "        return torch.sigmoid(out)\n",
        "\n",
        "# define dimensions\n",
        "input_d = len(to_use)\n",
        "hidden_d = len(to_use)\n",
        "output_d = 2\n",
        "\n",
        "# set up the model\n",
        "model = bmodel(input_d, hidden_d, output_d).to(device)\n",
        "\n",
        "# define optimizer\n",
        "opt = torch.optim.Adam(model.parameters(), lr=1e-3)\n",
        "\n",
        "# define loss function\n",
        "loss_fn = nn.CrossEntropyLoss()\n",
        "\n",
        "# define the training function\n",
        "def train(train_loader,model,device,loss_fn,opt):\n",
        "    model.train()\n",
        "\n",
        "    losses = AverageMeter('Loss', math.ceil(train_X.shape[0]/batch_size),':.4f')\n",
        "\n",
        "    for batch_idx, (inputs, targets) in enumerate(train_loader):\n",
        "        \n",
        "        inputs, targets = inputs.to(device), targets.to(device)\n",
        "        #targets = targets.unsqueeze(dim=0)\n",
        "        \n",
        "        # generate predictions\n",
        "        pred = model(inputs)\n",
        "        \n",
        "        loss = loss_fn(pred, targets)\n",
        "\n",
        "        # record loss\n",
        "        losses.update(loss.data.item())\n",
        "\n",
        "        # perform gradient descent\n",
        "        opt.zero_grad()\n",
        "        loss.backward()\n",
        "        opt.step()\n",
        "\n",
        "    return losses.avg\n",
        "\n",
        "# define the validation function\n",
        "def validate(val_loader, model, device, loss_fn):\n",
        "    model.eval()\n",
        "    with torch.no_grad():\n",
        "        losses = AverageMeter('Loss', math.ceil(train_X.shape[0]/batch_size),':.4f')\n",
        "\n",
        "        for batch_idx, (inputs,targets) in enumerate(val_loader):\n",
        "            \n",
        "            inputs, targets = inputs.to(device), targets.to(device)\n",
        "            #targets = targets.unsqueeze(1)\n",
        "            outputs = model(inputs)\n",
        "            loss = loss_fn(outputs , targets)\n",
        "\n",
        "            losses.update(loss.data.item())\n",
        "\n",
        "    return losses.avg\n",
        "\n",
        "# define the main function\n",
        "def fit(num_epochs, model, loss_fn, opt):\n",
        "\n",
        "    best_loss = 1e9\n",
        "    is_best = False\n",
        "    out_train_loss = []\n",
        "    out_validate_loss = []\n",
        "\n",
        "    for epoch in range(1,num_epochs+1):\n",
        "        train_loss = train(train_dl,model,device,loss_fn,opt)\n",
        "        validation_loss = validate(validate_dl, model,device, loss_fn)\n",
        "\n",
        "        is_best = validation_loss < best_loss\n",
        "        best_loss = min(validation_loss,best_loss)\n",
        "\n",
        "        out_train_loss.append(train_loss)\n",
        "        out_validate_loss.append(validation_loss)\n",
        "\n",
        "        if is_best:\n",
        "            torch.save(model.state_dict(), 'data/best_nn.pt')\n",
        "\n",
        "        if epoch % 500 == 0:\n",
        "            print(\"[%d/%d] training loss: %0.3f, validation loss: %.3f\"\n",
        "                  % (epoch,num_epochs,train_loss,validation_loss))\n",
        "\n",
        "    print(\"Best validation loss (%.03f): %.03f\" % (epoch,best_loss))\n",
        "    return out_train_loss, out_validate_loss"
      ],
      "execution_count": 6,
      "outputs": []
    },
    {
      "cell_type": "markdown",
      "metadata": {
        "id": "TkZ-ey1pQmCZ"
      },
      "source": [
        "#### Train Model"
      ]
    },
    {
      "cell_type": "code",
      "metadata": {
        "colab": {
          "base_uri": "https://localhost:8080/"
        },
        "id": "UBO8AXTpQnfU",
        "outputId": "6fd1c5b5-1003-4b0c-b86c-8964ce334af7"
      },
      "source": [
        "out_train_loss, out_validate_loss = fit(5000, model, loss_fn, opt)"
      ],
      "execution_count": 7,
      "outputs": [
        {
          "output_type": "stream",
          "text": [
            "[500/5000] training loss: 0.326, validation loss: 0.349\n",
            "[1000/5000] training loss: 0.324, validation loss: 0.348\n",
            "[1500/5000] training loss: 0.324, validation loss: 0.357\n",
            "[2000/5000] training loss: 0.324, validation loss: 0.345\n",
            "[2500/5000] training loss: 0.324, validation loss: 0.351\n",
            "[3000/5000] training loss: 0.324, validation loss: 0.357\n",
            "[3500/5000] training loss: 0.324, validation loss: 0.357\n",
            "[4000/5000] training loss: 0.324, validation loss: 0.360\n",
            "[4500/5000] training loss: 0.325, validation loss: 0.357\n",
            "[5000/5000] training loss: 0.324, validation loss: 0.348\n",
            "Best validation loss (5000.000): 0.340\n"
          ],
          "name": "stdout"
        }
      ]
    },
    {
      "cell_type": "markdown",
      "metadata": {
        "id": "tykk92YBQo4C"
      },
      "source": [
        "#### Validation"
      ]
    },
    {
      "cell_type": "code",
      "metadata": {
        "colab": {
          "base_uri": "https://localhost:8080/"
        },
        "id": "4dqKBV5sQ0IE",
        "outputId": "5cd8063e-35ac-4bda-fb2e-fe3c425779f2"
      },
      "source": [
        "# prediction in the validation set\n",
        "model.load_state_dict(torch.load('data/best_nn.pt'))\n",
        "model.eval()\n",
        "with torch.no_grad():\n",
        "    preds = model(validation_X.cpu()) \n",
        "\n",
        "ans = []\n",
        "#Pick the class with maximum weight\n",
        "for t in preds:\n",
        "  if t[0]>t[1]:\n",
        "    ans.append(0)\n",
        "  else:\n",
        "    ans.append(1)\n",
        "\n",
        "acc = accuracy_score(validation_Y, ans)\n",
        "print(\"Accuracy Score: %.3f\" % (acc))\n",
        "\n",
        "con_mat = confusion_matrix(validation_Y, ans)\n",
        "fn_rate = con_mat[1][0] /(con_mat[1][0] + con_mat[1][1])\n",
        "fp_rate = con_mat[0][1] /(con_mat[0][0] + con_mat[0][1])\n",
        "print(\"False Negative Rate: %.3f, False Positive Rate: %.3f\" % (fn_rate, fp_rate))"
      ],
      "execution_count": 8,
      "outputs": [
        {
          "output_type": "stream",
          "text": [
            "Accuracy Score: 0.975\n",
            "False Negative Rate: 0.036, False Positive Rate: 0.013\n"
          ],
          "name": "stdout"
        }
      ]
    },
    {
      "cell_type": "markdown",
      "metadata": {
        "id": "mGZcQxwxQ2Ap"
      },
      "source": [
        "#### Prediction"
      ]
    },
    {
      "cell_type": "code",
      "metadata": {
        "colab": {
          "base_uri": "https://localhost:8080/"
        },
        "id": "OdFyu_inQ3Cw",
        "outputId": "3f66e2d6-43c5-42ef-cfc2-e7e6a0c05f2d"
      },
      "source": [
        "# predict in the prediction set\n",
        "model.eval()\n",
        "with torch.no_grad():\n",
        "    output = model(test_X.cpu())\n",
        "\n",
        "out_d = pd.DataFrame(output)\n",
        "\n",
        "ans_test = []\n",
        "#Pick the class with maximum weight\n",
        "for t in output:\n",
        "  if t[0]>t[1]:\n",
        "    ans_test.append(0)\n",
        "  else:\n",
        "    ans_test.append(1)\n",
        "\n",
        "acc_test = accuracy_score(y_test, ans_test)\n",
        "print(\"Accuracy Score: %.3f\" % (acc_test))\n",
        "\n",
        "con_mat_test = confusion_matrix(y_test, ans_test)\n",
        "fn_rate_test = con_mat_test[1][0] /(con_mat_test[1][0] + con_mat_test[1][1])\n",
        "fp_rate_test = con_mat_test[0][1] /(con_mat_test[0][0] + con_mat_test[0][1])\n",
        "print(\"False Negative Rate: %.3f, False Positive Rate: %.3f\" % (fn_rate_test, fp_rate_test))\n",
        "con_mat_test"
      ],
      "execution_count": 9,
      "outputs": [
        {
          "output_type": "stream",
          "text": [
            "Accuracy Score: 0.972\n",
            "False Negative Rate: 0.082, False Positive Rate: 0.027\n"
          ],
          "name": "stdout"
        },
        {
          "output_type": "execute_result",
          "data": {
            "text/plain": [
              "array([[55301,  1563],\n",
              "       [    8,    90]])"
            ]
          },
          "metadata": {
            "tags": []
          },
          "execution_count": 9
        }
      ]
    }
  ]
}