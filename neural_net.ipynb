{
 "cells": [
  {
   "cell_type": "markdown",
   "metadata": {
    "id": "V8IiHLugRSz4"
   },
   "source": [
    "## Libraries and Setup"
   ]
  },
  {
   "cell_type": "code",
   "execution_count": null,
   "metadata": {
    "colab": {
     "base_uri": "https://localhost:8080/"
    },
    "id": "vIv8pgX-mLj7",
    "outputId": "1fe3e8ec-59e7-449c-a0d8-8a10f52eab1b"
   },
   "outputs": [
    {
     "name": "stdout",
     "output_type": "stream",
     "text": [
      "Mounted at /content/gdrive\n"
     ]
    }
   ],
   "source": [
    "from google.colab import drive\n",
    "drive.mount('/content/gdrive')"
   ]
  },
  {
   "cell_type": "code",
   "execution_count": null,
   "metadata": {
    "colab": {
     "base_uri": "https://localhost:8080/"
    },
    "id": "F0mJh6rTmW6D",
    "outputId": "17fa61ac-86b6-4418-bbb4-0e6b6c8e3b30"
   },
   "outputs": [
    {
     "name": "stdout",
     "output_type": "stream",
     "text": [
      "Collecting torch_utils\n",
      "  Downloading https://files.pythonhosted.org/packages/f8/4d/d004b5af3acf5366b82c192e459b5a52fba4ced92dccce5ea0541e560900/torch-utils-0.1.2.tar.gz\n",
      "Requirement already satisfied: torch in /usr/local/lib/python3.6/dist-packages (from torch_utils) (1.7.0+cu101)\n",
      "Requirement already satisfied: typing-extensions in /usr/local/lib/python3.6/dist-packages (from torch->torch_utils) (3.7.4.3)\n",
      "Requirement already satisfied: dataclasses in /usr/local/lib/python3.6/dist-packages (from torch->torch_utils) (0.8)\n",
      "Requirement already satisfied: future in /usr/local/lib/python3.6/dist-packages (from torch->torch_utils) (0.16.0)\n",
      "Requirement already satisfied: numpy in /usr/local/lib/python3.6/dist-packages (from torch->torch_utils) (1.18.5)\n",
      "Building wheels for collected packages: torch-utils\n",
      "  Building wheel for torch-utils (setup.py) ... \u001b[?25l\u001b[?25hdone\n",
      "  Created wheel for torch-utils: filename=torch_utils-0.1.2-cp36-none-any.whl size=6191 sha256=f800c1550a7d53023b6f4ff2e8d5cc5cfbd7215e783434271cacf7431fdcdcd8\n",
      "  Stored in directory: /root/.cache/pip/wheels/95/61/06/139d254fa820bc1e45087dba1d719bc7d4007aec98905179c7\n",
      "Successfully built torch-utils\n",
      "Installing collected packages: torch-utils\n",
      "Successfully installed torch-utils-0.1.2\n"
     ]
    }
   ],
   "source": [
    "! pip install torch_utils"
   ]
  },
  {
   "cell_type": "code",
   "execution_count": null,
   "metadata": {
    "colab": {
     "base_uri": "https://localhost:8080/"
    },
    "id": "9AirUm9pmcmF",
    "outputId": "2ec8ba7c-7b47-45c4-f322-ad1e8b78bd4f"
   },
   "outputs": [
    {
     "name": "stdout",
     "output_type": "stream",
     "text": [
      "/content/gdrive/My Drive/Colab Notebooks/Case_Study_2\n"
     ]
    }
   ],
   "source": [
    "%cd gdrive/My\\ Drive/Colab\\ Notebooks/Case_Study_2"
   ]
  },
  {
   "cell_type": "code",
   "execution_count": null,
   "metadata": {
    "colab": {
     "base_uri": "https://localhost:8080/"
    },
    "id": "QcjafFDUmHys",
    "outputId": "290108d2-102a-4678-d5d8-6a411237c5c7"
   },
   "outputs": [
    {
     "name": "stderr",
     "output_type": "stream",
     "text": [
      "/usr/local/lib/python3.6/dist-packages/sklearn/externals/six.py:31: FutureWarning: The module is deprecated in version 0.21 and will be removed in version 0.23 since we've dropped support for Python 2.7. Please rely on the official version of six (https://pypi.org/project/six/).\n",
      "  \"(https://pypi.org/project/six/).\", FutureWarning)\n",
      "/usr/local/lib/python3.6/dist-packages/sklearn/utils/deprecation.py:144: FutureWarning: The sklearn.neighbors.base module is  deprecated in version 0.22 and will be removed in version 0.24. The corresponding classes / functions should instead be imported from sklearn.neighbors. Anything that cannot be imported from sklearn.neighbors is now part of the private API.\n",
      "  warnings.warn(message, FutureWarning)\n"
     ]
    }
   ],
   "source": [
    "# import modules\n",
    "import pandas as pd\n",
    "import numpy as np\n",
    "from sklearn.linear_model import LassoCV, Lasso\n",
    "from sklearn.metrics import mean_squared_error\n",
    "import matplotlib.pyplot as plt\n",
    "import torch\n",
    "from torch import cuda\n",
    "import torch.nn as nn\n",
    "from torch.utils.data import TensorDataset, DataLoader\n",
    "import torch.nn.functional as F\n",
    "from torch_utils import AverageMeter\n",
    "import math\n",
    "import matplotlib.pyplot as plt\n",
    "from sklearn.metrics import mean_squared_error\n",
    "from numpy import inf\n",
    "from sklearn import preprocessing\n",
    "from imblearn.over_sampling import RandomOverSampler\n",
    "from imblearn.under_sampling import RandomUnderSampler\n",
    "from sklearn.model_selection import train_test_split\n",
    "from sklearn.metrics import confusion_matrix, accuracy_score, classification_report\n",
    "from sklearn.preprocessing import StandardScaler \n",
    "import seaborn as sns"
   ]
  },
  {
   "cell_type": "markdown",
   "metadata": {
    "id": "CKSPewon_S4p"
   },
   "source": [
    "## Random Oversampling"
   ]
  },
  {
   "cell_type": "markdown",
   "metadata": {
    "id": "gxok8eQBmHy6"
   },
   "source": [
    "### Data Preprocessing "
   ]
  },
  {
   "cell_type": "code",
   "execution_count": null,
   "metadata": {},
   "outputs": [],
   "source": [
    "# import data\n",
    "creditcard = pd.read_csv('data/creditcard.csv')\n",
    "\n",
    "#separate features and labels\n",
    "X = creditcard.iloc[:,0:30]\n",
    "y = creditcard.iloc[:,-1]"
   ]
  },
  {
   "cell_type": "code",
   "execution_count": null,
   "metadata": {
    "colab": {
     "base_uri": "https://localhost:8080/"
    },
    "id": "Kdp5HGpUmHy8",
    "outputId": "78445b87-2508-418a-9f25-fb8b82b110da"
   },
   "outputs": [
    {
     "name": "stderr",
     "output_type": "stream",
     "text": [
      "/usr/local/lib/python3.6/dist-packages/sklearn/utils/deprecation.py:87: FutureWarning: Function safe_indexing is deprecated; safe_indexing is deprecated in version 0.22 and will be removed in version 0.24.\n",
      "  warnings.warn(msg, category=FutureWarning)\n"
     ]
    }
   ],
   "source": [
    "#split data\n",
    "X_train, X_test, y_train, y_test = train_test_split(X, y, test_size=0.2, random_state=42)\n",
    "\n",
    "#standardize input data\n",
    "scaler = StandardScaler()\n",
    "X_train = scaler.fit_transform(X_train)\n",
    "X_test = scaler.fit_transform(X_test)\n",
    "X_test = pd.DataFrame(data = X_test)\n",
    "\n",
    "#oversample data to achieve 50/50 ration between fraud and nonfraud cases\n",
    "ros_50_50 = RandomOverSampler(sampling_strategy='minority')\n",
    "X_balanced, y_balanced = ros_50_50.fit_resample(X_train, y_train)\n",
    "X_balanced = pd.DataFrame(data = X_balanced)\n",
    "y_balanced = pd.DataFrame(data = y_balanced)\n",
    "\n",
    "#create splits for validation data\n",
    "X_train, X_validation, y_train, y_validation = train_test_split(X_balanced, y_balanced, test_size=0.2, random_state=42)"
   ]
  },
  {
   "cell_type": "code",
   "execution_count": null,
   "metadata": {
    "id": "o48FZaQimHzF"
   },
   "outputs": [],
   "source": [
    "to_use = list(range(0,30))\n",
    "\n",
    "# training set\n",
    "train_X = torch.tensor(X_train.values).float()\n",
    "train_Y = torch.tensor(y_train.values).long()\n",
    "\n",
    "# validation set\n",
    "validation_X = torch.tensor(X_validation.values).float()\n",
    "validation_Y = torch.tensor(y_validation.values).long()\n",
    "\n",
    "# prediction set\n",
    "test_X = torch.tensor(X_test.values).float()"
   ]
  },
  {
   "cell_type": "code",
   "execution_count": null,
   "metadata": {
    "id": "9Xpghjy1IoSn"
   },
   "outputs": [],
   "source": [
    "train_Y = torch.flatten(train_Y)\n",
    "validation_Y = torch.flatten(validation_Y)"
   ]
  },
  {
   "cell_type": "markdown",
   "metadata": {
    "id": "OXKOSjvOmHzL"
   },
   "source": [
    "### Baseline Model"
   ]
  },
  {
   "cell_type": "code",
   "execution_count": null,
   "metadata": {
    "id": "ae50FZxMmHzM"
   },
   "outputs": [],
   "source": [
    "#device = torch.device(\"cuda\")\n",
    "device = torch.device(\"cpu\")\n",
    "kwargs = {'num_workers': 1, 'pin_memory': True} \n",
    "# prepare training data loader\n",
    "train_ds = TensorDataset(train_X,train_Y)\n",
    "validate_ds = TensorDataset(validation_X,validation_Y)\n",
    "\n",
    "batch_size = 100\n",
    "train_dl = DataLoader(train_ds, batch_size, shuffle=True,**kwargs)\n",
    "\n",
    "validate_dl = DataLoader(validate_ds, batch_size, shuffle=True,**kwargs)\n",
    "\n",
    "# define model\n",
    "class bmodel(nn.Module):\n",
    "    def __init__(self, input_d, hidden_d, output_d):\n",
    "        super().__init__()\n",
    "        self.fc1 = nn.Linear(input_d,hidden_d)\n",
    "        self.fc2 = nn.Linear(hidden_d,hidden_d)\n",
    "        self.fc3 = nn.Linear(hidden_d,output_d)\n",
    "        #self.dropout1 = nn.Dropout(0.5)\n",
    "\n",
    "    def forward(self, x):\n",
    "        out = torch.relu(self.fc1(x))\n",
    "        #out = self.dropout1(out)\n",
    "        out = torch.relu(self.fc2(out))\n",
    "        out = self.fc3(out)\n",
    "        return torch.sigmoid(out)\n",
    "\n",
    "# define dimensions\n",
    "input_d = len(to_use)\n",
    "hidden_d = 1\n",
    "output_d = 2\n",
    "\n",
    "# set up the model\n",
    "model = bmodel(input_d, hidden_d, output_d).to(device)\n",
    "\n",
    "# define optimizer\n",
    "opt = torch.optim.SGD(model.parameters(), lr=1e-3)\n",
    "\n",
    "# define loss function\n",
    "loss_fn = nn.CrossEntropyLoss()\n",
    "\n",
    "# define the training function\n",
    "def train(train_loader,model,device,loss_fn,opt):\n",
    "    model.train()\n",
    "\n",
    "    losses = AverageMeter('Loss', math.ceil(train_X.shape[0]/batch_size),':.4f')\n",
    "\n",
    "    for batch_idx, (inputs, targets) in enumerate(train_loader):\n",
    "        \n",
    "        inputs, targets = inputs.to(device), targets.to(device)\n",
    "        #targets = targets.unsqueeze(dim=0)\n",
    "        \n",
    "        # generate predictions\n",
    "        pred = model(inputs)\n",
    "        \n",
    "        loss = loss_fn(pred, targets)\n",
    "\n",
    "        # record loss\n",
    "        losses.update(loss.data.item())\n",
    "\n",
    "        # perform gradient descent\n",
    "        opt.zero_grad()\n",
    "        loss.backward()\n",
    "        opt.step()\n",
    "\n",
    "    return losses.avg\n",
    "\n",
    "# define the validation function\n",
    "def validate(val_loader, model, device, loss_fn):\n",
    "    model.eval()\n",
    "    with torch.no_grad():\n",
    "        losses = AverageMeter('Loss', math.ceil(train_X.shape[0]/batch_size),':.4f')\n",
    "\n",
    "        for batch_idx, (inputs,targets) in enumerate(val_loader):\n",
    "            \n",
    "            inputs, targets = inputs.to(device), targets.to(device)\n",
    "            #targets = targets.unsqueeze(1)\n",
    "            outputs = model(inputs)\n",
    "            loss = loss_fn(outputs , targets)\n",
    "\n",
    "            losses.update(loss.data.item())\n",
    "\n",
    "    return losses.avg\n",
    "\n",
    "# define the main function\n",
    "def fit(num_epochs, model, loss_fn, opt):\n",
    "\n",
    "    best_loss = 1e9\n",
    "    is_best = False\n",
    "    out_train_loss = []\n",
    "    out_validate_loss = []\n",
    "\n",
    "    for epoch in range(1,num_epochs+1):\n",
    "        train_loss = train(train_dl,model,device,loss_fn,opt)\n",
    "        validation_loss = validate(validate_dl, model,device, loss_fn)\n",
    "\n",
    "        is_best = validation_loss < best_loss\n",
    "        best_loss = min(validation_loss,best_loss)\n",
    "\n",
    "        out_train_loss.append(train_loss)\n",
    "        out_validate_loss.append(validation_loss)\n",
    "\n",
    "        if is_best:\n",
    "            torch.save(model.state_dict(), 'data/best_nn.pt')\n",
    "\n",
    "        if epoch % 5 == 0:\n",
    "            print(\"[%d/%d] training loss: %0.3f, validation loss: %.3f\"\n",
    "                  % (epoch,num_epochs,train_loss,validation_loss))\n",
    "\n",
    "    print(\"Best validation loss (%.03f): %.03f\" % (epoch,best_loss))\n",
    "    return out_train_loss, out_validate_loss"
   ]
  },
  {
   "cell_type": "markdown",
   "metadata": {
    "id": "GDft1ns__daN"
   },
   "source": [
    "#### Train Model"
   ]
  },
  {
   "cell_type": "code",
   "execution_count": null,
   "metadata": {
    "colab": {
     "base_uri": "https://localhost:8080/"
    },
    "id": "jrFeOyAZmHzT",
    "outputId": "ab394b88-6694-48c8-8665-1f0e242265dc"
   },
   "outputs": [
    {
     "name": "stdout",
     "output_type": "stream",
     "text": [
      "[5/125] training loss: 0.484, validation loss: 0.475\n",
      "[10/125] training loss: 0.434, validation loss: 0.431\n",
      "[15/125] training loss: 0.412, validation loss: 0.410\n",
      "[20/125] training loss: 0.399, validation loss: 0.399\n",
      "[25/125] training loss: 0.392, validation loss: 0.391\n",
      "[30/125] training loss: 0.386, validation loss: 0.386\n",
      "[35/125] training loss: 0.383, validation loss: 0.383\n",
      "[40/125] training loss: 0.380, validation loss: 0.380\n",
      "[45/125] training loss: 0.377, validation loss: 0.378\n",
      "[50/125] training loss: 0.375, validation loss: 0.376\n",
      "[55/125] training loss: 0.374, validation loss: 0.374\n",
      "[60/125] training loss: 0.372, validation loss: 0.373\n",
      "[65/125] training loss: 0.371, validation loss: 0.372\n",
      "[70/125] training loss: 0.370, validation loss: 0.371\n",
      "[75/125] training loss: 0.369, validation loss: 0.370\n",
      "[80/125] training loss: 0.368, validation loss: 0.369\n",
      "[85/125] training loss: 0.368, validation loss: 0.368\n",
      "[90/125] training loss: 0.367, validation loss: 0.368\n",
      "[95/125] training loss: 0.366, validation loss: 0.367\n",
      "[100/125] training loss: 0.366, validation loss: 0.366\n",
      "[105/125] training loss: 0.365, validation loss: 0.366\n",
      "[110/125] training loss: 0.365, validation loss: 0.365\n",
      "[115/125] training loss: 0.364, validation loss: 0.365\n",
      "[120/125] training loss: 0.364, validation loss: 0.364\n",
      "[125/125] training loss: 0.363, validation loss: 0.364\n",
      "Best validation loss (125.000): 0.364\n"
     ]
    }
   ],
   "source": [
    "out_train_loss, out_validate_loss = fit(125, model, loss_fn, opt)"
   ]
  },
  {
   "cell_type": "markdown",
   "metadata": {
    "id": "JbXpazGQ_iR9"
   },
   "source": [
    "#### Validation"
   ]
  },
  {
   "cell_type": "code",
   "execution_count": null,
   "metadata": {
    "colab": {
     "base_uri": "https://localhost:8080/",
     "height": 279
    },
    "id": "8kumvsHcR0te",
    "outputId": "1e3898fd-2d28-4084-e2e3-3c12a2371112"
   },
   "outputs": [
    {
     "data": {
      "image/png": "[encoded data removed]",
      "text/plain": [
       "<Figure size 432x288 with 1 Axes>"
      ]
     },
     "metadata": {
      "tags": []
     },
     "output_type": "display_data"
    }
   ],
   "source": [
    "# plot the training and validation loss: rmse\n",
    "plot_data = {'Epoch': list(range(1,126)),\n",
    "             'TrainLoss': [x for x in out_train_loss],\n",
    "             'ValidateLoss': [x for x in out_validate_loss] }\n",
    "\n",
    "plot_data = pd.DataFrame(plot_data)\n",
    "\n",
    "# find the best epoch\n",
    "index_min = plot_data['ValidateLoss'].idxmin()\n",
    "\n",
    "# plot\n",
    "plt.plot('Epoch','TrainLoss',data=plot_data,color=\"blue\",label='Training loss')\n",
    "plt.plot('Epoch','ValidateLoss',data=plot_data,color=\"green\",label='Validation loss')\n",
    "#plt.axhline(y=0.7, color='red', linestyle='-')\n",
    "plt.axvline(x=index_min+1, color='k', linestyle='--')\n",
    "plt.xlabel('Epoch')\n",
    "plt.ylabel('Loss')\n",
    "plt.legend()\n",
    "plt.show()"
   ]
  },
  {
   "cell_type": "code",
   "execution_count": null,
   "metadata": {
    "id": "3SvcrjSHSChs"
   },
   "outputs": [],
   "source": [
    "# prediction in the validation set\n",
    "model.load_state_dict(torch.load('data/best_nn.pt'))\n",
    "model.eval()\n",
    "with torch.no_grad():\n",
    "    preds = model(validation_X.cpu()) \n",
    "\n",
    "ans = []\n",
    "#Pick the class with maximum weight\n",
    "for t in preds:\n",
    "  if t[0]>t[1]:\n",
    "    ans.append(0)\n",
    "  else:\n",
    "    ans.append(1)"
   ]
  },
  {
   "cell_type": "code",
   "execution_count": null,
   "metadata": {
    "colab": {
     "base_uri": "https://localhost:8080/"
    },
    "id": "vJAKFQR4XkiX",
    "outputId": "ef5dce94-ece5-4f35-b3e3-05f361b3ee5d"
   },
   "outputs": [
    {
     "name": "stdout",
     "output_type": "stream",
     "text": [
      "Accuracy Score: 0.956\n"
     ]
    }
   ],
   "source": [
    "#compute accuracy score\n",
    "acc = accuracy_score(validation_Y, ans)\n",
    "print(\"Accuracy Score: %.3f\" % (acc))"
   ]
  },
  {
   "cell_type": "code",
   "execution_count": null,
   "metadata": {
    "colab": {
     "base_uri": "https://localhost:8080/"
    },
    "id": "gAd9T2IggiUh",
    "outputId": "ba698536-68ca-4ca1-ef0b-c0cd6d9b395b"
   },
   "outputs": [
    {
     "name": "stdout",
     "output_type": "stream",
     "text": [
      "False Negative Rate: 0.062, False Positive Rate: 0.025\n"
     ]
    }
   ],
   "source": [
    "#compute confusuion matrix and false positive and negative rates\n",
    "con_mat = confusion_matrix(validation_Y, ans)\n",
    "fn_rate = con_mat[1][0] /(con_mat[1][0] + con_mat[1][1])\n",
    "fp_rate = con_mat[0][1] /(con_mat[0][0] + con_mat[0][1])\n",
    "print(\"False Negative Rate: %.3f, False Positive Rate: %.3f\" % (fn_rate, fp_rate))"
   ]
  },
  {
   "cell_type": "code",
   "execution_count": null,
   "metadata": {
    "colab": {
     "base_uri": "https://localhost:8080/"
    },
    "id": "zmYz4nOz4jov",
    "outputId": "93b26110-e99b-4dd8-8b09-38cfb6978c08"
   },
   "outputs": [
    {
     "data": {
      "text/plain": [
       "array([[44209,  1189],\n",
       "       [ 2581, 43002]])"
      ]
     },
     "execution_count": 14,
     "metadata": {
      "tags": []
     },
     "output_type": "execute_result"
    }
   ],
   "source": [
    "con_mat"
   ]
  },
  {
   "cell_type": "markdown",
   "metadata": {
    "id": "yg7xzUIy_qdO"
   },
   "source": [
    "#### Prediction"
   ]
  },
  {
   "cell_type": "code",
   "execution_count": null,
   "metadata": {
    "id": "3bR819HtPSY1"
   },
   "outputs": [],
   "source": [
    "# predict in the prediction set\n",
    "model.eval()\n",
    "with torch.no_grad():\n",
    "    output = model(test_X.cpu())\n",
    "\n",
    "out_d = pd.DataFrame(output)\n",
    "\n",
    "    "
   ]
  },
  {
   "cell_type": "code",
   "execution_count": null,
   "metadata": {
    "id": "4kG9EFoUQ2Yd"
   },
   "outputs": [],
   "source": [
    "ans_test = []\n",
    "#Pick the class with maximum weight\n",
    "for t in output:\n",
    "  if t[0]>t[1]:\n",
    "    ans_test.append(0)\n",
    "  else:\n",
    "    ans_test.append(1)"
   ]
  },
  {
   "cell_type": "code",
   "execution_count": null,
   "metadata": {
    "colab": {
     "base_uri": "https://localhost:8080/"
    },
    "id": "3dBsdNmPQ3RQ",
    "outputId": "2e31678f-623e-4ef1-f037-46719a7de0ac"
   },
   "outputs": [
    {
     "name": "stdout",
     "output_type": "stream",
     "text": [
      "Accuracy Score: 0.974\n"
     ]
    }
   ],
   "source": [
    "#compute accuracy score\n",
    "acc_test = accuracy_score(y_test, ans_test)\n",
    "print(\"Accuracy Score: %.3f\" % (acc_test))"
   ]
  },
  {
   "cell_type": "code",
   "execution_count": null,
   "metadata": {
    "colab": {
     "base_uri": "https://localhost:8080/"
    },
    "id": "CDQQ0DncRRH4",
    "outputId": "685541d1-5475-4658-a7d2-39c6601eeef9"
   },
   "outputs": [
    {
     "name": "stdout",
     "output_type": "stream",
     "text": [
      "False Negative Rate: 0.082, False Positive Rate: 0.026\n"
     ]
    }
   ],
   "source": [
    "#compute confusion matrix as well as false positive and false negative rates\n",
    "con_mat_test = confusion_matrix(y_test, ans_test)\n",
    "fn_rate_test = con_mat_test[1][0] /(con_mat_test[1][0] + con_mat_test[1][1])\n",
    "fp_rate_test = con_mat_test[0][1] /(con_mat_test[0][0] + con_mat_test[0][1])\n",
    "print(\"False Negative Rate: %.3f, False Positive Rate: %.3f\" % (fn_rate_test, fp_rate_test))"
   ]
  },
  {
   "cell_type": "code",
   "execution_count": null,
   "metadata": {
    "colab": {
     "base_uri": "https://localhost:8080/"
    },
    "id": "-DV3VjYtR-YF",
    "outputId": "7d1c4b69-1be2-4797-e76e-b300af411944"
   },
   "outputs": [
    {
     "data": {
      "text/plain": [
       "array([[55387,  1477],\n",
       "       [    8,    90]])"
      ]
     },
     "execution_count": 28,
     "metadata": {
      "tags": []
     },
     "output_type": "execute_result"
    }
   ],
   "source": [
    "con_mat_test"
   ]
  },
  {
   "cell_type": "markdown",
   "metadata": {
    "id": "0yhIi2bfTUHf"
   },
   "source": [
    "### Model Improvements"
   ]
  },
  {
   "cell_type": "code",
   "execution_count": null,
   "metadata": {
    "id": "apqCogsOSAlP"
   },
   "outputs": [],
   "source": [
    "#device = torch.device(\"cuda\")\n",
    "device = torch.device(\"cpu\")\n",
    "kwargs = {'num_workers': 1, 'pin_memory': True} \n",
    "# prepare training data loader\n",
    "train_ds = TensorDataset(train_X,train_Y)\n",
    "validate_ds = TensorDataset(validation_X,validation_Y)\n",
    "\n",
    "batch_size = 100\n",
    "train_dl = DataLoader(train_ds, batch_size, shuffle=True,**kwargs)\n",
    "\n",
    "validate_dl = DataLoader(validate_ds, batch_size, shuffle=True,**kwargs)\n",
    "\n",
    "# define model\n",
    "class bmodel(nn.Module):\n",
    "    def __init__(self, input_d, hidden_d, output_d):\n",
    "        super().__init__()\n",
    "        self.fc1 = nn.Linear(input_d,hidden_d)\n",
    "        self.fc2 = nn.Linear(hidden_d,hidden_d)\n",
    "        self.fc3 = nn.Linear(hidden_d, output_d)\n",
    "        self.dropout1 = nn.Dropout(0.1)\n",
    "\n",
    "    def forward(self, x):\n",
    "        out = torch.relu(self.fc1(x))\n",
    "        out = self.dropout1(out)\n",
    "        out = torch.relu(self.fc2(out))\n",
    "        out = self.dropout1(out)\n",
    "        out = self.fc3(out)\n",
    "        return torch.sigmoid(out)\n",
    "\n",
    "# define dimensions\n",
    "input_d = len(to_use)\n",
    "hidden_d = len(to_use)\n",
    "output_d = 2\n",
    "\n",
    "# set up the model\n",
    "model = bmodel(input_d, hidden_d, output_d).to(device)\n",
    "\n",
    "# define optimizer\n",
    "opt = torch.optim.Adam(model.parameters(), lr=1e-3)\n",
    "\n",
    "# define loss function\n",
    "loss_fn = nn.CrossEntropyLoss()\n",
    "\n",
    "# define the training function\n",
    "def train(train_loader,model,device,loss_fn,opt):\n",
    "    model.train()\n",
    "\n",
    "    losses = AverageMeter('Loss', math.ceil(train_X.shape[0]/batch_size),':.4f')\n",
    "\n",
    "    for batch_idx, (inputs, targets) in enumerate(train_loader):\n",
    "        \n",
    "        inputs, targets = inputs.to(device), targets.to(device)\n",
    "        #targets = targets.unsqueeze(dim=0)\n",
    "        \n",
    "        # generate predictions\n",
    "        pred = model(inputs)\n",
    "        \n",
    "        loss = loss_fn(pred, targets)\n",
    "\n",
    "        # record loss\n",
    "        losses.update(loss.data.item())\n",
    "\n",
    "        # perform gradient descent\n",
    "        opt.zero_grad()\n",
    "        loss.backward()\n",
    "        opt.step()\n",
    "\n",
    "    return losses.avg\n",
    "\n",
    "# define the validation function\n",
    "def validate(val_loader, model, device, loss_fn):\n",
    "    model.eval()\n",
    "    with torch.no_grad():\n",
    "        losses = AverageMeter('Loss', math.ceil(train_X.shape[0]/batch_size),':.4f')\n",
    "\n",
    "        for batch_idx, (inputs,targets) in enumerate(val_loader):\n",
    "            \n",
    "            inputs, targets = inputs.to(device), targets.to(device)\n",
    "            #targets = targets.unsqueeze(1)\n",
    "            outputs = model(inputs)\n",
    "            loss = loss_fn(outputs , targets)\n",
    "\n",
    "            losses.update(loss.data.item())\n",
    "\n",
    "    return losses.avg\n",
    "\n",
    "# define the main function\n",
    "def fit(num_epochs, model, loss_fn, opt):\n",
    "\n",
    "    best_loss = 1e9\n",
    "    is_best = False\n",
    "    out_train_loss = []\n",
    "    out_validate_loss = []\n",
    "\n",
    "    for epoch in range(1,num_epochs+1):\n",
    "        train_loss = train(train_dl,model,device,loss_fn,opt)\n",
    "        validation_loss = validate(validate_dl, model,device, loss_fn)\n",
    "\n",
    "        is_best = validation_loss < best_loss\n",
    "        best_loss = min(validation_loss,best_loss)\n",
    "\n",
    "        out_train_loss.append(train_loss)\n",
    "        out_validate_loss.append(validation_loss)\n",
    "\n",
    "        if is_best:\n",
    "            torch.save(model.state_dict(), 'data/best_nn.pt')\n",
    "\n",
    "        if epoch % 25 == 0:\n",
    "            print(\"[%d/%d] training loss: %0.3f, validation loss: %.3f\"\n",
    "                  % (epoch,num_epochs,train_loss,validation_loss))\n",
    "\n",
    "    print(\"Best validation loss (%.03f): %.03f\" % (epoch,best_loss))\n",
    "    return out_train_loss, out_validate_loss"
   ]
  },
  {
   "cell_type": "markdown",
   "metadata": {
    "id": "0o2zMKZH_54D"
   },
   "source": [
    "#### Train Model"
   ]
  },
  {
   "cell_type": "code",
   "execution_count": null,
   "metadata": {
    "colab": {
     "base_uri": "https://localhost:8080/"
    },
    "id": "-uvd9KjSTnYJ",
    "outputId": "f61d57e4-9b6d-41ce-8458-1959aeb7c06e"
   },
   "outputs": [
    {
     "name": "stdout",
     "output_type": "stream",
     "text": [
      "[25/125] training loss: 0.333, validation loss: 0.332\n",
      "[50/125] training loss: 0.333, validation loss: 0.332\n",
      "[75/125] training loss: 0.333, validation loss: 0.332\n",
      "[100/125] training loss: 0.333, validation loss: 0.332\n",
      "[125/125] training loss: 0.333, validation loss: 0.332\n",
      "Best validation loss (125.000): 0.332\n"
     ]
    }
   ],
   "source": [
    "out_train_loss, out_validate_loss = fit(125, model, loss_fn, opt)"
   ]
  },
  {
   "cell_type": "markdown",
   "metadata": {
    "id": "Ucudzu7J_9Zs"
   },
   "source": [
    "#### Validation"
   ]
  },
  {
   "cell_type": "code",
   "execution_count": null,
   "metadata": {
    "colab": {
     "base_uri": "https://localhost:8080/"
    },
    "id": "fRjO0vzUdbov",
    "outputId": "09f05958-3371-45a0-92dd-95f2d4a09f21"
   },
   "outputs": [
    {
     "name": "stdout",
     "output_type": "stream",
     "text": [
      "Accuracy Score: 0.981\n",
      "False Negative Rate: 0.038, False Positive Rate: 0.000\n"
     ]
    }
   ],
   "source": [
    "# prediction in the validation set\n",
    "model.load_state_dict(torch.load('data/best_nn.pt'))\n",
    "model.eval()\n",
    "with torch.no_grad():\n",
    "    preds = model(validation_X.cpu()) \n",
    "\n",
    "ans = []\n",
    "#Pick the class with maximum weight\n",
    "for t in preds:\n",
    "  if t[0]>t[1]:\n",
    "    ans.append(0)\n",
    "  else:\n",
    "    ans.append(1)\n",
    "\n",
    "acc = accuracy_score(validation_Y, ans)\n",
    "print(\"Accuracy Score: %.3f\" % (acc))\n",
    "\n",
    "con_mat = confusion_matrix(validation_Y, ans)\n",
    "fn_rate = con_mat[1][0] /(con_mat[1][0] + con_mat[1][1])\n",
    "fp_rate = con_mat[0][1] /(con_mat[0][0] + con_mat[0][1])\n",
    "print(\"False Negative Rate: %.3f, False Positive Rate: %.3f\" % (fn_rate, fp_rate))"
   ]
  },
  {
   "cell_type": "markdown",
   "metadata": {
    "id": "X9kVru9jAav3"
   },
   "source": [
    "#### Prediction"
   ]
  },
  {
   "cell_type": "code",
   "execution_count": null,
   "metadata": {
    "colab": {
     "base_uri": "https://localhost:8080/"
    },
    "id": "HBhhtwiGwwsa",
    "outputId": "66724944-c1e8-4ad7-c062-bcf3aea342d0"
   },
   "outputs": [
    {
     "name": "stdout",
     "output_type": "stream",
     "text": [
      "Accuracy Score: 0.999\n",
      "False Negative Rate: 0.143, False Positive Rate: 0.001\n"
     ]
    }
   ],
   "source": [
    "# predict in the prediction set\n",
    "model.eval()\n",
    "with torch.no_grad():\n",
    "    output = model(test_X.cpu())\n",
    "\n",
    "out_d = pd.DataFrame(output)\n",
    "\n",
    "ans_test = []\n",
    "#Pick the class with maximum weight\n",
    "for t in output:\n",
    "  if t[0]>t[1]:\n",
    "    ans_test.append(0)\n",
    "  else:\n",
    "    ans_test.append(1)\n",
    "\n",
    "acc_test = accuracy_score(y_test, ans_test)\n",
    "print(\"Accuracy Score: %.3f\" % (acc_test))\n",
    "\n",
    "con_mat_test = confusion_matrix(y_test, ans_test)\n",
    "fn_rate_test = con_mat_test[1][0] /(con_mat_test[1][0] + con_mat_test[1][1])\n",
    "fp_rate_test = con_mat_test[0][1] /(con_mat_test[0][0] + con_mat_test[0][1])\n",
    "print(\"False Negative Rate: %.3f, False Positive Rate: %.3f\" % (fn_rate_test, fp_rate_test))"
   ]
  },
  {
   "cell_type": "code",
   "execution_count": null,
   "metadata": {
    "colab": {
     "base_uri": "https://localhost:8080/"
    },
    "id": "IwlN6v_kBkPm",
    "outputId": "583a71a3-2256-4b96-88b0-31fbf1552cfd"
   },
   "outputs": [
    {
     "data": {
      "text/plain": [
       "array([[56833,    31],\n",
       "       [   14,    84]])"
      ]
     },
     "execution_count": 14,
     "metadata": {
      "tags": []
     },
     "output_type": "execute_result"
    }
   ],
   "source": [
    "con_mat_test"
   ]
  },
  {
   "cell_type": "code",
   "execution_count": null,
   "metadata": {
    "colab": {
     "base_uri": "https://localhost:8080/",
     "height": 616
    },
    "id": "dIhoZ0CYCRWQ",
    "outputId": "8f997c1b-263f-44fc-d828-5b15178fef7c"
   },
   "outputs": [
    {
     "name": "stdout",
     "output_type": "stream",
     "text": [
      "TPR for the two class [0.99945484 0.85714286]\n",
      "TNR for the two class [0.85714286 0.99945484]\n",
      "FPR for the two class [0.14285714 0.00054516]\n",
      "FNR for the two class [0.00054516 0.14285714]\n",
      "TP 84\n",
      "TN 56833\n",
      "FP 31\n",
      "FN 14\n"
     ]
    },
    {
     "data": {
      "image/png": "[encoded data removed]",
      "text/plain": [
       "<Figure size 432x216 with 2 Axes>"
      ]
     },
     "metadata": {
      "needs_background": "light",
      "tags": []
     },
     "output_type": "display_data"
    },
    {
     "name": "stdout",
     "output_type": "stream",
     "text": [
      "Accuracy: 0.9992099996488887\n",
      "Confusion matrix: [[56833    31]\n",
      " [   14    84]]\n",
      "\n",
      "----------Classification Report------------------------------------\n",
      "              precision    recall  f1-score   support\n",
      "\n",
      "           0       1.00      1.00      1.00     56864\n",
      "           1       0.73      0.86      0.79        98\n",
      "\n",
      "    accuracy                           1.00     56962\n",
      "   macro avg       0.87      0.93      0.89     56962\n",
      "weighted avg       1.00      1.00      1.00     56962\n",
      "\n"
     ]
    }
   ],
   "source": [
    "fig= plt.figure(figsize=(6,3))# to plot the graph\n",
    "FP = con_mat_test.sum(axis=0) - np.diag(con_mat_test)  \n",
    "FN = con_mat_test.sum(axis=1) - np.diag(con_mat_test)\n",
    "TP = np.diag(con_mat_test)\n",
    "TN = con_mat_test.sum() - (FP + FN + TP)\n",
    "\n",
    "# Sensitivity, hit rate, recall, or true positive rate\n",
    "TPR = TP/(TP+FN)\n",
    "# Specificity or true negative rate\n",
    "TNR = TN/(TN+FP) \n",
    "# Precision or positive predictive value\n",
    "PPV = TP/(TP+FP)\n",
    "# Negative predictive value\n",
    "NPV = TN/(TN+FN)\n",
    "# Fall out or false positive rate\n",
    "FPR = FP/(FP+TN)\n",
    "# False negative rate\n",
    "FNR = FN/(TP+FN)\n",
    "# False discovery rate\n",
    "FDR = FP/(TP+FP)\n",
    "\n",
    "print(\"TPR for the two class\", TPR)\n",
    "print(\"TNR for the two class\", TNR)\n",
    "print(\"FPR for the two class\", FPR)\n",
    "print(\"FNR for the two class\", FNR)\n",
    "print(\"TP\",con_mat_test[1,1,]) # no of fraud transaction which are predicted fraud\n",
    "print(\"TN\",con_mat_test[0,0]) # no. of normal transaction which are predited normal\n",
    "print(\"FP\",con_mat_test[0,1]) # no of normal transaction which are predicted fraud\n",
    "print(\"FN\",con_mat_test[1,0]) # no of fraud Transaction which are predicted normal\n",
    "sns.heatmap(con_mat_test,cmap=\"coolwarm_r\",annot=True,linewidths=0.5)\n",
    "plt.title(\"Confusion_matrix\")\n",
    "plt.xlabel(\"Predicted_class\")\n",
    "plt.ylabel(\"Real class\")\n",
    "plt.show()\n",
    "print(\"Accuracy:\", acc_test)\n",
    "print(\"Confusion matrix:\", con_mat_test)\n",
    "\n",
    "print(\"\\n----------Classification Report------------------------------------\")\n",
    "print(classification_report(y_test,ans_test))"
   ]
  },
  {
   "cell_type": "markdown",
   "metadata": {
    "id": "7clnq2_2CUeP"
   },
   "source": [
    "## Random Undersampling"
   ]
  },
  {
   "cell_type": "markdown",
   "metadata": {
    "id": "waMdm_OxCdzA"
   },
   "source": [
    "### Data Preprocessing"
   ]
  },
  {
   "cell_type": "code",
   "execution_count": null,
   "metadata": {
    "colab": {
     "base_uri": "https://localhost:8080/"
    },
    "id": "v2TWfMW_CXFC",
    "outputId": "6fa3ece6-8e48-4282-b2ec-adb8399f27b7"
   },
   "outputs": [
    {
     "name": "stderr",
     "output_type": "stream",
     "text": [
      "/usr/local/lib/python3.6/dist-packages/sklearn/utils/deprecation.py:87: FutureWarning: Function safe_indexing is deprecated; safe_indexing is deprecated in version 0.22 and will be removed in version 0.24.\n",
      "  warnings.warn(msg, category=FutureWarning)\n"
     ]
    }
   ],
   "source": [
    "#split data\n",
    "X_train, X_test, y_train, y_test = train_test_split(X, y, test_size=0.2, random_state=42)\n",
    "\n",
    "#standardize input data\n",
    "scaler = StandardScaler()\n",
    "X_train = scaler.fit_transform(X_train)\n",
    "X_test = scaler.fit_transform(X_test)\n",
    "X_test = pd.DataFrame(data = X_test)\n",
    "\n",
    "#undersample data to achieve 50/50 ratio\n",
    "rus_50_50 = RandomUnderSampler(sampling_strategy='majority')\n",
    "X_balanced, y_balanced = rus_50_50.fit_resample(X_train, y_train)\n",
    "X_balanced = pd.DataFrame(data = X_balanced)\n",
    "y_balanced = pd.DataFrame(data = y_balanced)\n",
    "\n",
    "#split data to create validation set\n",
    "X_train, X_validation, y_train, y_validation = train_test_split(X_balanced, y_balanced, test_size=0.2, random_state=42)"
   ]
  },
  {
   "cell_type": "code",
   "execution_count": null,
   "metadata": {
    "id": "Wu4ZZ5VgDeCW"
   },
   "outputs": [],
   "source": [
    "to_use = list(range(0,30))\n",
    "\n",
    "# training set: n = 800\n",
    "train_X = torch.tensor(X_train.values).float()\n",
    "train_Y = torch.tensor(y_train.values).long()\n",
    "\n",
    "# validation set\n",
    "validation_X = torch.tensor(X_validation.values).float()\n",
    "validation_Y = torch.tensor(y_validation.values).long()\n",
    "\n",
    "# prediction set\n",
    "test_X = torch.tensor(X_test.values).float()"
   ]
  },
  {
   "cell_type": "code",
   "execution_count": null,
   "metadata": {
    "id": "l0RZAD1sDiy3"
   },
   "outputs": [],
   "source": [
    "train_Y = torch.flatten(train_Y)\n",
    "validation_Y = torch.flatten(validation_Y)"
   ]
  },
  {
   "cell_type": "markdown",
   "metadata": {
    "id": "YidaW86_N-XR"
   },
   "source": [
    "### Baseline Model"
   ]
  },
  {
   "cell_type": "code",
   "execution_count": null,
   "metadata": {
    "id": "YAwBN8YYOADM"
   },
   "outputs": [],
   "source": [
    "#device = torch.device(\"cuda\")\n",
    "device = torch.device(\"cpu\")\n",
    "kwargs = {'num_workers': 1, 'pin_memory': True} \n",
    "# prepare training data loader\n",
    "train_ds = TensorDataset(train_X,train_Y)\n",
    "validate_ds = TensorDataset(validation_X,validation_Y)\n",
    "\n",
    "batch_size = 10\n",
    "train_dl = DataLoader(train_ds, batch_size, shuffle=True,**kwargs)\n",
    "\n",
    "validate_dl = DataLoader(validate_ds, batch_size, shuffle=True,**kwargs)\n",
    "\n",
    "# define model\n",
    "class bmodel(nn.Module):\n",
    "    def __init__(self, input_d, hidden_d, output_d):\n",
    "        super().__init__()\n",
    "        self.fc1 = nn.Linear(input_d,hidden_d)\n",
    "        self.fc2 = nn.Linear(hidden_d,hidden_d)\n",
    "        self.fc3 = nn.Linear(hidden_d,output_d)\n",
    "        #self.dropout1 = nn.Dropout(0.5)\n",
    "\n",
    "    def forward(self, x):\n",
    "        out = torch.relu(self.fc1(x))\n",
    "        #out = self.dropout1(out)\n",
    "        out = torch.relu(self.fc2(out))\n",
    "        out = self.fc3(out)\n",
    "        return torch.sigmoid(out)\n",
    "\n",
    "# define dimensions\n",
    "input_d = len(to_use)\n",
    "hidden_d = 1\n",
    "output_d = 2\n",
    "\n",
    "# set up the model\n",
    "model = bmodel(input_d, hidden_d, output_d).to(device)\n",
    "\n",
    "# define optimizer\n",
    "opt = torch.optim.SGD(model.parameters(), lr=1e-3)\n",
    "\n",
    "# define loss function\n",
    "loss_fn = nn.CrossEntropyLoss()\n",
    "\n",
    "# define the training function\n",
    "def train(train_loader,model,device,loss_fn,opt):\n",
    "    model.train()\n",
    "\n",
    "    losses = AverageMeter('Loss', math.ceil(train_X.shape[0]/batch_size),':.4f')\n",
    "\n",
    "    for batch_idx, (inputs, targets) in enumerate(train_loader):\n",
    "        \n",
    "        inputs, targets = inputs.to(device), targets.to(device)\n",
    "        #targets = targets.unsqueeze(dim=0)\n",
    "        \n",
    "        # generate predictions\n",
    "        pred = model(inputs)\n",
    "        \n",
    "        loss = loss_fn(pred, targets)\n",
    "\n",
    "        # record loss\n",
    "        losses.update(loss.data.item())\n",
    "\n",
    "        # perform gradient descent\n",
    "        opt.zero_grad()\n",
    "        loss.backward()\n",
    "        opt.step()\n",
    "\n",
    "    return losses.avg\n",
    "\n",
    "# define the validation function\n",
    "def validate(val_loader, model, device, loss_fn):\n",
    "    model.eval()\n",
    "    with torch.no_grad():\n",
    "        losses = AverageMeter('Loss', math.ceil(train_X.shape[0]/batch_size),':.4f')\n",
    "\n",
    "        for batch_idx, (inputs,targets) in enumerate(val_loader):\n",
    "            \n",
    "            inputs, targets = inputs.to(device), targets.to(device)\n",
    "            #targets = targets.unsqueeze(1)\n",
    "            outputs = model(inputs)\n",
    "            loss = loss_fn(outputs , targets)\n",
    "\n",
    "            losses.update(loss.data.item())\n",
    "\n",
    "    return losses.avg\n",
    "\n",
    "# define the main function\n",
    "def fit(num_epochs, model, loss_fn, opt):\n",
    "\n",
    "    best_loss = 1e9\n",
    "    is_best = False\n",
    "    out_train_loss = []\n",
    "    out_validate_loss = []\n",
    "\n",
    "    for epoch in range(1,num_epochs+1):\n",
    "        train_loss = train(train_dl,model,device,loss_fn,opt)\n",
    "        validation_loss = validate(validate_dl, model,device, loss_fn)\n",
    "\n",
    "        is_best = validation_loss < best_loss\n",
    "        best_loss = min(validation_loss,best_loss)\n",
    "\n",
    "        out_train_loss.append(train_loss)\n",
    "        out_validate_loss.append(validation_loss)\n",
    "\n",
    "        if is_best:\n",
    "            torch.save(model.state_dict(), 'data/best_nn.pt')\n",
    "\n",
    "        if epoch % 500 == 0:\n",
    "            print(\"[%d/%d] training loss: %0.3f, validation loss: %.3f\"\n",
    "                  % (epoch,num_epochs,train_loss,validation_loss))\n",
    "\n",
    "    print(\"Best validation loss (%.03f): %.03f\" % (epoch,best_loss))\n",
    "    return out_train_loss, out_validate_loss"
   ]
  },
  {
   "cell_type": "markdown",
   "metadata": {
    "id": "Hw2q86h-OCj6"
   },
   "source": [
    "#### Train Model"
   ]
  },
  {
   "cell_type": "code",
   "execution_count": null,
   "metadata": {
    "colab": {
     "base_uri": "https://localhost:8080/"
    },
    "id": "c0jeYyHrOD4S",
    "outputId": "c476552d-e5a5-4a92-85cb-14b22e502524"
   },
   "outputs": [
    {
     "name": "stdout",
     "output_type": "stream",
     "text": [
      "[500/5000] training loss: 0.442, validation loss: 0.428\n",
      "[1000/5000] training loss: 0.403, validation loss: 0.394\n",
      "[1500/5000] training loss: 0.387, validation loss: 0.381\n",
      "[2000/5000] training loss: 0.379, validation loss: 0.377\n",
      "[2500/5000] training loss: 0.374, validation loss: 0.373\n",
      "[3000/5000] training loss: 0.370, validation loss: 0.370\n",
      "[3500/5000] training loss: 0.367, validation loss: 0.367\n",
      "[4000/5000] training loss: 0.365, validation loss: 0.365\n",
      "[4500/5000] training loss: 0.363, validation loss: 0.364\n",
      "[5000/5000] training loss: 0.362, validation loss: 0.365\n",
      "Best validation loss (5000.000): 0.362\n"
     ]
    }
   ],
   "source": [
    "out_train_loss, out_validate_loss = fit(5000, model, loss_fn, opt)"
   ]
  },
  {
   "cell_type": "markdown",
   "metadata": {
    "id": "Qi601y7kOjCI"
   },
   "source": [
    "#### Validation"
   ]
  },
  {
   "cell_type": "code",
   "execution_count": null,
   "metadata": {
    "colab": {
     "base_uri": "https://localhost:8080/",
     "height": 279
    },
    "id": "b1Vop5XuOoNc",
    "outputId": "d19fab37-a7af-495f-c4da-0f10044e7960"
   },
   "outputs": [
    {
     "data": {
      "image/png": "[encoded data removed]",
      "text/plain": [
       "<Figure size 432x288 with 1 Axes>"
      ]
     },
     "metadata": {
      "needs_background": "light",
      "tags": []
     },
     "output_type": "display_data"
    }
   ],
   "source": [
    "# plot the training and validation loss: rmse\n",
    "plot_data = {'Epoch': list(range(1,5001)),\n",
    "             'TrainLoss': [x for x in out_train_loss],\n",
    "             'ValidateLoss': [x for x in out_validate_loss] }\n",
    "\n",
    "plot_data = pd.DataFrame(plot_data)\n",
    "\n",
    "# find the best epoch\n",
    "index_min = plot_data['ValidateLoss'].idxmin()\n",
    "\n",
    "# plot\n",
    "plt.plot('Epoch','TrainLoss',data=plot_data,color=\"blue\",label='Training loss')\n",
    "plt.plot('Epoch','ValidateLoss',data=plot_data,color=\"green\",label='Validation loss')\n",
    "#plt.axhline(y=0.7, color='red', linestyle='-')\n",
    "plt.axvline(x=index_min+1, color='k', linestyle='--')\n",
    "plt.xlabel('Epoch')\n",
    "plt.ylabel('Loss')\n",
    "plt.legend()\n",
    "plt.show()"
   ]
  },
  {
   "cell_type": "code",
   "execution_count": null,
   "metadata": {
    "id": "3g9AxXSQOsqE"
   },
   "outputs": [],
   "source": [
    "# prediction in the validation set\n",
    "model.load_state_dict(torch.load('data/best_nn.pt'))\n",
    "model.eval()\n",
    "with torch.no_grad():\n",
    "    preds = model(validation_X.cpu()) \n",
    "\n",
    "ans = []\n",
    "#Pick the class with maximum weight\n",
    "for t in preds:\n",
    "  if t[0]>t[1]:\n",
    "    ans.append(0)\n",
    "  else:\n",
    "    ans.append(1)"
   ]
  },
  {
   "cell_type": "code",
   "execution_count": null,
   "metadata": {
    "colab": {
     "base_uri": "https://localhost:8080/"
    },
    "id": "oUqVGkb8Ow6P",
    "outputId": "856919fb-d3eb-4490-bc71-337906d80260"
   },
   "outputs": [
    {
     "name": "stdout",
     "output_type": "stream",
     "text": [
      "Accuracy Score: 0.962\n"
     ]
    }
   ],
   "source": [
    "acc = accuracy_score(validation_Y, ans)\n",
    "print(\"Accuracy Score: %.3f\" % (acc))"
   ]
  },
  {
   "cell_type": "code",
   "execution_count": null,
   "metadata": {
    "colab": {
     "base_uri": "https://localhost:8080/"
    },
    "id": "qBpbQ6vAO5LO",
    "outputId": "009dbb8d-9f91-436a-cf6b-c537da59bf45"
   },
   "outputs": [
    {
     "name": "stdout",
     "output_type": "stream",
     "text": [
      "False Negative Rate: 0.036, False Positive Rate: 0.040\n"
     ]
    }
   ],
   "source": [
    "con_mat = confusion_matrix(validation_Y, ans)\n",
    "fn_rate = con_mat[1][0] /(con_mat[1][0] + con_mat[1][1])\n",
    "fp_rate = con_mat[0][1] /(con_mat[0][0] + con_mat[0][1])\n",
    "print(\"False Negative Rate: %.3f, False Positive Rate: %.3f\" % (fn_rate, fp_rate))"
   ]
  },
  {
   "cell_type": "code",
   "execution_count": null,
   "metadata": {
    "colab": {
     "base_uri": "https://localhost:8080/"
    },
    "id": "WIskaB-kO-kf",
    "outputId": "b32fe188-9e37-47e1-8d24-09cbba6dce7b"
   },
   "outputs": [
    {
     "data": {
      "text/plain": [
       "array([[72,  3],\n",
       "       [ 3, 80]])"
      ]
     },
     "execution_count": 14,
     "metadata": {
      "tags": []
     },
     "output_type": "execute_result"
    }
   ],
   "source": [
    "con_mat"
   ]
  },
  {
   "cell_type": "markdown",
   "metadata": {
    "id": "AGuJ2v7UO_z0"
   },
   "source": [
    "#### Prediction"
   ]
  },
  {
   "cell_type": "code",
   "execution_count": null,
   "metadata": {
    "colab": {
     "base_uri": "https://localhost:8080/"
    },
    "id": "qhgSw7h9PA-n",
    "outputId": "afba7c9d-5d27-4691-b59b-0071eae1d4c8"
   },
   "outputs": [
    {
     "name": "stdout",
     "output_type": "stream",
     "text": [
      "Accuracy Score: 0.949\n",
      "False Negative Rate: 0.061, False Positive Rate: 0.051\n"
     ]
    },
    {
     "data": {
      "text/plain": [
       "array([[53966,  2898],\n",
       "       [    6,    92]])"
      ]
     },
     "execution_count": 15,
     "metadata": {
      "tags": []
     },
     "output_type": "execute_result"
    }
   ],
   "source": [
    "# predict in the prediction set\n",
    "model.eval()\n",
    "with torch.no_grad():\n",
    "    output = model(test_X.cpu())\n",
    "\n",
    "out_d = pd.DataFrame(output)\n",
    "\n",
    "ans_test = []\n",
    "#Pick the class with maximum weight\n",
    "for t in output:\n",
    "  if t[0]>t[1]:\n",
    "    ans_test.append(0)\n",
    "  else:\n",
    "    ans_test.append(1)\n",
    "\n",
    "acc_test = accuracy_score(y_test, ans_test)\n",
    "print(\"Accuracy Score: %.3f\" % (acc_test))\n",
    "\n",
    "con_mat_test = confusion_matrix(y_test, ans_test)\n",
    "fn_rate_test = con_mat_test[1][0] /(con_mat_test[1][0] + con_mat_test[1][1])\n",
    "fp_rate_test = con_mat_test[0][1] /(con_mat_test[0][0] + con_mat_test[0][1])\n",
    "print(\"False Negative Rate: %.3f, False Positive Rate: %.3f\" % (fn_rate_test, fp_rate_test))\n",
    "\n",
    "con_mat_test"
   ]
  },
  {
   "cell_type": "markdown",
   "metadata": {
    "id": "5U3N-UszQf00"
   },
   "source": [
    "### Model Improvements"
   ]
  },
  {
   "cell_type": "code",
   "execution_count": null,
   "metadata": {
    "id": "-483eJqXQhat"
   },
   "outputs": [],
   "source": [
    "#device = torch.device(\"cuda\")\n",
    "device = torch.device(\"cpu\")\n",
    "kwargs = {'num_workers': 1, 'pin_memory': True} \n",
    "# prepare training data loader\n",
    "train_ds = TensorDataset(train_X,train_Y)\n",
    "validate_ds = TensorDataset(validation_X,validation_Y)\n",
    "\n",
    "batch_size = 10\n",
    "train_dl = DataLoader(train_ds, batch_size, shuffle=True,**kwargs)\n",
    "\n",
    "validate_dl = DataLoader(validate_ds, batch_size, shuffle=True,**kwargs)\n",
    "\n",
    "# define model\n",
    "class bmodel(nn.Module):\n",
    "    def __init__(self, input_d, hidden_d, output_d):\n",
    "        super().__init__()\n",
    "        self.fc1 = nn.Linear(input_d,hidden_d)\n",
    "        self.fc2 = nn.Linear(hidden_d,hidden_d)\n",
    "        self.fc3 = nn.Linear(hidden_d,output_d)\n",
    "        self.dropout1 = nn.Dropout(0.1)\n",
    "\n",
    "    def forward(self, x):\n",
    "        out = torch.relu(self.fc1(x))\n",
    "        out = self.dropout1(out)\n",
    "        out = torch.relu(self.fc2(out))\n",
    "        out = self.dropout1(out)\n",
    "        out = self.fc3(out)\n",
    "        return torch.sigmoid(out)\n",
    "\n",
    "# define dimensions\n",
    "input_d = len(to_use)\n",
    "hidden_d = len(to_use)\n",
    "output_d = 2\n",
    "\n",
    "# set up the model\n",
    "model = bmodel(input_d, hidden_d, output_d).to(device)\n",
    "\n",
    "# define optimizer\n",
    "opt = torch.optim.Adam(model.parameters(), lr=1e-3)\n",
    "\n",
    "# define loss function\n",
    "loss_fn = nn.CrossEntropyLoss()\n",
    "\n",
    "# define the training function\n",
    "def train(train_loader,model,device,loss_fn,opt):\n",
    "    model.train()\n",
    "\n",
    "    losses = AverageMeter('Loss', math.ceil(train_X.shape[0]/batch_size),':.4f')\n",
    "\n",
    "    for batch_idx, (inputs, targets) in enumerate(train_loader):\n",
    "        \n",
    "        inputs, targets = inputs.to(device), targets.to(device)\n",
    "        #targets = targets.unsqueeze(dim=0)\n",
    "        \n",
    "        # generate predictions\n",
    "        pred = model(inputs)\n",
    "        \n",
    "        loss = loss_fn(pred, targets)\n",
    "\n",
    "        # record loss\n",
    "        losses.update(loss.data.item())\n",
    "\n",
    "        # perform gradient descent\n",
    "        opt.zero_grad()\n",
    "        loss.backward()\n",
    "        opt.step()\n",
    "\n",
    "    return losses.avg\n",
    "\n",
    "# define the validation function\n",
    "def validate(val_loader, model, device, loss_fn):\n",
    "    model.eval()\n",
    "    with torch.no_grad():\n",
    "        losses = AverageMeter('Loss', math.ceil(train_X.shape[0]/batch_size),':.4f')\n",
    "\n",
    "        for batch_idx, (inputs,targets) in enumerate(val_loader):\n",
    "            \n",
    "            inputs, targets = inputs.to(device), targets.to(device)\n",
    "            #targets = targets.unsqueeze(1)\n",
    "            outputs = model(inputs)\n",
    "            loss = loss_fn(outputs , targets)\n",
    "\n",
    "            losses.update(loss.data.item())\n",
    "\n",
    "    return losses.avg\n",
    "\n",
    "# define the main function\n",
    "def fit(num_epochs, model, loss_fn, opt):\n",
    "\n",
    "    best_loss = 1e9\n",
    "    is_best = False\n",
    "    out_train_loss = []\n",
    "    out_validate_loss = []\n",
    "\n",
    "    for epoch in range(1,num_epochs+1):\n",
    "        train_loss = train(train_dl,model,device,loss_fn,opt)\n",
    "        validation_loss = validate(validate_dl, model,device, loss_fn)\n",
    "\n",
    "        is_best = validation_loss < best_loss\n",
    "        best_loss = min(validation_loss,best_loss)\n",
    "\n",
    "        out_train_loss.append(train_loss)\n",
    "        out_validate_loss.append(validation_loss)\n",
    "\n",
    "        if is_best:\n",
    "            torch.save(model.state_dict(), 'data/best_nn1.pt')\n",
    "\n",
    "        if epoch % 500 == 0:\n",
    "            print(\"[%d/%d] training loss: %0.3f, validation loss: %.3f\"\n",
    "                  % (epoch,num_epochs,train_loss,validation_loss))\n",
    "\n",
    "    print(\"Best validation loss (%.03f): %.03f\" % (epoch,best_loss))\n",
    "    return out_train_loss, out_validate_loss"
   ]
  },
  {
   "cell_type": "markdown",
   "metadata": {
    "id": "TkZ-ey1pQmCZ"
   },
   "source": [
    "#### Train Model"
   ]
  },
  {
   "cell_type": "code",
   "execution_count": null,
   "metadata": {
    "colab": {
     "base_uri": "https://localhost:8080/"
    },
    "id": "UBO8AXTpQnfU",
    "outputId": "5111170a-672a-487a-f733-620b080ba467"
   },
   "outputs": [
    {
     "name": "stdout",
     "output_type": "stream",
     "text": [
      "[500/5000] training loss: 0.329, validation loss: 0.370\n",
      "[1000/5000] training loss: 0.329, validation loss: 0.378\n",
      "[1500/5000] training loss: 0.329, validation loss: 0.380\n",
      "[2000/5000] training loss: 0.329, validation loss: 0.376\n",
      "[2500/5000] training loss: 0.329, validation loss: 0.364\n",
      "[3000/5000] training loss: 0.329, validation loss: 0.376\n",
      "[3500/5000] training loss: 0.329, validation loss: 0.378\n",
      "[4000/5000] training loss: 0.329, validation loss: 0.372\n",
      "[4500/5000] training loss: 0.329, validation loss: 0.376\n",
      "[5000/5000] training loss: 0.329, validation loss: 0.376\n",
      "Best validation loss (5000.000): 0.362\n"
     ]
    }
   ],
   "source": [
    "out_train_loss, out_validate_loss = fit(5000, model, loss_fn, opt)"
   ]
  },
  {
   "cell_type": "markdown",
   "metadata": {
    "id": "tykk92YBQo4C"
   },
   "source": [
    "#### Validation"
   ]
  },
  {
   "cell_type": "code",
   "execution_count": null,
   "metadata": {
    "colab": {
     "base_uri": "https://localhost:8080/"
    },
    "id": "4dqKBV5sQ0IE",
    "outputId": "ece4d488-9728-4862-ceba-dd5a41ae02ab"
   },
   "outputs": [
    {
     "name": "stdout",
     "output_type": "stream",
     "text": [
      "Accuracy Score: 0.943\n",
      "False Negative Rate: 0.072, False Positive Rate: 0.040\n"
     ]
    }
   ],
   "source": [
    "# prediction in the validation set\n",
    "model.load_state_dict(torch.load('data/best_nn1.pt'))\n",
    "model.eval()\n",
    "with torch.no_grad():\n",
    "    preds = model(validation_X.cpu()) \n",
    "\n",
    "ans = []\n",
    "#Pick the class with maximum weight\n",
    "for t in preds:\n",
    "  if t[0]>t[1]:\n",
    "    ans.append(0)\n",
    "  else:\n",
    "    ans.append(1)\n",
    "\n",
    "acc = accuracy_score(validation_Y, ans)\n",
    "print(\"Accuracy Score: %.3f\" % (acc))\n",
    "\n",
    "con_mat = confusion_matrix(validation_Y, ans)\n",
    "fn_rate = con_mat[1][0] /(con_mat[1][0] + con_mat[1][1])\n",
    "fp_rate = con_mat[0][1] /(con_mat[0][0] + con_mat[0][1])\n",
    "print(\"False Negative Rate: %.3f, False Positive Rate: %.3f\" % (fn_rate, fp_rate))"
   ]
  },
  {
   "cell_type": "markdown",
   "metadata": {
    "id": "mGZcQxwxQ2Ap"
   },
   "source": [
    "#### Prediction"
   ]
  },
  {
   "cell_type": "code",
   "execution_count": null,
   "metadata": {
    "colab": {
     "base_uri": "https://localhost:8080/"
    },
    "id": "OdFyu_inQ3Cw",
    "outputId": "79b4f2dc-bccc-4305-f3d6-3c193758804b"
   },
   "outputs": [
    {
     "name": "stdout",
     "output_type": "stream",
     "text": [
      "Accuracy Score: 0.965\n",
      "False Negative Rate: 0.082, False Positive Rate: 0.035\n"
     ]
    },
    {
     "data": {
      "text/plain": [
       "array([[54863,  2001],\n",
       "       [    8,    90]])"
      ]
     },
     "execution_count": 10,
     "metadata": {
      "tags": []
     },
     "output_type": "execute_result"
    }
   ],
   "source": [
    "# predict in the prediction set\n",
    "model.eval()\n",
    "with torch.no_grad():\n",
    "    output = model(test_X.cpu())\n",
    "\n",
    "out_d = pd.DataFrame(output)\n",
    "\n",
    "ans_test = []\n",
    "#Pick the class with maximum weight\n",
    "for t in output:\n",
    "  if t[0]>t[1]:\n",
    "    ans_test.append(0)\n",
    "  else:\n",
    "    ans_test.append(1)\n",
    "\n",
    "acc_test = accuracy_score(y_test, ans_test)\n",
    "print(\"Accuracy Score: %.3f\" % (acc_test))\n",
    "\n",
    "con_mat_test = confusion_matrix(y_test, ans_test)\n",
    "fn_rate_test = con_mat_test[1][0] /(con_mat_test[1][0] + con_mat_test[1][1])\n",
    "fp_rate_test = con_mat_test[0][1] /(con_mat_test[0][0] + con_mat_test[0][1])\n",
    "print(\"False Negative Rate: %.3f, False Positive Rate: %.3f\" % (fn_rate_test, fp_rate_test))\n",
    "con_mat_test"
   ]
  },
  {
   "cell_type": "code",
   "execution_count": null,
   "metadata": {
    "colab": {
     "base_uri": "https://localhost:8080/",
     "height": 616
    },
    "id": "iNzkaG_iARFQ",
    "outputId": "3ad3929c-96db-47ce-ec16-ecd49a024122"
   },
   "outputs": [
    {
     "name": "stdout",
     "output_type": "stream",
     "text": [
      "TPR for the two class [0.96481078 0.91836735]\n",
      "TNR for the two class [0.91836735 0.96481078]\n",
      "FPR for the two class [0.08163265 0.03518922]\n",
      "FNR for the two class [0.03518922 0.08163265]\n",
      "TP 90\n",
      "TN 54863\n",
      "FP 2001\n",
      "FN 8\n"
     ]
    },
    {
     "data": {
      "image/png": "[encoded data removed]",
      "text/plain": [
       "<Figure size 432x216 with 2 Axes>"
      ]
     },
     "metadata": {
      "needs_background": "light",
      "tags": []
     },
     "output_type": "display_data"
    },
    {
     "name": "stdout",
     "output_type": "stream",
     "text": [
      "Accuracy: 0.9647308732137214\n",
      "Confusion matrix: [[54863  2001]\n",
      " [    8    90]]\n",
      "\n",
      "----------Classification Report------------------------------------\n",
      "              precision    recall  f1-score   support\n",
      "\n",
      "           0       1.00      0.96      0.98     56864\n",
      "           1       0.04      0.92      0.08        98\n",
      "\n",
      "    accuracy                           0.96     56962\n",
      "   macro avg       0.52      0.94      0.53     56962\n",
      "weighted avg       1.00      0.96      0.98     56962\n",
      "\n"
     ]
    }
   ],
   "source": [
    "fig= plt.figure(figsize=(6,3))# to plot the graph\n",
    "FP = con_mat_test.sum(axis=0) - np.diag(con_mat_test)  \n",
    "FN = con_mat_test.sum(axis=1) - np.diag(con_mat_test)\n",
    "TP = np.diag(con_mat_test)\n",
    "TN = con_mat_test.sum() - (FP + FN + TP)\n",
    "\n",
    "# Sensitivity, hit rate, recall, or true positive rate\n",
    "TPR = TP/(TP+FN)\n",
    "# Specificity or true negative rate\n",
    "TNR = TN/(TN+FP) \n",
    "# Precision or positive predictive value\n",
    "PPV = TP/(TP+FP)\n",
    "# Negative predictive value\n",
    "NPV = TN/(TN+FN)\n",
    "# Fall out or false positive rate\n",
    "FPR = FP/(FP+TN)\n",
    "# False negative rate\n",
    "FNR = FN/(TP+FN)\n",
    "# False discovery rate\n",
    "FDR = FP/(TP+FP)\n",
    "\n",
    "print(\"TPR for the two class\", TPR)\n",
    "print(\"TNR for the two class\", TNR)\n",
    "print(\"FPR for the two class\", FPR)\n",
    "print(\"FNR for the two class\", FNR)\n",
    "print(\"TP\",con_mat_test[1,1,]) # no of fraud transaction which are predicted fraud\n",
    "print(\"TN\",con_mat_test[0,0]) # no. of normal transaction which are predited normal\n",
    "print(\"FP\",con_mat_test[0,1]) # no of normal transaction which are predicted fraud\n",
    "print(\"FN\",con_mat_test[1,0]) # no of fraud Transaction which are predicted normal\n",
    "sns.heatmap(con_mat_test,cmap=\"coolwarm_r\",annot=True,linewidths=0.5)\n",
    "plt.title(\"Confusion_matrix\")\n",
    "plt.xlabel(\"Predicted_class\")\n",
    "plt.ylabel(\"Real class\")\n",
    "plt.show()\n",
    "print(\"Accuracy:\", acc_test)\n",
    "print(\"Confusion matrix:\", con_mat_test)\n",
    "\n",
    "print(\"\\n----------Classification Report------------------------------------\")\n",
    "print(classification_report(y_test,ans_test))"
   ]
  }
 ],
 "metadata": {
  "colab": {
   "collapsed_sections": [],
   "name": "neural_net.ipynb",
   "provenance": [],
   "toc_visible": true
  },
  "kernelspec": {
   "display_name": "Python 3",
   "language": "python",
   "name": "python3"
  },
  "language_info": {
   "codemirror_mode": {
    "name": "ipython",
    "version": 3
   },
   "file_extension": ".py",
   "mimetype": "text/x-python",
   "name": "python",
   "nbconvert_exporter": "python",
   "pygments_lexer": "ipython3",
   "version": "3.7.3"
  }
 },
 "nbformat": 4,
 "nbformat_minor": 1
}
