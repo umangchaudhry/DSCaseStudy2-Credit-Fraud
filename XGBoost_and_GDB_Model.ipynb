{
 "cells": [
  {
   "cell_type": "markdown",
   "metadata": {},
   "source": [
    "## Load library"
   ]
  },
  {
   "cell_type": "code",
   "execution_count": 3,
   "metadata": {},
   "outputs": [],
   "source": [
    "# load library\n",
    "from datetime import datetime\n",
    "import math\n",
    "import numpy as np\n",
    "import pandas as pd\n",
    "from sklearn.model_selection import train_test_split\n",
    "from xgboost import XGBClassifier\n",
    "from xgboost import plot_importance\n",
    "from sklearn.model_selection import GridSearchCV\n",
    "from sklearn.metrics import f1_score, accuracy_score, roc_curve, auc, classification_report\n",
    "from sklearn.ensemble import GradientBoostingClassifier\n",
    "import random\n",
    "import seaborn as sns\n",
    "import matplotlib.pyplot as plt\n",
    "from sklearn.model_selection import GridSearchCV\n",
    "from sklearn.metrics import confusion_matrix,recall_score,precision_recall_curve,auc,roc_curve,roc_auc_score,classification_report\n"
   ]
  },
  {
   "cell_type": "markdown",
   "metadata": {},
   "source": [
    "## Load data"
   ]
  },
  {
   "cell_type": "code",
   "execution_count": 4,
   "metadata": {},
   "outputs": [],
   "source": [
    "# load data\n",
    "csv_file = \"Data/creditcard.csv\"\n",
    "csv_data = pd.read_csv(csv_file, low_memory = False)\n",
    "Credit_card = pd.DataFrame(csv_data)"
   ]
  },
  {
   "cell_type": "markdown",
   "metadata": {},
   "source": [
    "## Data process"
   ]
  },
  {
   "cell_type": "code",
   "execution_count": 5,
   "metadata": {
    "scrolled": true
   },
   "outputs": [
    {
     "data": {
      "text/html": [
       "<div>\n",
       "<style scoped>\n",
       "    .dataframe tbody tr th:only-of-type {\n",
       "        vertical-align: middle;\n",
       "    }\n",
       "\n",
       "    .dataframe tbody tr th {\n",
       "        vertical-align: top;\n",
       "    }\n",
       "\n",
       "    .dataframe thead th {\n",
       "        text-align: right;\n",
       "    }\n",
       "</style>\n",
       "<table border=\"1\" class=\"dataframe\">\n",
       "  <thead>\n",
       "    <tr style=\"text-align: right;\">\n",
       "      <th></th>\n",
       "      <th>Class</th>\n",
       "    </tr>\n",
       "    <tr>\n",
       "      <th>Class</th>\n",
       "      <th></th>\n",
       "    </tr>\n",
       "  </thead>\n",
       "  <tbody>\n",
       "    <tr>\n",
       "      <td>0</td>\n",
       "      <td>284315</td>\n",
       "    </tr>\n",
       "    <tr>\n",
       "      <td>1</td>\n",
       "      <td>492</td>\n",
       "    </tr>\n",
       "  </tbody>\n",
       "</table>\n",
       "</div>"
      ],
      "text/plain": [
       "        Class\n",
       "Class        \n",
       "0      284315\n",
       "1         492"
      ]
     },
     "execution_count": 5,
     "metadata": {},
     "output_type": "execute_result"
    }
   ],
   "source": [
    "Credit_card.groupby('Class')[['Class']].count()"
   ]
  },
  {
   "cell_type": "code",
   "execution_count": 6,
   "metadata": {},
   "outputs": [],
   "source": [
    "# scale time and amount\n",
    "\n",
    "# Since most of our data has already been scaled we should scale the columns that are left to scale (Amount and Time)\n",
    "from sklearn.preprocessing import StandardScaler, RobustScaler\n",
    "\n",
    "\n",
    "std_scaler = StandardScaler()\n",
    "rob_scaler = RobustScaler()\n",
    "\n",
    "Credit_card['scaled_amount'] = rob_scaler.fit_transform(Credit_card['Amount'].values.reshape(-1,1))\n",
    "Credit_card['scaled_time'] = rob_scaler.fit_transform(Credit_card['Time'].values.reshape(-1,1))"
   ]
  },
  {
   "cell_type": "code",
   "execution_count": 7,
   "metadata": {},
   "outputs": [
    {
     "data": {
      "text/html": [
       "<div>\n",
       "<style scoped>\n",
       "    .dataframe tbody tr th:only-of-type {\n",
       "        vertical-align: middle;\n",
       "    }\n",
       "\n",
       "    .dataframe tbody tr th {\n",
       "        vertical-align: top;\n",
       "    }\n",
       "\n",
       "    .dataframe thead th {\n",
       "        text-align: right;\n",
       "    }\n",
       "</style>\n",
       "<table border=\"1\" class=\"dataframe\">\n",
       "  <thead>\n",
       "    <tr style=\"text-align: right;\">\n",
       "      <th></th>\n",
       "      <th>scaled_amount</th>\n",
       "      <th>scaled_time</th>\n",
       "      <th>V1</th>\n",
       "      <th>V2</th>\n",
       "      <th>V3</th>\n",
       "      <th>V4</th>\n",
       "      <th>V5</th>\n",
       "      <th>V6</th>\n",
       "      <th>V7</th>\n",
       "      <th>V8</th>\n",
       "      <th>...</th>\n",
       "      <th>V20</th>\n",
       "      <th>V21</th>\n",
       "      <th>V22</th>\n",
       "      <th>V23</th>\n",
       "      <th>V24</th>\n",
       "      <th>V25</th>\n",
       "      <th>V26</th>\n",
       "      <th>V27</th>\n",
       "      <th>V28</th>\n",
       "      <th>Class</th>\n",
       "    </tr>\n",
       "  </thead>\n",
       "  <tbody>\n",
       "    <tr>\n",
       "      <td>0</td>\n",
       "      <td>1.783274</td>\n",
       "      <td>-0.994983</td>\n",
       "      <td>-1.359807</td>\n",
       "      <td>-0.072781</td>\n",
       "      <td>2.536347</td>\n",
       "      <td>1.378155</td>\n",
       "      <td>-0.338321</td>\n",
       "      <td>0.462388</td>\n",
       "      <td>0.239599</td>\n",
       "      <td>0.098698</td>\n",
       "      <td>...</td>\n",
       "      <td>0.251412</td>\n",
       "      <td>-0.018307</td>\n",
       "      <td>0.277838</td>\n",
       "      <td>-0.110474</td>\n",
       "      <td>0.066928</td>\n",
       "      <td>0.128539</td>\n",
       "      <td>-0.189115</td>\n",
       "      <td>0.133558</td>\n",
       "      <td>-0.021053</td>\n",
       "      <td>0</td>\n",
       "    </tr>\n",
       "    <tr>\n",
       "      <td>1</td>\n",
       "      <td>-0.269825</td>\n",
       "      <td>-0.994983</td>\n",
       "      <td>1.191857</td>\n",
       "      <td>0.266151</td>\n",
       "      <td>0.166480</td>\n",
       "      <td>0.448154</td>\n",
       "      <td>0.060018</td>\n",
       "      <td>-0.082361</td>\n",
       "      <td>-0.078803</td>\n",
       "      <td>0.085102</td>\n",
       "      <td>...</td>\n",
       "      <td>-0.069083</td>\n",
       "      <td>-0.225775</td>\n",
       "      <td>-0.638672</td>\n",
       "      <td>0.101288</td>\n",
       "      <td>-0.339846</td>\n",
       "      <td>0.167170</td>\n",
       "      <td>0.125895</td>\n",
       "      <td>-0.008983</td>\n",
       "      <td>0.014724</td>\n",
       "      <td>0</td>\n",
       "    </tr>\n",
       "    <tr>\n",
       "      <td>2</td>\n",
       "      <td>4.983721</td>\n",
       "      <td>-0.994972</td>\n",
       "      <td>-1.358354</td>\n",
       "      <td>-1.340163</td>\n",
       "      <td>1.773209</td>\n",
       "      <td>0.379780</td>\n",
       "      <td>-0.503198</td>\n",
       "      <td>1.800499</td>\n",
       "      <td>0.791461</td>\n",
       "      <td>0.247676</td>\n",
       "      <td>...</td>\n",
       "      <td>0.524980</td>\n",
       "      <td>0.247998</td>\n",
       "      <td>0.771679</td>\n",
       "      <td>0.909412</td>\n",
       "      <td>-0.689281</td>\n",
       "      <td>-0.327642</td>\n",
       "      <td>-0.139097</td>\n",
       "      <td>-0.055353</td>\n",
       "      <td>-0.059752</td>\n",
       "      <td>0</td>\n",
       "    </tr>\n",
       "    <tr>\n",
       "      <td>3</td>\n",
       "      <td>1.418291</td>\n",
       "      <td>-0.994972</td>\n",
       "      <td>-0.966272</td>\n",
       "      <td>-0.185226</td>\n",
       "      <td>1.792993</td>\n",
       "      <td>-0.863291</td>\n",
       "      <td>-0.010309</td>\n",
       "      <td>1.247203</td>\n",
       "      <td>0.237609</td>\n",
       "      <td>0.377436</td>\n",
       "      <td>...</td>\n",
       "      <td>-0.208038</td>\n",
       "      <td>-0.108300</td>\n",
       "      <td>0.005274</td>\n",
       "      <td>-0.190321</td>\n",
       "      <td>-1.175575</td>\n",
       "      <td>0.647376</td>\n",
       "      <td>-0.221929</td>\n",
       "      <td>0.062723</td>\n",
       "      <td>0.061458</td>\n",
       "      <td>0</td>\n",
       "    </tr>\n",
       "    <tr>\n",
       "      <td>4</td>\n",
       "      <td>0.670579</td>\n",
       "      <td>-0.994960</td>\n",
       "      <td>-1.158233</td>\n",
       "      <td>0.877737</td>\n",
       "      <td>1.548718</td>\n",
       "      <td>0.403034</td>\n",
       "      <td>-0.407193</td>\n",
       "      <td>0.095921</td>\n",
       "      <td>0.592941</td>\n",
       "      <td>-0.270533</td>\n",
       "      <td>...</td>\n",
       "      <td>0.408542</td>\n",
       "      <td>-0.009431</td>\n",
       "      <td>0.798278</td>\n",
       "      <td>-0.137458</td>\n",
       "      <td>0.141267</td>\n",
       "      <td>-0.206010</td>\n",
       "      <td>0.502292</td>\n",
       "      <td>0.219422</td>\n",
       "      <td>0.215153</td>\n",
       "      <td>0</td>\n",
       "    </tr>\n",
       "  </tbody>\n",
       "</table>\n",
       "<p>5 rows × 31 columns</p>\n",
       "</div>"
      ],
      "text/plain": [
       "   scaled_amount  scaled_time        V1        V2        V3        V4  \\\n",
       "0       1.783274    -0.994983 -1.359807 -0.072781  2.536347  1.378155   \n",
       "1      -0.269825    -0.994983  1.191857  0.266151  0.166480  0.448154   \n",
       "2       4.983721    -0.994972 -1.358354 -1.340163  1.773209  0.379780   \n",
       "3       1.418291    -0.994972 -0.966272 -0.185226  1.792993 -0.863291   \n",
       "4       0.670579    -0.994960 -1.158233  0.877737  1.548718  0.403034   \n",
       "\n",
       "         V5        V6        V7        V8  ...       V20       V21       V22  \\\n",
       "0 -0.338321  0.462388  0.239599  0.098698  ...  0.251412 -0.018307  0.277838   \n",
       "1  0.060018 -0.082361 -0.078803  0.085102  ... -0.069083 -0.225775 -0.638672   \n",
       "2 -0.503198  1.800499  0.791461  0.247676  ...  0.524980  0.247998  0.771679   \n",
       "3 -0.010309  1.247203  0.237609  0.377436  ... -0.208038 -0.108300  0.005274   \n",
       "4 -0.407193  0.095921  0.592941 -0.270533  ...  0.408542 -0.009431  0.798278   \n",
       "\n",
       "        V23       V24       V25       V26       V27       V28  Class  \n",
       "0 -0.110474  0.066928  0.128539 -0.189115  0.133558 -0.021053      0  \n",
       "1  0.101288 -0.339846  0.167170  0.125895 -0.008983  0.014724      0  \n",
       "2  0.909412 -0.689281 -0.327642 -0.139097 -0.055353 -0.059752      0  \n",
       "3 -0.190321 -1.175575  0.647376 -0.221929  0.062723  0.061458      0  \n",
       "4 -0.137458  0.141267 -0.206010  0.502292  0.219422  0.215153      0  \n",
       "\n",
       "[5 rows x 31 columns]"
      ]
     },
     "execution_count": 7,
     "metadata": {},
     "output_type": "execute_result"
    }
   ],
   "source": [
    "Credit_card.drop(['Time','Amount'], axis=1, inplace=True)\n",
    "scaled_amount = Credit_card['scaled_amount']\n",
    "scaled_time = Credit_card['scaled_time']\n",
    "\n",
    "Credit_card.drop(['scaled_amount', 'scaled_time'], axis=1, inplace=True)\n",
    "Credit_card.insert(0, 'scaled_amount', scaled_amount)\n",
    "Credit_card.insert(1, 'scaled_time', scaled_time)\n",
    "\n",
    "# Amount and Time are Scaled!\n",
    "\n",
    "Credit_card.head()"
   ]
  },
  {
   "cell_type": "code",
   "execution_count": 8,
   "metadata": {},
   "outputs": [],
   "source": [
    "df_x = Credit_card.iloc[:,:-1]\n",
    "Class = Credit_card.iloc[:,-1]\n",
    "## Randomly split the data\n",
    "X_train, X_test, y_train, y_test = train_test_split(df_x, Class, test_size=0.2, random_state=3)"
   ]
  },
  {
   "cell_type": "code",
   "execution_count": 8,
   "metadata": {
    "scrolled": true
   },
   "outputs": [
    {
     "data": {
      "text/plain": [
       "56962"
      ]
     },
     "execution_count": 8,
     "metadata": {},
     "output_type": "execute_result"
    }
   ],
   "source": [
    "len(y_test)"
   ]
  },
  {
   "cell_type": "markdown",
   "metadata": {},
   "source": [
    "## XGB model"
   ]
  },
  {
   "cell_type": "code",
   "execution_count": 9,
   "metadata": {},
   "outputs": [
    {
     "data": {
      "text/plain": [
       "XGBClassifier(base_score=0.5, booster='gbtree', colsample_bylevel=1,\n",
       "              colsample_bynode=1, colsample_bytree=1, gamma=0, gpu_id=-1,\n",
       "              importance_type='gain', interaction_constraints='',\n",
       "              learning_rate=0.300000012, max_delta_step=0, max_depth=6,\n",
       "              min_child_weight=1, missing=nan, monotone_constraints='()',\n",
       "              n_estimators=100, n_jobs=0, num_parallel_tree=1, random_state=0,\n",
       "              reg_alpha=0, reg_lambda=1, scale_pos_weight=1, subsample=1,\n",
       "              tree_method='exact', validate_parameters=1, verbosity=None)"
      ]
     },
     "execution_count": 9,
     "metadata": {},
     "output_type": "execute_result"
    }
   ],
   "source": [
    "clf = XGBClassifier()\n",
    "clf.fit(X_train, y_train)"
   ]
  },
  {
   "cell_type": "code",
   "execution_count": 11,
   "metadata": {},
   "outputs": [
    {
     "name": "stdout",
     "output_type": "stream",
     "text": [
      "F1 score:  0.8461538461538461\n",
      "Accuracy rate:  0.9995084442259752\n"
     ]
    }
   ],
   "source": [
    "\n",
    "y_pred = clf.predict(X_test)\n",
    "y_pred_proba = clf.predict_proba(X_test)\n",
    "f1_sco = f1_score(y_test,y_pred)\n",
    "auc_score = accuracy_score(y_test,y_pred)\n",
    "print(\"F1 score: \", f1_sco)\n",
    "print(\"Accuracy rate: \", auc_score)"
   ]
  },
  {
   "cell_type": "code",
   "execution_count": 12,
   "metadata": {},
   "outputs": [
    {
     "name": "stdout",
     "output_type": "stream",
     "text": [
      "              precision    recall  f1-score   support\n",
      "\n",
      "           0       1.00      1.00      1.00     56862\n",
      "           1       0.94      0.77      0.85       100\n",
      "\n",
      "    accuracy                           1.00     56962\n",
      "   macro avg       0.97      0.88      0.92     56962\n",
      "weighted avg       1.00      1.00      1.00     56962\n",
      "\n"
     ]
    }
   ],
   "source": [
    "print(classification_report(y_test, y_pred))"
   ]
  },
  {
   "cell_type": "code",
   "execution_count": 13,
   "metadata": {},
   "outputs": [
    {
     "name": "stdout",
     "output_type": "stream",
     "text": [
      "Importances： [0.01263058 0.01633259 0.02373566 0.01360122 0.02144281 0.0305224\n",
      " 0.01857734 0.01563578 0.02650291 0.0189287  0.01225543 0.05385268\n",
      " 0.01569386 0.02416494 0.019588   0.06004884 0.01895406 0.01719481\n",
      " 0.38603067 0.02419632 0.01306598 0.01592358 0.01893477 0.01130698\n",
      " 0.01467286 0.0152871  0.01373813 0.02444574 0.02947123 0.0132639 ]\n"
     ]
    }
   ],
   "source": [
    "Columns_name = list(X_train.columns)\n",
    "# feature_importances_  \n",
    "importances = clf.feature_importances_\n",
    "print(\"Importances：\",importances)\n",
    "# Change into dataframe for easier further maniputation \n",
    "Columns_name = pd.DataFrame(Columns_name)\n",
    "importances= pd.DataFrame(importances)\n",
    "# rename\n",
    "Columns_name.rename(columns={0:'Columns name'},inplace = True)\n",
    "importances.rename(columns={0:'importances'},inplace = True)\n",
    "\n",
    "df_import = pd.concat([Columns_name,importances], axis=1)"
   ]
  },
  {
   "cell_type": "code",
   "execution_count": 14,
   "metadata": {},
   "outputs": [
    {
     "data": {
      "text/html": [
       "<div>\n",
       "<style scoped>\n",
       "    .dataframe tbody tr th:only-of-type {\n",
       "        vertical-align: middle;\n",
       "    }\n",
       "\n",
       "    .dataframe tbody tr th {\n",
       "        vertical-align: top;\n",
       "    }\n",
       "\n",
       "    .dataframe thead th {\n",
       "        text-align: right;\n",
       "    }\n",
       "</style>\n",
       "<table border=\"1\" class=\"dataframe\">\n",
       "  <thead>\n",
       "    <tr style=\"text-align: right;\">\n",
       "      <th></th>\n",
       "      <th>Columns name</th>\n",
       "      <th>importances</th>\n",
       "    </tr>\n",
       "  </thead>\n",
       "  <tbody>\n",
       "    <tr>\n",
       "      <td>18</td>\n",
       "      <td>V17</td>\n",
       "      <td>0.386031</td>\n",
       "    </tr>\n",
       "    <tr>\n",
       "      <td>15</td>\n",
       "      <td>V14</td>\n",
       "      <td>0.060049</td>\n",
       "    </tr>\n",
       "    <tr>\n",
       "      <td>11</td>\n",
       "      <td>V10</td>\n",
       "      <td>0.053853</td>\n",
       "    </tr>\n",
       "    <tr>\n",
       "      <td>5</td>\n",
       "      <td>V4</td>\n",
       "      <td>0.030522</td>\n",
       "    </tr>\n",
       "    <tr>\n",
       "      <td>28</td>\n",
       "      <td>V27</td>\n",
       "      <td>0.029471</td>\n",
       "    </tr>\n",
       "    <tr>\n",
       "      <td>8</td>\n",
       "      <td>V7</td>\n",
       "      <td>0.026503</td>\n",
       "    </tr>\n",
       "    <tr>\n",
       "      <td>27</td>\n",
       "      <td>V26</td>\n",
       "      <td>0.024446</td>\n",
       "    </tr>\n",
       "    <tr>\n",
       "      <td>19</td>\n",
       "      <td>V18</td>\n",
       "      <td>0.024196</td>\n",
       "    </tr>\n",
       "    <tr>\n",
       "      <td>13</td>\n",
       "      <td>V12</td>\n",
       "      <td>0.024165</td>\n",
       "    </tr>\n",
       "    <tr>\n",
       "      <td>2</td>\n",
       "      <td>V1</td>\n",
       "      <td>0.023736</td>\n",
       "    </tr>\n",
       "  </tbody>\n",
       "</table>\n",
       "</div>"
      ],
      "text/plain": [
       "   Columns name  importances\n",
       "18          V17     0.386031\n",
       "15          V14     0.060049\n",
       "11          V10     0.053853\n",
       "5            V4     0.030522\n",
       "28          V27     0.029471\n",
       "8            V7     0.026503\n",
       "27          V26     0.024446\n",
       "19          V18     0.024196\n",
       "13          V12     0.024165\n",
       "2            V1     0.023736"
      ]
     },
     "execution_count": 14,
     "metadata": {},
     "output_type": "execute_result"
    }
   ],
   "source": [
    "# Order the important from higher values to smaller values\n",
    "df_import = df_import.sort_values(by ='importances',ascending = False)\n",
    "df_import.iloc[0:10,]"
   ]
  },
  {
   "cell_type": "code",
   "execution_count": 15,
   "metadata": {},
   "outputs": [],
   "source": [
    "df_importance_show = df_import.iloc[0:10,]"
   ]
  },
  {
   "cell_type": "code",
   "execution_count": 18,
   "metadata": {},
   "outputs": [
    {
     "data": {
      "image/png": "[encoded data removed]",
      "text/plain": [
       "<Figure size 1800x600 with 1 Axes>"
      ]
     },
     "metadata": {
      "needs_background": "light"
     },
     "output_type": "display_data"
    }
   ],
   "source": [
    "# Create 18 x 6 windows and set the dpi = 100\n",
    "plt.figure(figsize=(18, 6), dpi=100)\n",
    "# Create 1 x 1 graph\n",
    "plt.subplot(1, 1, 1)\n",
    "# bar number\n",
    "N = 10\n",
    "# each bar's value\n",
    "values = df_importance_show['importances']\n",
    "# include the Number for bars\n",
    "index = np.arange(N)\n",
    "# bar width\n",
    "width = 0.35\n",
    "# set the bar color\n",
    "p2 = plt.bar(index, values, width, color=\"#87CEFA\")\n",
    "#set the x label\n",
    "plt.xlabel('Features',fontsize = 13)\n",
    "# set y label\n",
    "plt.ylabel('Importance level',fontsize = 13)\n",
    "# set title\n",
    "plt.title('Feature Importance',fontsize = 16)\n",
    "# set the ticks\n",
    "plt.xticks(index, df_importance_show['Columns name'])\n",
    "plt.show()"
   ]
  },
  {
   "cell_type": "markdown",
   "metadata": {},
   "source": [
    "### XGB model performance"
   ]
  },
  {
   "cell_type": "code",
   "execution_count": 31,
   "metadata": {},
   "outputs": [],
   "source": [
    "## first make a model function for modeling with confusion matrix\n",
    "def model(model,features_train,features_test,labels_train,labels_test):\n",
    "    clf= model\n",
    "    clf.fit(features_train,labels_train.values.ravel())\n",
    "    pred=clf.predict(features_test)\n",
    "    pred_prob = clf.predict_proba(features_test)\n",
    "    accuracy = accuracy_score(labels_test, pred)\n",
    "    cnf_matrix=confusion_matrix(labels_test,pred)\n",
    "\n",
    "    fig= plt.figure(figsize=(6,3))# to plot the graph\n",
    "    FP = cnf_matrix.sum(axis=0) - np.diag(cnf_matrix)  \n",
    "    FN = cnf_matrix.sum(axis=1) - np.diag(cnf_matrix)\n",
    "    TP = np.diag(cnf_matrix)\n",
    "    TN = cnf_matrix.sum() - (FP + FN + TP)\n",
    "\n",
    "    # Sensitivity, hit rate, recall, or true positive rate\n",
    "    TPR = TP/(TP+FN)\n",
    "    # Specificity or true negative rate\n",
    "    TNR = TN/(TN+FP) \n",
    "    # Precision or positive predictive value\n",
    "    PPV = TP/(TP+FP)\n",
    "    # Negative predictive value\n",
    "    NPV = TN/(TN+FN)\n",
    "    # Fall out or false positive rate\n",
    "    FPR = FP/(FP+TN)\n",
    "    # False negative rate\n",
    "    FNR = FN/(TP+FN)\n",
    "    # False discovery rate\n",
    "    FDR = FP/(TP+FP)\n",
    "    \n",
    "    \n",
    "    print(\"TPR for the two class\", TPR)\n",
    "    print(\"TNR for the two class\", TNR)\n",
    "    print(\"FPR for the two class\", FPR)\n",
    "    print(\"FNR for the two class\", FNR)\n",
    "    print(\"TP\",cnf_matrix[1,1,]) # no of fraud transaction which are predicted fraud\n",
    "    print(\"TN\",cnf_matrix[0,0]) # no. of normal transaction which are predited normal\n",
    "    print(\"FP\",cnf_matrix[0,1]) # no of normal transaction which are predicted fraud\n",
    "    print(\"FN\",cnf_matrix[1,0]) # no of fraud Transaction which are predicted normal\n",
    "    sns.heatmap(cnf_matrix,cmap=\"coolwarm_r\",annot=True,linewidths=0.5)\n",
    "    plt.title(\"Confusion_matrix\")\n",
    "    plt.xlabel(\"Predicted_class\")\n",
    "    plt.ylabel(\"Real class\")\n",
    "    plt.show()\n",
    "    print(\"Accuracy:\", accuracy)\n",
    "    print(\"Confusion matrix:\",cnf_matrix)\n",
    "    \n",
    "    print(\"\\n----------Classification Report------------------------------------\")\n",
    "    print(classification_report(labels_test,pred))"
   ]
  },
  {
   "cell_type": "code",
   "execution_count": 23,
   "metadata": {},
   "outputs": [
    {
     "name": "stdout",
     "output_type": "stream",
     "text": [
      "\n",
      "TPR for the two class [0.99991207 0.77      ]\n",
      "TNR for the two class [0.77       0.99991207]\n",
      "FPR for the two class [2.30000000e-01 8.79321867e-05]\n",
      "FNR for the two class [8.79321867e-05 2.30000000e-01]\n",
      "TP 77\n",
      "TN 56857\n",
      "FP 5\n",
      "FN 23\n"
     ]
    },
    {
     "data": {
      "image/png": "[encoded data removed]",
      "text/plain": [
       "<Figure size 432x216 with 2 Axes>"
      ]
     },
     "metadata": {
      "needs_background": "light"
     },
     "output_type": "display_data"
    },
    {
     "name": "stdout",
     "output_type": "stream",
     "text": [
      "Accuracy: 0.9995084442259752\n",
      "Confusion matrix: [[56857     5]\n",
      " [   23    77]]\n",
      "\n",
      "----------Classification Report------------------------------------\n",
      "              precision    recall  f1-score   support\n",
      "\n",
      "           0       1.00      1.00      1.00     56862\n",
      "           1       0.94      0.77      0.85       100\n",
      "\n",
      "    accuracy                           1.00     56962\n",
      "   macro avg       0.97      0.88      0.92     56962\n",
      "weighted avg       1.00      1.00      1.00     56962\n",
      "\n",
      "_________________________________________________________________________________________\n"
     ]
    }
   ],
   "source": [
    "#the partion for whole data\n",
    "print()\n",
    "model(XGBClassifier(),X_train, X_test, y_train, y_test)\n",
    "# here training for the undersample data but tatsing for whole data\n",
    "print(\"_________________________________________________________________________________________\")"
   ]
  },
  {
   "cell_type": "markdown",
   "metadata": {},
   "source": [
    "## DGB model"
   ]
  },
  {
   "cell_type": "code",
   "execution_count": 12,
   "metadata": {},
   "outputs": [
    {
     "data": {
      "text/plain": [
       "GradientBoostingClassifier(criterion='friedman_mse', init=None,\n",
       "                           learning_rate=0.1, loss='deviance', max_depth=3,\n",
       "                           max_features=None, max_leaf_nodes=None,\n",
       "                           min_impurity_decrease=0.0, min_impurity_split=None,\n",
       "                           min_samples_leaf=1, min_samples_split=2,\n",
       "                           min_weight_fraction_leaf=0.0, n_estimators=100,\n",
       "                           n_iter_no_change=None, presort='auto',\n",
       "                           random_state=None, subsample=1.0, tol=0.0001,\n",
       "                           validation_fraction=0.1, verbose=0,\n",
       "                           warm_start=False)"
      ]
     },
     "execution_count": 12,
     "metadata": {},
     "output_type": "execute_result"
    }
   ],
   "source": [
    "model_GDB = GradientBoostingClassifier()\n",
    "model_GDB.fit(X_train, y_train)"
   ]
  },
  {
   "cell_type": "code",
   "execution_count": 17,
   "metadata": {},
   "outputs": [
    {
     "name": "stdout",
     "output_type": "stream",
     "text": [
      "F1 score:  0.6193548387096774\n",
      "Accuracy rate:  0.9989642217618764\n"
     ]
    }
   ],
   "source": [
    "\n",
    "y_pred = model_GDB.predict(X_test)\n",
    "y_pred_proba = model_GDB.predict_proba(X_test)\n",
    "f1_sco = f1_score(y_test,y_pred)\n",
    "auc_score = accuracy_score(y_test,y_pred)\n",
    "print(\"F1 score: \", f1_sco)\n",
    "print(\"Accuracy rate: \", auc_score)"
   ]
  },
  {
   "cell_type": "code",
   "execution_count": 18,
   "metadata": {},
   "outputs": [
    {
     "name": "stdout",
     "output_type": "stream",
     "text": [
      "              precision    recall  f1-score   support\n",
      "\n",
      "           0       1.00      1.00      1.00     56862\n",
      "           1       0.87      0.48      0.62       100\n",
      "\n",
      "    accuracy                           1.00     56962\n",
      "   macro avg       0.94      0.74      0.81     56962\n",
      "weighted avg       1.00      1.00      1.00     56962\n",
      "\n"
     ]
    }
   ],
   "source": [
    "print(classification_report(y_test, y_pred))"
   ]
  },
  {
   "cell_type": "markdown",
   "metadata": {},
   "source": [
    "### Conclusion for DGB model: its average model performance is not so good. \n"
   ]
  },
  {
   "cell_type": "markdown",
   "metadata": {},
   "source": [
    "## Do further exploration on XGB model."
   ]
  },
  {
   "cell_type": "markdown",
   "metadata": {},
   "source": [
    "### Random UnderSampling technique on XGB model\n",
    "#### purpose: avoid imbalance data and hope increasing the accracy in fraud case"
   ]
  },
  {
   "cell_type": "code",
   "execution_count": 32,
   "metadata": {},
   "outputs": [
    {
     "name": "stdout",
     "output_type": "stream",
     "text": [
      "----------------------------------------------------------------------------------------------------\n",
      "Label Distributions: \n",
      "\n",
      "[0.99827953 0.00172047]\n",
      "[0.99824444 0.00175556]\n"
     ]
    }
   ],
   "source": [
    "# See if both the train and test label distribution are similarly distributed\n",
    "train_unique_label, train_counts_label = np.unique(y_train, return_counts=True)\n",
    "test_unique_label, test_counts_label = np.unique(y_test, return_counts=True)\n",
    "print('-' * 100)\n",
    "\n",
    "print('Label Distributions: \\n')\n",
    "print(train_counts_label/ len(y_train))\n",
    "print(test_counts_label/ len(y_test))"
   ]
  },
  {
   "cell_type": "code",
   "execution_count": 33,
   "metadata": {},
   "outputs": [
    {
     "data": {
      "text/html": [
       "<div>\n",
       "<style scoped>\n",
       "    .dataframe tbody tr th:only-of-type {\n",
       "        vertical-align: middle;\n",
       "    }\n",
       "\n",
       "    .dataframe tbody tr th {\n",
       "        vertical-align: top;\n",
       "    }\n",
       "\n",
       "    .dataframe thead th {\n",
       "        text-align: right;\n",
       "    }\n",
       "</style>\n",
       "<table border=\"1\" class=\"dataframe\">\n",
       "  <thead>\n",
       "    <tr style=\"text-align: right;\">\n",
       "      <th></th>\n",
       "      <th>scaled_amount</th>\n",
       "      <th>scaled_time</th>\n",
       "      <th>V1</th>\n",
       "      <th>V2</th>\n",
       "      <th>V3</th>\n",
       "      <th>V4</th>\n",
       "      <th>V5</th>\n",
       "      <th>V6</th>\n",
       "      <th>V7</th>\n",
       "      <th>V8</th>\n",
       "      <th>...</th>\n",
       "      <th>V20</th>\n",
       "      <th>V21</th>\n",
       "      <th>V22</th>\n",
       "      <th>V23</th>\n",
       "      <th>V24</th>\n",
       "      <th>V25</th>\n",
       "      <th>V26</th>\n",
       "      <th>V27</th>\n",
       "      <th>V28</th>\n",
       "      <th>Class</th>\n",
       "    </tr>\n",
       "  </thead>\n",
       "  <tbody>\n",
       "    <tr>\n",
       "      <td>223900</td>\n",
       "      <td>0.001118</td>\n",
       "      <td>0.691714</td>\n",
       "      <td>2.005042</td>\n",
       "      <td>-0.378692</td>\n",
       "      <td>-1.421355</td>\n",
       "      <td>-0.027702</td>\n",
       "      <td>0.283375</td>\n",
       "      <td>0.052051</td>\n",
       "      <td>-0.124195</td>\n",
       "      <td>-0.011909</td>\n",
       "      <td>...</td>\n",
       "      <td>-0.147245</td>\n",
       "      <td>0.114357</td>\n",
       "      <td>0.568401</td>\n",
       "      <td>-0.009595</td>\n",
       "      <td>0.289037</td>\n",
       "      <td>0.236333</td>\n",
       "      <td>0.171623</td>\n",
       "      <td>-0.034141</td>\n",
       "      <td>-0.067199</td>\n",
       "      <td>0</td>\n",
       "    </tr>\n",
       "    <tr>\n",
       "      <td>93788</td>\n",
       "      <td>-0.307413</td>\n",
       "      <td>-0.236222</td>\n",
       "      <td>1.080433</td>\n",
       "      <td>0.962831</td>\n",
       "      <td>-0.278065</td>\n",
       "      <td>2.743318</td>\n",
       "      <td>0.412364</td>\n",
       "      <td>-0.320778</td>\n",
       "      <td>0.041290</td>\n",
       "      <td>0.176170</td>\n",
       "      <td>...</td>\n",
       "      <td>-0.172659</td>\n",
       "      <td>-0.008996</td>\n",
       "      <td>-0.057036</td>\n",
       "      <td>-0.053692</td>\n",
       "      <td>-0.026373</td>\n",
       "      <td>0.400300</td>\n",
       "      <td>0.072828</td>\n",
       "      <td>0.027043</td>\n",
       "      <td>0.063238</td>\n",
       "      <td>1</td>\n",
       "    </tr>\n",
       "    <tr>\n",
       "      <td>16295</td>\n",
       "      <td>0.097813</td>\n",
       "      <td>-0.669674</td>\n",
       "      <td>1.236986</td>\n",
       "      <td>-0.166139</td>\n",
       "      <td>0.090760</td>\n",
       "      <td>0.185506</td>\n",
       "      <td>-0.026162</td>\n",
       "      <td>0.335124</td>\n",
       "      <td>-0.199717</td>\n",
       "      <td>0.052244</td>\n",
       "      <td>...</td>\n",
       "      <td>0.035273</td>\n",
       "      <td>-0.099764</td>\n",
       "      <td>-0.077329</td>\n",
       "      <td>-0.265990</td>\n",
       "      <td>-0.738330</td>\n",
       "      <td>0.682727</td>\n",
       "      <td>0.721433</td>\n",
       "      <td>-0.037730</td>\n",
       "      <td>-0.009590</td>\n",
       "      <td>0</td>\n",
       "    </tr>\n",
       "    <tr>\n",
       "      <td>88897</td>\n",
       "      <td>-0.292042</td>\n",
       "      <td>-0.262585</td>\n",
       "      <td>-5.267760</td>\n",
       "      <td>2.506719</td>\n",
       "      <td>-5.290925</td>\n",
       "      <td>4.886134</td>\n",
       "      <td>-3.343188</td>\n",
       "      <td>-1.100085</td>\n",
       "      <td>-5.810509</td>\n",
       "      <td>1.726343</td>\n",
       "      <td>...</td>\n",
       "      <td>-0.286043</td>\n",
       "      <td>0.764266</td>\n",
       "      <td>0.473262</td>\n",
       "      <td>0.548482</td>\n",
       "      <td>-0.156850</td>\n",
       "      <td>-0.710187</td>\n",
       "      <td>-0.366423</td>\n",
       "      <td>-1.486766</td>\n",
       "      <td>0.677664</td>\n",
       "      <td>1</td>\n",
       "    </tr>\n",
       "    <tr>\n",
       "      <td>8296</td>\n",
       "      <td>-0.293440</td>\n",
       "      <td>-0.864813</td>\n",
       "      <td>-2.125490</td>\n",
       "      <td>5.973556</td>\n",
       "      <td>-11.034727</td>\n",
       "      <td>9.007147</td>\n",
       "      <td>-1.689451</td>\n",
       "      <td>-2.854415</td>\n",
       "      <td>-7.810441</td>\n",
       "      <td>2.030870</td>\n",
       "      <td>...</td>\n",
       "      <td>1.493775</td>\n",
       "      <td>1.646518</td>\n",
       "      <td>-0.278485</td>\n",
       "      <td>-0.664841</td>\n",
       "      <td>-1.164555</td>\n",
       "      <td>1.701796</td>\n",
       "      <td>0.690806</td>\n",
       "      <td>2.119749</td>\n",
       "      <td>1.108933</td>\n",
       "      <td>1</td>\n",
       "    </tr>\n",
       "  </tbody>\n",
       "</table>\n",
       "<p>5 rows × 31 columns</p>\n",
       "</div>"
      ],
      "text/plain": [
       "        scaled_amount  scaled_time        V1        V2         V3        V4  \\\n",
       "223900       0.001118     0.691714  2.005042 -0.378692  -1.421355 -0.027702   \n",
       "93788       -0.307413    -0.236222  1.080433  0.962831  -0.278065  2.743318   \n",
       "16295        0.097813    -0.669674  1.236986 -0.166139   0.090760  0.185506   \n",
       "88897       -0.292042    -0.262585 -5.267760  2.506719  -5.290925  4.886134   \n",
       "8296        -0.293440    -0.864813 -2.125490  5.973556 -11.034727  9.007147   \n",
       "\n",
       "              V5        V6        V7        V8  ...       V20       V21  \\\n",
       "223900  0.283375  0.052051 -0.124195 -0.011909  ... -0.147245  0.114357   \n",
       "93788   0.412364 -0.320778  0.041290  0.176170  ... -0.172659 -0.008996   \n",
       "16295  -0.026162  0.335124 -0.199717  0.052244  ...  0.035273 -0.099764   \n",
       "88897  -3.343188 -1.100085 -5.810509  1.726343  ... -0.286043  0.764266   \n",
       "8296   -1.689451 -2.854415 -7.810441  2.030870  ...  1.493775  1.646518   \n",
       "\n",
       "             V22       V23       V24       V25       V26       V27       V28  \\\n",
       "223900  0.568401 -0.009595  0.289037  0.236333  0.171623 -0.034141 -0.067199   \n",
       "93788  -0.057036 -0.053692 -0.026373  0.400300  0.072828  0.027043  0.063238   \n",
       "16295  -0.077329 -0.265990 -0.738330  0.682727  0.721433 -0.037730 -0.009590   \n",
       "88897   0.473262  0.548482 -0.156850 -0.710187 -0.366423 -1.486766  0.677664   \n",
       "8296   -0.278485 -0.664841 -1.164555  1.701796  0.690806  2.119749  1.108933   \n",
       "\n",
       "        Class  \n",
       "223900      0  \n",
       "93788       1  \n",
       "16295       0  \n",
       "88897       1  \n",
       "8296        1  \n",
       "\n",
       "[5 rows x 31 columns]"
      ]
     },
     "execution_count": 33,
     "metadata": {},
     "output_type": "execute_result"
    }
   ],
   "source": [
    "Credit_card = Credit_card.sample(frac=1)\n",
    "\n",
    "# amount of fraud classes 492 rows.\n",
    "fraud_df = Credit_card.loc[Credit_card['Class'] == 1]\n",
    "non_fraud_df = Credit_card.loc[Credit_card['Class'] == 0][:492]\n",
    "\n",
    "normal_distributed_df = pd.concat([fraud_df, non_fraud_df])\n",
    "\n",
    "# Shuffle dataframe rows\n",
    "new_df = normal_distributed_df.sample(frac=1, random_state=42)\n",
    "\n",
    "new_df.head()"
   ]
  },
  {
   "cell_type": "code",
   "execution_count": 34,
   "metadata": {},
   "outputs": [
    {
     "name": "stdout",
     "output_type": "stream",
     "text": [
      "Distribution of the Classes in the subsample dataset\n",
      "1    0.5\n",
      "0    0.5\n",
      "Name: Class, dtype: float64\n"
     ]
    },
    {
     "data": {
      "image/png": "[encoded data removed]",
      "text/plain": [
       "<Figure size 432x288 with 1 Axes>"
      ]
     },
     "metadata": {
      "needs_background": "light"
     },
     "output_type": "display_data"
    }
   ],
   "source": [
    "print('Distribution of the Classes in the subsample dataset')\n",
    "print(new_df['Class'].value_counts()/len(new_df))\n",
    "\n",
    "sns.countplot('Class', data=new_df)\n",
    "plt.title('Equally Distributed Classes', fontsize=14)\n",
    "plt.show()"
   ]
  },
  {
   "cell_type": "markdown",
   "metadata": {},
   "source": [
    "### Use new dataset and train XGB"
   ]
  },
  {
   "cell_type": "code",
   "execution_count": 35,
   "metadata": {},
   "outputs": [],
   "source": [
    "X_train_new = new_df.iloc[:,:-1]\n",
    "y_train_new = new_df.iloc[:,-1]"
   ]
  },
  {
   "cell_type": "code",
   "execution_count": 37,
   "metadata": {},
   "outputs": [
    {
     "data": {
      "text/plain": [
       "XGBClassifier(base_score=0.5, booster='gbtree', colsample_bylevel=1,\n",
       "              colsample_bynode=1, colsample_bytree=1, gamma=0, gpu_id=-1,\n",
       "              importance_type='gain', interaction_constraints='',\n",
       "              learning_rate=0.300000012, max_delta_step=0, max_depth=6,\n",
       "              min_child_weight=1, missing=nan, monotone_constraints='()',\n",
       "              n_estimators=100, n_jobs=0, num_parallel_tree=1, random_state=0,\n",
       "              reg_alpha=0, reg_lambda=1, scale_pos_weight=1, subsample=1,\n",
       "              tree_method='exact', validate_parameters=1, verbosity=None)"
      ]
     },
     "execution_count": 37,
     "metadata": {},
     "output_type": "execute_result"
    }
   ],
   "source": [
    "clf_new = XGBClassifier()\n",
    "clf_new.fit(X_train_new, y_train_new)"
   ]
  },
  {
   "cell_type": "code",
   "execution_count": 38,
   "metadata": {},
   "outputs": [
    {
     "name": "stdout",
     "output_type": "stream",
     "text": [
      "F1 score:  0.10649627263045792\n",
      "Accuracy rate:  0.9705417646852288\n"
     ]
    }
   ],
   "source": [
    "\n",
    "y_pred = clf_new.predict(X_test)\n",
    "y_pred_proba = clf_new.predict_proba(X_test)\n",
    "f1_sco = f1_score(y_test,y_pred)\n",
    "auc_score = accuracy_score(y_test,y_pred)\n",
    "print(\"F1 score: \", f1_sco)\n",
    "print(\"Accuracy rate: \", auc_score)"
   ]
  },
  {
   "cell_type": "code",
   "execution_count": 39,
   "metadata": {},
   "outputs": [
    {
     "name": "stdout",
     "output_type": "stream",
     "text": [
      "              precision    recall  f1-score   support\n",
      "\n",
      "           0       1.00      0.97      0.99     56862\n",
      "           1       0.06      1.00      0.11       100\n",
      "\n",
      "    accuracy                           0.97     56962\n",
      "   macro avg       0.53      0.99      0.55     56962\n",
      "weighted avg       1.00      0.97      0.98     56962\n",
      "\n"
     ]
    }
   ],
   "source": [
    "print(classification_report(y_test, y_pred))"
   ]
  },
  {
   "cell_type": "code",
   "execution_count": 41,
   "metadata": {},
   "outputs": [
    {
     "name": "stdout",
     "output_type": "stream",
     "text": [
      "\n",
      "TPR for the two class [0.97048996 1.        ]\n",
      "TNR for the two class [1.         0.97048996]\n",
      "FPR for the two class [0.         0.02951004]\n",
      "FNR for the two class [0.02951004 0.        ]\n",
      "TP 100\n",
      "TN 55184\n",
      "FP 1678\n",
      "FN 0\n"
     ]
    },
    {
     "data": {
      "image/png": "[encoded data removed]",
      "text/plain": [
       "<Figure size 432x216 with 2 Axes>"
      ]
     },
     "metadata": {
      "needs_background": "light"
     },
     "output_type": "display_data"
    },
    {
     "name": "stdout",
     "output_type": "stream",
     "text": [
      "Accuracy: 0.9705417646852288\n",
      "Confusion matrix: [[55184  1678]\n",
      " [    0   100]]\n",
      "\n",
      "----------Classification Report------------------------------------\n",
      "              precision    recall  f1-score   support\n",
      "\n",
      "           0       1.00      0.97      0.99     56862\n",
      "           1       0.06      1.00      0.11       100\n",
      "\n",
      "    accuracy                           0.97     56962\n",
      "   macro avg       0.53      0.99      0.55     56962\n",
      "weighted avg       1.00      0.97      0.98     56962\n",
      "\n",
      "_________________________________________________________________________________________\n"
     ]
    }
   ],
   "source": [
    "#the partion for whole data\n",
    "print()\n",
    "model(XGBClassifier(),X_train_new, X_test, y_train_new, y_test)\n",
    "# here training for the undersample data but tatsing for whole data\n",
    "print(\"_________________________________________________________________________________________\")"
   ]
  },
  {
   "cell_type": "markdown",
   "metadata": {},
   "source": [
    "### Conclusion: Cannot get a good result by using RUS"
   ]
  },
  {
   "cell_type": "markdown",
   "metadata": {},
   "source": [
    "### Random overSampling technique on XGB model"
   ]
  },
  {
   "cell_type": "code",
   "execution_count": 42,
   "metadata": {},
   "outputs": [],
   "source": [
    "from imblearn.over_sampling import SMOTE\n",
    "from collections import Counter"
   ]
  },
  {
   "cell_type": "code",
   "execution_count": 43,
   "metadata": {},
   "outputs": [],
   "source": [
    "## Randomly split the data\n",
    "X_train, X_test, y_train, y_test = train_test_split(df_x, Class, test_size=0.2, random_state=3)\n",
    "\n",
    "# transform the dataset\n",
    "oversample = SMOTE()\n",
    "X_train, y_train = oversample.fit_resample(X_train, y_train)"
   ]
  },
  {
   "cell_type": "code",
   "execution_count": 44,
   "metadata": {},
   "outputs": [],
   "source": [
    "y1 = pd.DataFrame(y_train)"
   ]
  },
  {
   "cell_type": "code",
   "execution_count": 45,
   "metadata": {},
   "outputs": [
    {
     "data": {
      "text/html": [
       "<div>\n",
       "<style scoped>\n",
       "    .dataframe tbody tr th:only-of-type {\n",
       "        vertical-align: middle;\n",
       "    }\n",
       "\n",
       "    .dataframe tbody tr th {\n",
       "        vertical-align: top;\n",
       "    }\n",
       "\n",
       "    .dataframe thead th {\n",
       "        text-align: right;\n",
       "    }\n",
       "</style>\n",
       "<table border=\"1\" class=\"dataframe\">\n",
       "  <thead>\n",
       "    <tr style=\"text-align: right;\">\n",
       "      <th></th>\n",
       "      <th>Class</th>\n",
       "    </tr>\n",
       "    <tr>\n",
       "      <th>Class</th>\n",
       "      <th></th>\n",
       "    </tr>\n",
       "  </thead>\n",
       "  <tbody>\n",
       "    <tr>\n",
       "      <td>0</td>\n",
       "      <td>227453</td>\n",
       "    </tr>\n",
       "    <tr>\n",
       "      <td>1</td>\n",
       "      <td>227453</td>\n",
       "    </tr>\n",
       "  </tbody>\n",
       "</table>\n",
       "</div>"
      ],
      "text/plain": [
       "        Class\n",
       "Class        \n",
       "0      227453\n",
       "1      227453"
      ]
     },
     "execution_count": 45,
     "metadata": {},
     "output_type": "execute_result"
    }
   ],
   "source": [
    "y1.groupby('Class')[['Class']].count()"
   ]
  },
  {
   "cell_type": "code",
   "execution_count": 46,
   "metadata": {},
   "outputs": [
    {
     "data": {
      "text/plain": [
       "XGBClassifier(base_score=0.5, booster='gbtree', colsample_bylevel=1,\n",
       "              colsample_bynode=1, colsample_bytree=1, gamma=0, gpu_id=-1,\n",
       "              importance_type='gain', interaction_constraints='',\n",
       "              learning_rate=0.300000012, max_delta_step=0, max_depth=6,\n",
       "              min_child_weight=1, missing=nan, monotone_constraints='()',\n",
       "              n_estimators=100, n_jobs=0, num_parallel_tree=1, random_state=0,\n",
       "              reg_alpha=0, reg_lambda=1, scale_pos_weight=1, subsample=1,\n",
       "              tree_method='exact', validate_parameters=1, verbosity=None)"
      ]
     },
     "execution_count": 46,
     "metadata": {},
     "output_type": "execute_result"
    }
   ],
   "source": [
    "clf = XGBClassifier()\n",
    "clf.fit(X_train, y_train)"
   ]
  },
  {
   "cell_type": "code",
   "execution_count": 20,
   "metadata": {},
   "outputs": [
    {
     "name": "stdout",
     "output_type": "stream",
     "text": [
      "F1 score:  0.8133971291866028\n",
      "Accuracy rate:  0.9993153330290369\n"
     ]
    }
   ],
   "source": [
    "y_pred = clf.predict(X_test)\n",
    "y_pred_proba = clf.predict_proba(X_test)\n",
    "f1_sco = f1_score(y_test,y_pred)\n",
    "auc_score = accuracy_score(y_test,y_pred)\n",
    "print(\"F1 score: \", f1_sco)\n",
    "print(\"Accuracy rate: \", auc_score)"
   ]
  },
  {
   "cell_type": "code",
   "execution_count": 21,
   "metadata": {},
   "outputs": [
    {
     "name": "stdout",
     "output_type": "stream",
     "text": [
      "              precision    recall  f1-score   support\n",
      "\n",
      "           0   0.999736  0.999578  0.999657     56862\n",
      "           1   0.779817  0.850000  0.813397       100\n",
      "\n",
      "    accuracy                       0.999315     56962\n",
      "   macro avg   0.889776  0.924789  0.906527     56962\n",
      "weighted avg   0.999350  0.999315  0.999330     56962\n",
      "\n"
     ]
    }
   ],
   "source": [
    "print(classification_report(y_test, y_pred,digits=6))"
   ]
  },
  {
   "cell_type": "code",
   "execution_count": 47,
   "metadata": {},
   "outputs": [
    {
     "name": "stdout",
     "output_type": "stream",
     "text": [
      "\n",
      "TPR for the two class [0.99945482 0.86      ]\n",
      "TNR for the two class [0.86       0.99945482]\n",
      "FPR for the two class [0.14       0.00054518]\n",
      "FNR for the two class [0.00054518 0.14      ]\n",
      "TP 86\n",
      "TN 56831\n",
      "FP 31\n",
      "FN 14\n"
     ]
    },
    {
     "data": {
      "image/png": "[encoded data removed]",
      "text/plain": [
       "<Figure size 432x216 with 2 Axes>"
      ]
     },
     "metadata": {
      "needs_background": "light"
     },
     "output_type": "display_data"
    },
    {
     "name": "stdout",
     "output_type": "stream",
     "text": [
      "Accuracy: 0.9992099996488887\n",
      "Confusion matrix: [[56831    31]\n",
      " [   14    86]]\n",
      "\n",
      "----------Classification Report------------------------------------\n",
      "              precision    recall  f1-score   support\n",
      "\n",
      "           0       1.00      1.00      1.00     56862\n",
      "           1       0.74      0.86      0.79       100\n",
      "\n",
      "    accuracy                           1.00     56962\n",
      "   macro avg       0.87      0.93      0.90     56962\n",
      "weighted avg       1.00      1.00      1.00     56962\n",
      "\n",
      "_________________________________________________________________________________________\n"
     ]
    }
   ],
   "source": [
    "#the partion for whole data\n",
    "print()\n",
    "model(XGBClassifier(),X_train, X_test, y_train, y_test)\n",
    "# here training for the undersample data but tatsing for whole data\n",
    "print(\"_________________________________________________________________________________________\")"
   ]
  },
  {
   "cell_type": "markdown",
   "metadata": {},
   "source": [
    "### Conclusion: the result shows that after using ROC, our model performance looks great."
   ]
  },
  {
   "cell_type": "markdown",
   "metadata": {},
   "source": [
    "## Turn XGB model performace parameter based on cross validation"
   ]
  },
  {
   "cell_type": "code",
   "execution_count": 41,
   "metadata": {
    "collapsed": true
   },
   "outputs": [],
   "source": [
    "## Set the initial parameter\n",
    "model = XGBClassifier(learning_rate=0.300000012,\n",
    "                      n_estimators=100,           \n",
    "                      max_depth=6,               \n",
    "                      min_child_weight = 1,      \n",
    "                      gamma=0.,                  \n",
    "                      subsample= 1,                   \n",
    "                      scale_pos_weight=1,        \n",
    "                      random_state=0,\n",
    "                      )"
   ]
  },
  {
   "cell_type": "code",
   "execution_count": 42,
   "metadata": {},
   "outputs": [
    {
     "data": {
      "text/plain": [
       "GridSearchCV(cv=5,\n",
       "             estimator=XGBClassifier(base_score=None, booster=None,\n",
       "                                     colsample_bylevel=None,\n",
       "                                     colsample_bynode=None,\n",
       "                                     colsample_bytree=None, gamma=0.0,\n",
       "                                     gpu_id=None, importance_type='gain',\n",
       "                                     interaction_constraints=None,\n",
       "                                     learning_rate=0.300000012,\n",
       "                                     max_delta_step=None, max_depth=6,\n",
       "                                     min_child_weight=1, missing=nan,\n",
       "                                     monotone_constraints=None,\n",
       "                                     n_estimators=100, n_jobs=None,\n",
       "                                     num_parallel_tree=None, random_state=0,\n",
       "                                     reg_alpha=None, reg_lambda=None,\n",
       "                                     scale_pos_weight=1, subsample=1,\n",
       "                                     tree_method=None, validate_parameters=None,\n",
       "                                     verbosity=None),\n",
       "             param_grid={'learning_rate': [0.1, 0.2, 0.300000012],\n",
       "                         'max_depth': [5, 6, 7], 'n_estimators': [100, 200]},\n",
       "             scoring='accuracy')"
      ]
     },
     "execution_count": 42,
     "metadata": {},
     "output_type": "execute_result"
    }
   ],
   "source": [
    "param_test = {\n",
    "    'n_estimators': list(range(100, 300,100)),\n",
    "    'max_depth': list(range(5, 8, 1)),\n",
    "    'learning_rate':  [0.1,0.2,0.300000012]\n",
    "}\n",
    "grid_search = GridSearchCV(estimator = model, param_grid = param_test, \n",
    "scoring='accuracy', cv=5)\n",
    "grid_search.fit(X_train, y_train)\n"
   ]
  },
  {
   "cell_type": "markdown",
   "metadata": {
    "collapsed": true
   },
   "source": [
    "### Warning: if you want to run the code chunk below. You should run about 2 hours"
   ]
  },
  {
   "cell_type": "code",
   "execution_count": 43,
   "metadata": {},
   "outputs": [
    {
     "data": {
      "text/plain": [
       "({'mean_fit_time': array([ 41.53203907,  89.56298556,  48.91545844,  87.71751547,\n",
       "          50.78208756, 101.66982293,  37.0730566 ,  70.72200685,\n",
       "          43.20697765,  79.13098245,  47.95204   ,  89.08022237,\n",
       "          34.14792237,  66.0519372 ,  40.33389707,  74.13720574,\n",
       "          45.15862498,  82.62068501]),\n",
       "  'std_fit_time': array([ 1.2152014 , 10.43434933,  5.3316885 ,  2.47876532,  2.21768201,\n",
       "          3.7613283 ,  3.21737596,  5.59384889,  2.00858052,  0.50610887,\n",
       "          0.56939002,  1.31210661,  0.31774497,  0.4369143 ,  0.63402898,\n",
       "          1.26438456,  0.36187056,  1.99139073]),\n",
       "  'mean_score_time': array([0.19448767, 0.29588227, 0.18104491, 0.28310313, 0.17785764,\n",
       "         0.31260161, 0.16355901, 0.24713173, 0.17718859, 0.25891294,\n",
       "         0.19072585, 0.28387289, 0.16009808, 0.23981962, 0.16760445,\n",
       "         0.24911146, 0.18172922, 0.28073945]),\n",
       "  'std_score_time': array([0.01993381, 0.02081845, 0.01386962, 0.02705434, 0.00358533,\n",
       "         0.02052486, 0.00867536, 0.01880941, 0.00394175, 0.00728482,\n",
       "         0.00263432, 0.00566382, 0.00306394, 0.01363191, 0.00946696,\n",
       "         0.0029593 , 0.00617136, 0.00971437]),\n",
       "  'param_learning_rate': masked_array(data=[0.1, 0.1, 0.1, 0.1, 0.1, 0.1, 0.2, 0.2, 0.2, 0.2, 0.2,\n",
       "                     0.2, 0.300000012, 0.300000012, 0.300000012,\n",
       "                     0.300000012, 0.300000012, 0.300000012],\n",
       "               mask=[False, False, False, False, False, False, False, False,\n",
       "                     False, False, False, False, False, False, False, False,\n",
       "                     False, False],\n",
       "         fill_value='?',\n",
       "              dtype=object),\n",
       "  'param_max_depth': masked_array(data=[5, 5, 6, 6, 7, 7, 5, 5, 6, 6, 7, 7, 5, 5, 6, 6, 7, 7],\n",
       "               mask=[False, False, False, False, False, False, False, False,\n",
       "                     False, False, False, False, False, False, False, False,\n",
       "                     False, False],\n",
       "         fill_value='?',\n",
       "              dtype=object),\n",
       "  'param_n_estimators': masked_array(data=[100, 200, 100, 200, 100, 200, 100, 200, 100, 200, 100,\n",
       "                     200, 100, 200, 100, 200, 100, 200],\n",
       "               mask=[False, False, False, False, False, False, False, False,\n",
       "                     False, False, False, False, False, False, False, False,\n",
       "                     False, False],\n",
       "         fill_value='?',\n",
       "              dtype=object),\n",
       "  'params': [{'learning_rate': 0.1, 'max_depth': 5, 'n_estimators': 100},\n",
       "   {'learning_rate': 0.1, 'max_depth': 5, 'n_estimators': 200},\n",
       "   {'learning_rate': 0.1, 'max_depth': 6, 'n_estimators': 100},\n",
       "   {'learning_rate': 0.1, 'max_depth': 6, 'n_estimators': 200},\n",
       "   {'learning_rate': 0.1, 'max_depth': 7, 'n_estimators': 100},\n",
       "   {'learning_rate': 0.1, 'max_depth': 7, 'n_estimators': 200},\n",
       "   {'learning_rate': 0.2, 'max_depth': 5, 'n_estimators': 100},\n",
       "   {'learning_rate': 0.2, 'max_depth': 5, 'n_estimators': 200},\n",
       "   {'learning_rate': 0.2, 'max_depth': 6, 'n_estimators': 100},\n",
       "   {'learning_rate': 0.2, 'max_depth': 6, 'n_estimators': 200},\n",
       "   {'learning_rate': 0.2, 'max_depth': 7, 'n_estimators': 100},\n",
       "   {'learning_rate': 0.2, 'max_depth': 7, 'n_estimators': 200},\n",
       "   {'learning_rate': 0.300000012, 'max_depth': 5, 'n_estimators': 100},\n",
       "   {'learning_rate': 0.300000012, 'max_depth': 5, 'n_estimators': 200},\n",
       "   {'learning_rate': 0.300000012, 'max_depth': 6, 'n_estimators': 100},\n",
       "   {'learning_rate': 0.300000012, 'max_depth': 6, 'n_estimators': 200},\n",
       "   {'learning_rate': 0.300000012, 'max_depth': 7, 'n_estimators': 100},\n",
       "   {'learning_rate': 0.300000012, 'max_depth': 7, 'n_estimators': 200}],\n",
       "  'split0_test_score': array([0.99527374, 0.99916466, 0.99730713, 0.99956035, 0.99875798,\n",
       "         0.99975819, 0.99893384, 0.9997472 , 0.99958233, 0.99976918,\n",
       "         0.99970323, 0.99983513, 0.99957134, 0.99982414, 0.99976918,\n",
       "         0.99983513, 0.99978017, 0.99985711]),\n",
       "  'split1_test_score': array([0.99448236, 0.99892285, 0.99755993, 0.99954936, 0.99865906,\n",
       "         0.99967026, 0.99893384, 0.9996153 , 0.99946143, 0.99972522,\n",
       "         0.9996263 , 0.99978017, 0.9994944 , 0.99969224, 0.99967026,\n",
       "         0.9997472 , 0.99972522, 0.99980216]),\n",
       "  'split2_test_score': array([0.99520779, 0.99894483, 0.99751596, 0.99954936, 0.99872501,\n",
       "         0.9997472 , 0.99921962, 0.99972522, 0.99959332, 0.99973621,\n",
       "         0.99963729, 0.99976918, 0.9994944 , 0.99967026, 0.99975819,\n",
       "         0.99976918, 0.99972522, 0.99973621]),\n",
       "  'split3_test_score': array([0.99535068, 0.99929656, 0.99798859, 0.99965927, 0.998736  ,\n",
       "         0.9997472 , 0.99927457, 0.99978017, 0.99957134, 0.99976918,\n",
       "         0.99976918, 0.99982414, 0.9996263 , 0.99975819, 0.99975819,\n",
       "         0.99981315, 0.99976918, 0.99981315]),\n",
       "  'split4_test_score': array([0.99527369, 0.99910969, 0.99739503, 0.99941745, 0.99877995,\n",
       "         0.99964827, 0.99906573, 0.99967026, 0.99945043, 0.99972521,\n",
       "         0.99965927, 0.99980215, 0.99954935, 0.99976918, 0.99963728,\n",
       "         0.9997472 , 0.99972521, 0.99978017]),\n",
       "  'mean_test_score': array([0.99511765, 0.99908772, 0.99755333, 0.99954716, 0.9987316 ,\n",
       "         0.99971423, 0.99908552, 0.99970763, 0.99953177, 0.999745  ,\n",
       "         0.99967905, 0.99980216, 0.99954716, 0.9997428 , 0.99971862,\n",
       "         0.99978237, 0.999745  , 0.99979776]),\n",
       "  'std_test_score': array([3.20850726e-04, 1.39723358e-04, 2.35186981e-04, 7.69098906e-05,\n",
       "         4.08868497e-05, 4.55852325e-05, 1.41510949e-04, 5.84097152e-05,\n",
       "         6.24105151e-05, 2.01479897e-05, 5.22060943e-05, 2.50640337e-05,\n",
       "         4.98379843e-05, 5.54377960e-05, 5.41159416e-05, 3.57180637e-05,\n",
       "         2.44792887e-05, 3.96908530e-05]),\n",
       "  'rank_test_score': array([18, 14, 17, 12, 16,  8, 15,  9, 13,  4, 10,  1, 11,  6,  7,  3,  4,\n",
       "          2], dtype=int32)},\n",
       " {'learning_rate': 0.2, 'max_depth': 7, 'n_estimators': 200},\n",
       " 0.9998021560592966)"
      ]
     },
     "execution_count": 43,
     "metadata": {},
     "output_type": "execute_result"
    }
   ],
   "source": [
    "grid_search.cv_results_, grid_search.best_params_, grid_search.best_score_"
   ]
  },
  {
   "cell_type": "code",
   "execution_count": 9,
   "metadata": {},
   "outputs": [
    {
     "data": {
      "text/plain": [
       "XGBClassifier(base_score=0.5, booster='gbtree', colsample_bylevel=1,\n",
       "              colsample_bynode=1, colsample_bytree=1, gamma=0.0, gpu_id=-1,\n",
       "              importance_type='gain', interaction_constraints='',\n",
       "              learning_rate=0.2, max_delta_step=0, max_depth=7,\n",
       "              min_child_weight=1, missing=nan, monotone_constraints='()',\n",
       "              n_estimators=200, n_jobs=0, num_parallel_tree=1, random_state=0,\n",
       "              reg_alpha=0, reg_lambda=1, scale_pos_weight=1, subsample=1,\n",
       "              tree_method='exact', validate_parameters=1, verbosity=None)"
      ]
     },
     "execution_count": 9,
     "metadata": {},
     "output_type": "execute_result"
    }
   ],
   "source": [
    "clf = XGBClassifier(learning_rate=0.2,\n",
    "                      n_estimators=200,           \n",
    "                      max_depth= 7,               \n",
    "                      min_child_weight = 1,      \n",
    "                      gamma=0.,                  \n",
    "                      subsample= 1,                   \n",
    "                      scale_pos_weight=1,        \n",
    "                      random_state=0,         \n",
    "                      )\n",
    "clf.fit(X_train, y_train)"
   ]
  },
  {
   "cell_type": "code",
   "execution_count": 10,
   "metadata": {},
   "outputs": [
    {
     "name": "stdout",
     "output_type": "stream",
     "text": [
      "F1 score:  0.8351648351648352\n",
      "Accuracy rate:  0.9994733330992591\n"
     ]
    }
   ],
   "source": [
    "\n",
    "y_pred = clf.predict(X_test)\n",
    "y_pred_proba = clf.predict_proba(X_test)\n",
    "f1_sco = f1_score(y_test,y_pred)\n",
    "auc_score = accuracy_score(y_test,y_pred)\n",
    "print(\"F1 score: \", f1_sco)\n",
    "print(\"Accuracy rate: \", auc_score)"
   ]
  },
  {
   "cell_type": "code",
   "execution_count": 11,
   "metadata": {},
   "outputs": [
    {
     "name": "stdout",
     "output_type": "stream",
     "text": [
      "              precision    recall  f1-score   support\n",
      "\n",
      "           0   0.999578  0.999894  0.999736     56862\n",
      "           1   0.926829  0.760000  0.835165       100\n",
      "\n",
      "    accuracy                       0.999473     56962\n",
      "   macro avg   0.963204  0.879947  0.917451     56962\n",
      "weighted avg   0.999450  0.999473  0.999447     56962\n",
      "\n"
     ]
    }
   ],
   "source": [
    "print(classification_report(y_test, y_pred,digits=6))"
   ]
  },
  {
   "cell_type": "code",
   "execution_count": 12,
   "metadata": {},
   "outputs": [
    {
     "name": "stdout",
     "output_type": "stream",
     "text": [
      "Importances： [0.01185079 0.0164804  0.02294668 0.01860358 0.01998427 0.02782559\n",
      " 0.01676363 0.01568776 0.02497988 0.01877984 0.01457585 0.05414674\n",
      " 0.01325168 0.02295587 0.01585524 0.06602052 0.01659271 0.01401856\n",
      " 0.40744814 0.01752073 0.0146598  0.01708733 0.01985602 0.01065473\n",
      " 0.01284759 0.01249018 0.00966335 0.02156753 0.03236542 0.01251957]\n"
     ]
    }
   ],
   "source": [
    "Columns_name = list(X_train.columns)\n",
    "# feature_importances_  \n",
    "importances = clf.feature_importances_\n",
    "print(\"Importances：\",importances)\n",
    "# Change into dataframe for easier further maniputation \n",
    "Columns_name = pd.DataFrame(Columns_name)\n",
    "importances= pd.DataFrame(importances)\n",
    "# rename\n",
    "Columns_name.rename(columns={0:'Columns name'},inplace = True)\n",
    "importances.rename(columns={0:'importances'},inplace = True)\n",
    "\n",
    "df_import = pd.concat([Columns_name,importances], axis=1)"
   ]
  },
  {
   "cell_type": "code",
   "execution_count": 13,
   "metadata": {},
   "outputs": [
    {
     "data": {
      "text/html": [
       "<div>\n",
       "<style scoped>\n",
       "    .dataframe tbody tr th:only-of-type {\n",
       "        vertical-align: middle;\n",
       "    }\n",
       "\n",
       "    .dataframe tbody tr th {\n",
       "        vertical-align: top;\n",
       "    }\n",
       "\n",
       "    .dataframe thead th {\n",
       "        text-align: right;\n",
       "    }\n",
       "</style>\n",
       "<table border=\"1\" class=\"dataframe\">\n",
       "  <thead>\n",
       "    <tr style=\"text-align: right;\">\n",
       "      <th></th>\n",
       "      <th>Columns name</th>\n",
       "      <th>importances</th>\n",
       "    </tr>\n",
       "  </thead>\n",
       "  <tbody>\n",
       "    <tr>\n",
       "      <td>18</td>\n",
       "      <td>V17</td>\n",
       "      <td>0.407448</td>\n",
       "    </tr>\n",
       "    <tr>\n",
       "      <td>15</td>\n",
       "      <td>V14</td>\n",
       "      <td>0.066021</td>\n",
       "    </tr>\n",
       "    <tr>\n",
       "      <td>11</td>\n",
       "      <td>V10</td>\n",
       "      <td>0.054147</td>\n",
       "    </tr>\n",
       "    <tr>\n",
       "      <td>28</td>\n",
       "      <td>V27</td>\n",
       "      <td>0.032365</td>\n",
       "    </tr>\n",
       "    <tr>\n",
       "      <td>5</td>\n",
       "      <td>V4</td>\n",
       "      <td>0.027826</td>\n",
       "    </tr>\n",
       "    <tr>\n",
       "      <td>8</td>\n",
       "      <td>V7</td>\n",
       "      <td>0.024980</td>\n",
       "    </tr>\n",
       "    <tr>\n",
       "      <td>13</td>\n",
       "      <td>V12</td>\n",
       "      <td>0.022956</td>\n",
       "    </tr>\n",
       "    <tr>\n",
       "      <td>2</td>\n",
       "      <td>V1</td>\n",
       "      <td>0.022947</td>\n",
       "    </tr>\n",
       "    <tr>\n",
       "      <td>27</td>\n",
       "      <td>V26</td>\n",
       "      <td>0.021568</td>\n",
       "    </tr>\n",
       "    <tr>\n",
       "      <td>4</td>\n",
       "      <td>V3</td>\n",
       "      <td>0.019984</td>\n",
       "    </tr>\n",
       "  </tbody>\n",
       "</table>\n",
       "</div>"
      ],
      "text/plain": [
       "   Columns name  importances\n",
       "18          V17     0.407448\n",
       "15          V14     0.066021\n",
       "11          V10     0.054147\n",
       "28          V27     0.032365\n",
       "5            V4     0.027826\n",
       "8            V7     0.024980\n",
       "13          V12     0.022956\n",
       "2            V1     0.022947\n",
       "27          V26     0.021568\n",
       "4            V3     0.019984"
      ]
     },
     "execution_count": 13,
     "metadata": {},
     "output_type": "execute_result"
    }
   ],
   "source": [
    "# Order the important from higher values to smaller values\n",
    "df_import = df_import.sort_values(by ='importances',ascending = False)\n",
    "df_import.iloc[0:10,]"
   ]
  }
 ],
 "metadata": {
  "celltoolbar": "Raw Cell Format",
  "kernelspec": {
   "display_name": "Python 3",
   "language": "python",
   "name": "python3"
  },
  "language_info": {
   "codemirror_mode": {
    "name": "ipython",
    "version": 3
   },
   "file_extension": ".py",
   "mimetype": "text/x-python",
   "name": "python",
   "nbconvert_exporter": "python",
   "pygments_lexer": "ipython3",
   "version": "3.7.4"
  }
 },
 "nbformat": 4,
 "nbformat_minor": 2
}
